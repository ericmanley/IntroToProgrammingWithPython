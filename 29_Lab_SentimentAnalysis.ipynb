{
 "cells": [
  {
   "cell_type": "markdown",
   "id": "00fee35d",
   "metadata": {},
   "source": [
    "# Lab: Sentiment Analysis Program"
   ]
  },
  {
   "attachments": {},
   "cell_type": "markdown",
   "id": "c4786b54",
   "metadata": {},
   "source": [
    "This lab is a little different than the other labs we've done so far. The purpose of this lab is to get some experience dividing up a larger problem into several smaller ones that can each be isolated as a separate function. We'll also continue to add new functions with new program features in the next lab.\n",
    "\n",
    "The program you are going to write solves an important proble in the field of artificial intelligence and machine learning - you will create a _sentiment analyzer_. \n",
    "\n",
    "Sentiment Analysis is the problem of automatically detecting the general attitude behind a piece of written text. For example, does the text have a positive or negative attitude? Is it sarcastic? Is it a comment or a question? Is the mood happy, sad, angry, frustrated, etc.? A sentiment analyzer can help an organization sift through comments users have left on their website comment form, help flag Amazon product reviews that need a response from customer service, or help political campaigns get a feeling for what kinds of Tweets people are making on a candidate or issue. \n",
    "\n",
    "Our sentiment analyzer is going to automatically determine whether a movie review has a _positive_ or _negative_ sentiment. The effect is something like this:\n",
    "\n",
    "<p>\n",
    "<div>\n",
    "<img src=\"images/user_interaction_movies.png\" width=\"800\"/>\n",
    "</div>\n",
    "</p>\n",
    "\n",
    "Our sentiment analyzer will work by first determining the sentiment of each word in the review based on how it is used in sample movie reviews which have already been scored on range of 0 to 4 (with 0 being the most negative, 4 being the most positive, and 2 being neutral). The good news is that you already did this in the __CSV Files and Text Analysis__ lab using the Rotten Tomatoes movie reviews data.\n",
    "\n",
    "Once we have a sentiment score for each word, the sentiment for an _entire review_ will simply be the average of the word sentiment scores. If the score for the whole review is 2 or greater, we'll call that a positive review; and if it is less than 2, it will be considered negative."
   ]
  },
  {
   "cell_type": "markdown",
   "id": "ec6bfcc2",
   "metadata": {},
   "source": [
    "#### Exercise 1: Splitting up our previous code into two functions\n",
    "\n",
    "For the __CSV Files and Text Analysis__ lab, you wrote a program that asked the user for a word and then used that word to print out the average number of stars for reviews containing that word. Start by breaking this code up into two functions: `get_2D_list_from_csv` and `word_score`.\n",
    "\n",
    "A word's sentiment score (the average number of stars for reviews containing that word) should be returned by the `word_score` function. To turn this into a function, we'll take out the `input` and `print` statements, and instead create a function which takes a word (a string) and the 2D list from the `movie_reviews.csv` file as an argument. It then returns the score you calculated (a float). \n",
    "\n",
    "The `get_2D_list_from_csv` function has been completed for you below, and the `word_score` function has been started."
   ]
  },
  {
   "cell_type": "code",
   "execution_count": null,
   "id": "49043d5a",
   "metadata": {},
   "outputs": [],
   "source": [
    "import csv\n",
    "\n",
    "def get_2D_list_from_csv(filename):\n",
    "    \"\"\"\n",
    "    Reads a CSV file into a 2D list and returns it\n",
    "    \n",
    "    Parameter:\n",
    "        filename: a string, the name of a csv file\n",
    "        \n",
    "    Returns: a 2D list representing the contents of the file\n",
    "    \"\"\"\n",
    "    with open(filename) as fileobject:\n",
    "        csvreaderobject = csv.reader(fileobject)\n",
    "        list_from_csv = list(csvreaderobject)\n",
    "    return list_from_csv\n",
    "\n",
    "def word_score(word,reviews_2d_list):\n",
    "    \"\"\"\n",
    "    Calculates the sentiment score of a word on a scale of 0 to 4 with\n",
    "    0 being very negative and 4 being very positive.\n",
    "    \n",
    "    Parameters:\n",
    "        word: a string, the word to be scored\n",
    "        reviews_2d_list: a 2d list of sample reviews that have been given sentiment scores\n",
    "                the first column is the sentiment score of 0 to 4\n",
    "                the second column is the text of the review\n",
    "    Returns:\n",
    "        a float representing word's sentiment\n",
    "        if the word does not appear in the sample reviews, a negative number is returned to\n",
    "        indicate that the word cannot be scored\n",
    "    \"\"\"\n",
    "    "
   ]
  },
  {
   "attachments": {},
   "cell_type": "markdown",
   "id": "1b62d47e",
   "metadata": {},
   "source": [
    "Note that in the docstring it says it will return a negative number if the word isn't present in any of the sample reviews - that's something you'll need to check for.\n",
    "\n",
    "When you have these two functions working, you should be able to test them in the interactive shell like this:\n",
    "\n",
    "<p>\n",
    "<div>\n",
    "<img src=\"images/wordscore_test.png\" width=\"800\"/>\n",
    "</div>\n",
    "</p>\n"
   ]
  },
  {
   "cell_type": "code",
   "execution_count": null,
   "id": "b6d86b66",
   "metadata": {},
   "outputs": [],
   "source": [
    "reviews = get_2D_list_from_csv(\"movie_reviews.csv\")\n",
    "print(\"horrible:\", word_score(\"horrible\",reviews) )\n",
    "print(\"amazing:\", word_score(\"amazing\",reviews) )\n",
    "print(\"breathtaking:\", word_score(\"breathtaking\",reviews) )\n",
    "print(\"ok:\", word_score(\"ok\",reviews) )\n",
    "print(\"mediocre:\", word_score(\"mediocre\",reviews) )\n",
    "print(\"nonexistantword:\", word_score(\"nonexistantword\",reviews) )"
   ]
  },
  {
   "cell_type": "markdown",
   "id": "ab1772ab",
   "metadata": {},
   "source": [
    "#### Exercise 2: Scoring a whole review\n",
    "\n",
    "Next, write a function called `text_score()` with one parameter - the text of a new review that needs to be scored. The function definition should start like this:"
   ]
  },
  {
   "cell_type": "code",
   "execution_count": null,
   "id": "f4bcdcda",
   "metadata": {},
   "outputs": [],
   "source": [
    "def text_score(text):\n",
    "    \"\"\"\n",
    "    Calculates the sentiment score of a phrase/sentence/paragraph\n",
    "    which is made up of many words\n",
    "    \n",
    "    Parameters:\n",
    "        text: a string, the text of a new review we want to find the sentiment of\n",
    "        \n",
    "    Returns: a float representing the text's sentiment\n",
    "    \"\"\"\n",
    "    \n",
    "    reviews = get_2D_list_from_csv(\"movie_reviews.csv\") #step 1\n",
    "    #complete steps 2-4 here"
   ]
  },
  {
   "cell_type": "markdown",
   "id": "8ec92ce1",
   "metadata": {},
   "source": [
    "This function will need to do the following things:\n",
    "1. Load the `movie_reviews.csv` file into a 2D list (actually, I'd suggest making this a separate function, but you can call it in here)\n",
    "2. Split the new review text (i.e., the parameter `text`) into a list so you can treat each word separately\n",
    "3. Loop through this list, doing the following with each word:\n",
    "    - call `word_score()` on the word\n",
    "    - check if it actually scored it or returned a negative value\n",
    "    - if it did score it, add its score on to an accumulator variable, and add 1 to a counter to keep track of how many words were scored\n",
    "4. After the loop finishes, use your accumulator and counter to compute the average score for all the words from the new review text list and return it (be careful - if you didn't score any words, this could end up in a divide-by-zero error, so check for that edge case - return a negative number if you couldn't)\n",
    "\n",
    "For step 2, remember that you can use the string's `split` method to break apart a string into a list of words like this:"
   ]
  },
  {
   "cell_type": "code",
   "execution_count": 1,
   "id": "d487ce4e",
   "metadata": {},
   "outputs": [
    {
     "name": "stdout",
     "output_type": "stream",
     "text": [
      "['it', 'brought', 'tears', 'to', 'my', 'eyes']\n"
     ]
    }
   ],
   "source": [
    "example_text = \"it brought tears to my eyes\"\n",
    "example_text_list = example_text.split(\" \")\n",
    "print(example_text_list)"
   ]
  },
  {
   "cell_type": "markdown",
   "id": "8d0c561e",
   "metadata": {},
   "source": [
    "You may be thinking \"Why are we loading the `movie_reviews.csv` file here instead of in `word_score()` where we need that data?\" Indeed, that's a way you _could_ do it. However, if you open the file and read all the data from it once for each word, that's a lot of work you're re-doing over and over again. Reading from files is a slow thing for computers to do, so if we need that same list many times, it's better to read it in once and then just pass it as an argument to any function that needs it."
   ]
  },
  {
   "attachments": {},
   "cell_type": "markdown",
   "id": "36505937",
   "metadata": {},
   "source": [
    "You should perform some unit tests on your `text_score` function. Here are some examples of statements you could add to the end of your `.py` file that would do run it on some example reviews.\n",
    "\n",
    "<p>\n",
    "<div>\n",
    "<img src=\"images/textscore_test.png\" width=\"800\"/>\n",
    "</div>\n",
    "</p>"
   ]
  },
  {
   "cell_type": "code",
   "execution_count": null,
   "id": "c2cbe520",
   "metadata": {},
   "outputs": [],
   "source": [
    "print(text_score(\"it made me want to poke out my eyeballs\"))\n",
    "print(text_score(\"it brought tears to my eyes\"))"
   ]
  },
  {
   "attachments": {},
   "cell_type": "markdown",
   "id": "a0456afc",
   "metadata": {},
   "source": [
    "#### Exercise 3: Write a function for user interaction\n",
    "\n",
    "Create a function that interacts with the user, allowing them to type in a phrase and then telling them the sentiment of what they typed. This is a good place to put all of your `input` and `print` statements. Here is an example of what this could look like if you ran it in script mode, though feel free to just do it here in the notebook in interactive mode, and get creative in how you present it:\n",
    "\n",
    "<p>\n",
    "<div>\n",
    "<img src=\"images/user_interaction_movies.png\" width=\"800\"/>\n",
    "</div>\n",
    "</p>\n"
   ]
  },
  {
   "cell_type": "markdown",
   "id": "a35d117c",
   "metadata": {},
   "source": [
    "Make sure that you call your user-interaction function in order to kick off the execution of this program.\n",
    "\n",
    "Congrats! You've created your first program that uses functions to divide a big problem into several smaller ones."
   ]
  }
 ],
 "metadata": {
  "celltoolbar": "Slideshow",
  "kernelspec": {
   "display_name": "Python 3 (ipykernel)",
   "language": "python",
   "name": "python3"
  },
  "language_info": {
   "codemirror_mode": {
    "name": "ipython",
    "version": 3
   },
   "file_extension": ".py",
   "mimetype": "text/x-python",
   "name": "python",
   "nbconvert_exporter": "python",
   "pygments_lexer": "ipython3",
   "version": "3.10.6"
  }
 },
 "nbformat": 4,
 "nbformat_minor": 5
}
