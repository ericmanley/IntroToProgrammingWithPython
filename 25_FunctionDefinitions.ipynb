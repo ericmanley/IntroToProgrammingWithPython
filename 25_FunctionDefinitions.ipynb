{
 "cells": [
  {
   "cell_type": "markdown",
   "id": "c438e926",
   "metadata": {
    "slideshow": {
     "slide_type": "slide"
    }
   },
   "source": [
    "# Function Definitions\n",
    "#### Introduction to Programming with Python"
   ]
  },
  {
   "cell_type": "markdown",
   "id": "e18adc69",
   "metadata": {
    "slideshow": {
     "slide_type": "slide"
    }
   },
   "source": [
    "## Recall: _Abstraction_ is a _big idea_ in computer science\n",
    "\n",
    "You don't have to know how to farm to be a chef - they work at different levels of abstraction in food production.\n",
    "\n",
    "In computer science, you build bigger, more complex things by using the building blocks others (or you) have provided."
   ]
  },
  {
   "cell_type": "markdown",
   "id": "7a5d4d1f",
   "metadata": {
    "slideshow": {
     "slide_type": "slide"
    }
   },
   "source": [
    "## We've seen a lot of function _calls_ so far"
   ]
  },
  {
   "cell_type": "code",
   "execution_count": null,
   "id": "6858ee7d",
   "metadata": {},
   "outputs": [],
   "source": [
    "print(\"Hello world!\")\n",
    "type(2.70)\n",
    "fahrenheit_temp =  input(\"Enter the temperature in Fahrenheit \") )\n",
    "len(name)\n",
    "user_input = int( input(\"Enter a number greater than \"+str(target_number)+\" \") )\n",
    "max(rainfall_amounts)\n",
    "with open(\"gettysburg.txt\") as gettysburg_file:\n",
    "    gettysburg_text = gettysburg_file.readlines()"
   ]
  },
  {
   "cell_type": "markdown",
   "id": "ce478af0",
   "metadata": {},
   "source": [
    "Why are these awesome?\n",
    "* We don't have to think about the code that makes these work in order to use them (abstraction)\n",
    "* The code these programmers wrote is _reusable_ - the same code they wrote once gets used in many many programs by many different programmers"
   ]
  },
  {
   "cell_type": "markdown",
   "id": "c6bedf37",
   "metadata": {
    "slideshow": {
     "slide_type": "slide"
    }
   },
   "source": [
    "## Defining your own functions\n",
    "\n",
    "\n",
    "The syntax for defining your own function includes the following"
   ]
  },
  {
   "cell_type": "markdown",
   "id": "9b7844a7",
   "metadata": {
    "cell_style": "split",
    "slideshow": {
     "slide_type": "-"
    }
   },
   "source": [
    "\n",
    "* keyword `def` (short for _define_)\n",
    "* a name/identifier that you pick (same rules as variable names)\n",
    "* parentheses `( )` (later, we'll put things inside these parentheses)\n",
    "* colon `:`\n",
    "* indented block of code"
   ]
  },
  {
   "attachments": {},
   "cell_type": "markdown",
   "id": "00a2f41c",
   "metadata": {
    "cell_style": "split"
   },
   "source": [
    "\n",
    "<center>\n",
    "<div>\n",
    "<img src=\"images/eightball.jpg\" width=\"250\"/>\n",
    "</div>\n",
    "</center>"
   ]
  },
  {
   "cell_type": "code",
   "execution_count": 1,
   "id": "be0b8491",
   "metadata": {},
   "outputs": [],
   "source": [
    "import random\n",
    "\n",
    "def magic_8_ball():\n",
    "    rand_val = random.randint(1,3)\n",
    "    \n",
    "    if rand_val == 1:\n",
    "        print(\"It is Certain.\")\n",
    "    elif rand_val == 2:\n",
    "        print(\"Don't count on it.\")\n",
    "    else:\n",
    "        print(\"Reply hazy, try again.\")"
   ]
  },
  {
   "cell_type": "markdown",
   "id": "8086b5d0",
   "metadata": {
    "slideshow": {
     "slide_type": "fragment"
    }
   },
   "source": [
    "This function won't run or do anything until you call it. Call it just like any other function you've used."
   ]
  },
  {
   "cell_type": "code",
   "execution_count": 4,
   "id": "55537bb0",
   "metadata": {},
   "outputs": [
    {
     "name": "stdout",
     "output_type": "stream",
     "text": [
      "Reply hazy, try again.\n"
     ]
    }
   ],
   "source": [
    "magic_8_ball()"
   ]
  },
  {
   "cell_type": "markdown",
   "id": "3cc8e5cd",
   "metadata": {
    "slideshow": {
     "slide_type": "slide"
    }
   },
   "source": [
    "## Calling your function as part of a larger program\n",
    "\n",
    "Now you can use the function you created in something bigger. This example presents the menu for the user to use the Magic 8 Ball, but we don't have to worry about how it works."
   ]
  },
  {
   "cell_type": "code",
   "execution_count": 5,
   "id": "c525afdd",
   "metadata": {},
   "outputs": [
    {
     "name": "stdout",
     "output_type": "stream",
     "text": [
      "Do you have a question in your mind for the Magic 8 Ball? (yes/no) yes\n",
      "The Magic 8 Ball says....\n",
      "It is Certain.\n",
      "Do you have another question in your mind for the Magic 8 Ball? (yes/no) yes\n",
      "The Magic 8 Ball says....\n",
      "Don't count on it.\n",
      "Do you have another question in your mind for the Magic 8 Ball? (yes/no) yes\n",
      "The Magic 8 Ball says....\n",
      "It is Certain.\n",
      "Do you have another question in your mind for the Magic 8 Ball? (yes/no) no\n"
     ]
    }
   ],
   "source": [
    "user_response = input(\"Do you have a question in your mind for the Magic 8 Ball? (yes/no) \")\n",
    "\n",
    "while user_response == \"yes\":\n",
    "    print(\"The Magic 8 Ball says....\")\n",
    "    magic_8_ball()\n",
    "    user_response = input(\"Do you have another question in your mind for the Magic 8 Ball? (yes/no) \") "
   ]
  },
  {
   "cell_type": "markdown",
   "id": "00084215",
   "metadata": {
    "slideshow": {
     "slide_type": "subslide"
    }
   },
   "source": [
    "## Scripts vs. Interactive Mode\n",
    "\n",
    "Notice that in this notebook, the fuction *defition* and the function *call* do not need to be in the same cell. In  **interactive mode**, Python will remember things from previous cells that you've run. However, later you'll see **script mode** and all of the code will need to be together. \n",
    "\n",
    "Here's what the entire file looks like:"
   ]
  },
  {
   "cell_type": "code",
   "execution_count": null,
   "id": "60103ba6",
   "metadata": {},
   "outputs": [],
   "source": [
    "import random\n",
    "\n",
    "def magic_8_ball():\n",
    "    rand_val = random.randint(1,3)\n",
    "    \n",
    "    if rand_val == 1:\n",
    "        print(\"It is Certain.\")\n",
    "    elif rand_val == 2:\n",
    "        print(\"Don't count on it.\")\n",
    "    else:\n",
    "        print(\"Reply hazy, try again.\")\n",
    "        \n",
    "        \n",
    "        \n",
    "user_response = input(\"Do you have a question in your mind for the Magic 8 Ball? (yes/no) \")\n",
    "\n",
    "while user_response == \"yes\":\n",
    "    print(\"The Magic 8 Ball says....\")\n",
    "    magic_8_ball()\n",
    "    user_response = input(\"Do you have another question in your mind for the Magic 8 Ball? (yes/no) \")"
   ]
  },
  {
   "cell_type": "markdown",
   "id": "a46c5deb",
   "metadata": {
    "slideshow": {
     "slide_type": "slide"
    }
   },
   "source": [
    "## Why should we write our own functions?\n",
    "\n",
    "\n",
    "* Easier problem-solving - break big tasks into small ones\n",
    "* Better organization - easier to find/change the code you're looking for\n",
    "* Easier testing/debugging - you can test each function by itself before integrating into the bigger program\n",
    "    - Testing an individual function by itself is called __unit testing__\n",
    "* Reusable - you can write code that will be useful many times in this program and possibly later ones"
   ]
  },
  {
   "cell_type": "markdown",
   "id": "ac22ede1",
   "metadata": {
    "slideshow": {
     "slide_type": "slide"
    }
   },
   "source": [
    "## What might our Magic 8 Ball code look like inside a bigger program?\n",
    "\n",
    "When you call a function, Python will remember where you left off and continue executing there when the function is complete."
   ]
  },
  {
   "cell_type": "code",
   "execution_count": 6,
   "id": "0ab7f282",
   "metadata": {},
   "outputs": [
    {
     "name": "stdout",
     "output_type": "stream",
     "text": [
      "Available toys:\n",
      "1: Magic 8 Ball\n",
      "2: Jack-in-the-Box\n",
      "3: Rubik's Cube\n",
      "0: Quit\n",
      "Which toy do you want to play with? 2\n",
      ".\n",
      ".\n",
      ".\n",
      ".\n",
      ".\n",
      ".\n",
      ".\n",
      ".\n",
      ".\n",
      ".\n",
      ".\n",
      ".\n",
      ".\n",
      ".\n",
      ".\n",
      ".\n",
      ".\n",
      ".\n",
      ".\n",
      ".\n",
      ".\n",
      ".\n",
      ".\n",
      ".\n",
      ".\n",
      ".\n",
      ".\n",
      ".\n",
      ".\n",
      ".\n",
      ".\n",
      ".\n",
      ".\n",
      ".\n",
      ".\n",
      ".\n",
      ".\n",
      ".\n",
      ".\n",
      ".\n",
      ".\n",
      ".\n",
      ".\n",
      ".\n",
      ".\n",
      ".\n",
      ".\n",
      ".\n",
      ".\n",
      ".\n",
      ".\n",
      ".\n",
      ".\n",
      ".\n",
      ".\n",
      ".\n",
      ".\n",
      ".\n",
      ".\n",
      ".\n",
      ".\n",
      ".\n",
      ".\n",
      ".\n",
      ".\n",
      ".\n",
      ".\n",
      ".\n",
      ".\n",
      ".\n",
      "POP!\n",
      "Available toys:\n",
      "1: Magic 8 Ball\n",
      "2: Jack-in-the-Box\n",
      "3: Rubik's Cube\n",
      "0: Quit\n",
      "Which toy do you want to play with? 1\n",
      "Do you have a question in your mind for the Magic 8 Ball? (yes/no) yes\n",
      "The Magic 8 Ball says....\n",
      "Reply hazy, try again.\n",
      "Do you have another question in your mind for the Magic 8 Ball? (yes/no) yes\n",
      "The Magic 8 Ball says....\n",
      "It is Certain.\n",
      "Do you have another question in your mind for the Magic 8 Ball? (yes/no) no\n",
      "Available toys:\n",
      "1: Magic 8 Ball\n",
      "2: Jack-in-the-Box\n",
      "3: Rubik's Cube\n",
      "0: Quit\n",
      "Which toy do you want to play with? 0\n",
      "Have a nice day!\n"
     ]
    }
   ],
   "source": [
    "import random\n",
    "\n",
    "def magic_8_ball():\n",
    "    rand_val = random.randint(1,3)\n",
    "    \n",
    "    if rand_val == 1:\n",
    "        print(\"It is Certain.\")\n",
    "    elif rand_val == 2:\n",
    "        print(\"Don't count on it.\")\n",
    "    else:\n",
    "        print(\"Reply hazy, try again.\")\n",
    "       \n",
    "    \n",
    "        \n",
    "def magic_8_ball_dialog():\n",
    "    user_response = input(\"Do you have a question in your mind for the Magic 8 Ball? (yes/no) \")\n",
    "\n",
    "    while user_response == \"yes\":\n",
    "        print(\"The Magic 8 Ball says....\")\n",
    "        magic_8_ball()\n",
    "        user_response = input(\"Do you have another question in your mind for the Magic 8 Ball? (yes/no) \")\n",
    "\n",
    "        \n",
    "        \n",
    "def jack_in_the_box():\n",
    "    wait_time = random.randint(1,100)\n",
    "    counter = 0\n",
    "    while counter < wait_time:\n",
    "        print(\".\")\n",
    "        counter += 1\n",
    "    print(\"POP!\")\n",
    "    \n",
    "    \n",
    "    \n",
    "def rubiks_cube():\n",
    "    #pretend there is some awesome Rubik's cube code here\n",
    "    print()\n",
    "    \n",
    "    \n",
    "    \n",
    "def main():\n",
    "    \n",
    "    toy_number = 99\n",
    "    \n",
    "    while toy_number != 0:\n",
    "        print(\"Available toys:\")\n",
    "        print(\"1: Magic 8 Ball\")\n",
    "        print(\"2: Jack-in-the-Box\")\n",
    "        print(\"3: Rubik's Cube\")\n",
    "        print(\"0: Quit\")\n",
    "        toy_number = int(input(\"Which toy do you want to play with? \"))\n",
    "        \n",
    "        if toy_number == 1:\n",
    "            magic_8_ball_dialog()\n",
    "        elif toy_number == 2:\n",
    "            jack_in_the_box()\n",
    "        elif toy_number == 3:\n",
    "            rubiks_cube()\n",
    "            \n",
    "    print(\"Have a nice day!\")\n",
    "        \n",
    "main()\n",
    "        \n",
    "    "
   ]
  }
 ],
 "metadata": {
  "celltoolbar": "Slideshow",
  "kernelspec": {
   "display_name": "Python 3 (ipykernel)",
   "language": "python",
   "name": "python3"
  },
  "language_info": {
   "codemirror_mode": {
    "name": "ipython",
    "version": 3
   },
   "file_extension": ".py",
   "mimetype": "text/x-python",
   "name": "python",
   "nbconvert_exporter": "python",
   "pygments_lexer": "ipython3",
   "version": "3.10.6"
  }
 },
 "nbformat": 4,
 "nbformat_minor": 5
}
