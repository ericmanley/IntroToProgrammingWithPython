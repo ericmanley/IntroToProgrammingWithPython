{
 "cells": [
  {
   "cell_type": "markdown",
   "id": "b6beefb7",
   "metadata": {},
   "source": [
    "# Lab: Division, Modulus, and Conditionals\n",
    "\n",
    "In this lab, you'll experiment with the floor division (`//`) and modulo (`%`) operators. You'll also practice writing conditional statements with `if` and `if-else` patterns."
   ]
  },
  {
   "cell_type": "markdown",
   "id": "edd3e1c6",
   "metadata": {},
   "source": [
    "__Exercise 1:__ A school wants you to write a program that will help them divide students into classrooms. They want to have the number of students in each classroom be as equal as possible. Write a program that asks the user for the number of students and the number of classrooms, and then tells them how many students will be in each classroom.\n",
    "\n",
    "<p>\n",
    "<div>\n",
    "<img src=\"images/studentsperclassroom.png\" width=\"600\"/>\n",
    "</div>\n",
    "</p>\n",
    "\n",
    "_Hint:_ Notice that there are four different numbers that appear in the output. I suggest having a separate variable that you calculate for each one of these. You will not need an `if` statement for this problem."
   ]
  },
  {
   "cell_type": "markdown",
   "id": "55c64077",
   "metadata": {},
   "source": [
    "Recall that you can tell if a number is even or odd by checking its remainder when divided by 2, i.e., modulo 2. We could check this using the comparison operator `==` in the condition of an `if-else` statement.\n",
    "\n",
    "__Exercise 2:__ Try running this code with several inputs to confirm that it works as you expect it to."
   ]
  },
  {
   "cell_type": "code",
   "execution_count": null,
   "id": "e10582b7",
   "metadata": {},
   "outputs": [],
   "source": [
    "num = int(input(\"Enter your favorite integer: \"))\n",
    "\n",
    "if num % 2 == 0:\n",
    "    print(num,\"is even\")\n",
    "else:\n",
    "    print(num,\"is odd\")"
   ]
  },
  {
   "cell_type": "markdown",
   "id": "fe64b50e",
   "metadata": {},
   "source": [
    "__Exercise 3:__ Replace the `==` in the above code with `=` and run it again. Answer the following questions in your notes:\n",
    "* What kind of error does this give you? Why do you think Python gives that error?\n",
    "* What is the difference between `==` and `=`?"
   ]
  },
  {
   "cell_type": "markdown",
   "id": "21343f87",
   "metadata": {},
   "source": [
    "__Exercise 4:__ The date July 3, 2021 is a _magic date_ because, when written in this format: 7/3/21, the month times the day equals the two-digit year: $7 ∗ 3 = 21$. Write a program that asks the user to enter a month, a day, and a two-digit year and displays whether or not that date is magic. It should work like this:\n",
    "\n",
    "<p>\n",
    "<div>\n",
    "<img src=\"images/magicdate.png\" width=\"300\"/>\n",
    "</div>\n",
    "</p>\n",
    "Here's some code to get you started:"
   ]
  },
  {
   "cell_type": "code",
   "execution_count": null,
   "id": "8d1ecc90",
   "metadata": {},
   "outputs": [],
   "source": [
    "month = int(input(\"Enter a number for a month (1-12): \"))\n",
    "day = int(input(\"Enter a day of the month (1-31): \"))\n",
    "year = int(input(\"Enter a two-digit year: \"))\n",
    "\n",
    "#write your `if-else` statement here"
   ]
  },
  {
   "cell_type": "markdown",
   "id": "d74ccc1d",
   "metadata": {},
   "source": [
    "__Exercise 5:__ You can include conditional statements inside of other conditional statements like in the example below. This is called a __nested conditional__ statement because one of the conditional statements is _nested_ inside the other - like a Russian nesting doll. Save this code as a script and run it with different inputs. In your notes, write a description of how the combination of conditional statements works. What would you do if you wanted it to be able to tell you whether or not a number is even _and_ divisible by 3?"
   ]
  },
  {
   "cell_type": "code",
   "execution_count": null,
   "id": "5d953830",
   "metadata": {},
   "outputs": [],
   "source": [
    "#this code checks if a number is divisible by both 2 and 3\n",
    "if num % 2 == 0:\n",
    "    print(num,\"is even\")\n",
    "else:\n",
    "    if num % 3 == 0:\n",
    "        print(num,\"is odd and divisble by 3\")\n",
    "    else:\n",
    "        print(num,\"is odd and not divisible by 3\")"
   ]
  },
  {
   "cell_type": "markdown",
   "id": "e72d6b9a",
   "metadata": {},
   "source": [
    "<div>\n",
    "<img src=\"images/Matryoshka_transparent.png\" width=\"300\"/>\n",
    "</div>\n",
    "\n",
    "Russian nesting dolls: <a href=\"https://commons.wikimedia.org/w/index.php?curid=13676809\">https://commons.wikimedia.org/w/index.php?curid=13676809</a>"
   ]
  },
  {
   "cell_type": "markdown",
   "id": "3ec021d0",
   "metadata": {},
   "source": [
    "__Challenge Exercise 6:__ Write a program that will allow the user to enter a year, and then tells the user whether there are any presidential, guberntorial (i.e., governor), US Senate, or US House elections in Iowa that year. Note the following:\n",
    "* Presidential years happen every four years, in years like 2020, 2024, 2028, etc.\n",
    "* Iowa Gubernatorial elections happen every four years, in years like 2018, 2022, 2026, etc.\n",
    "* Iowa has two US Senate seats, and they each go up for election every six years. However, they are staggered. One of the seats goes up for election in years like 2016, 2022, 2028, etc.  The other goes up for election in years like 2014, 2020, 2026, etc.\n",
    "* US House elections happen in every even year.\n",
    "* Sometimes, there are special elections that happen outside the normally scheduled times to replace an official who has resigned or died in office. You can ignore these cases.\n",
    "\n",
    "Write your program so that the output has the following format:\n",
    "\n",
    "<p>\n",
    "<div>\n",
    "<img src=\"images/electionyearoutput.png\" width=\"400\"/>\n",
    "</div>\n",
    "</p>\n",
    "\n",
    "_Hints:_ \n",
    "* You will need to use the `%` operator with the years. Try practicing with each of the sample years and the `%` operator in the interactive shell, and see if you can come up with a rule that works for the list of years given for each office.\n",
    "* Take each of the offices one at a time. First, try to get it to correctly say when it is a presidential year, then move on to each of the House, Gubernatorial, and Senate elections one at a time. Each of these will probably be a separate `if-else` statement - that is, I'd expect a sequence of at least 4 different `if-else` statements.\n",
    "* The Senate elections are the hardest to figure out because of the two different senate schedules. There are several ways you could handle this. One way to do it might be to use a __nested conditional__."
   ]
  },
  {
   "cell_type": "markdown",
   "id": "37bac6e9",
   "metadata": {},
   "source": []
  }
 ],
 "metadata": {
  "celltoolbar": "Attachments",
  "kernelspec": {
   "display_name": "Python 3",
   "language": "python",
   "name": "python3"
  },
  "language_info": {
   "codemirror_mode": {
    "name": "ipython",
    "version": 3
   },
   "file_extension": ".py",
   "mimetype": "text/x-python",
   "name": "python",
   "nbconvert_exporter": "python",
   "pygments_lexer": "ipython3",
   "version": "3.8.8"
  }
 },
 "nbformat": 4,
 "nbformat_minor": 5
}
