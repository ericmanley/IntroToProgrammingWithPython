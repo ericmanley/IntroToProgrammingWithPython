{
 "cells": [
  {
   "cell_type": "markdown",
   "id": "ca803775",
   "metadata": {
    "slideshow": {
     "slide_type": "slide"
    }
   },
   "source": [
    "# Division Operators\n",
    "#### Introduction to Programming with Python"
   ]
  },
  {
   "cell_type": "markdown",
   "id": "889205e3",
   "metadata": {
    "slideshow": {
     "slide_type": "slide"
    }
   },
   "source": [
    "## Floating-point division operator\n",
    "\n",
    "The `/` operator will always give you a _float_ as a result."
   ]
  },
  {
   "cell_type": "code",
   "execution_count": 1,
   "id": "e1b0808b",
   "metadata": {
    "slideshow": {
     "slide_type": "fragment"
    }
   },
   "outputs": [
    {
     "data": {
      "text/plain": [
       "16.0"
      ]
     },
     "execution_count": 1,
     "metadata": {},
     "output_type": "execute_result"
    }
   ],
   "source": [
    "320 / 20"
   ]
  },
  {
   "cell_type": "code",
   "execution_count": 2,
   "id": "444b97cc",
   "metadata": {
    "slideshow": {
     "slide_type": "fragment"
    }
   },
   "outputs": [
    {
     "data": {
      "text/plain": [
       "16.791666666666668"
      ]
     },
     "execution_count": 2,
     "metadata": {},
     "output_type": "execute_result"
    }
   ],
   "source": [
    "403.0 / 24.0"
   ]
  },
  {
   "cell_type": "markdown",
   "id": "6758a163",
   "metadata": {
    "slideshow": {
     "slide_type": "slide"
    }
   },
   "source": [
    "## Integer division operators\n",
    "\n",
    "Sometimes, instead of getting the full floating-point expansion, you might want the quotient and remainder separately. \n",
    "\n",
    "<center>\n",
    "<div>\n",
    "<img src=\"images/longdivisionexample.png\" width=\"200\"/>\n",
    "</div>\n",
    "</center>\n",
    "\n",
    "\n",
    "\n",
    "The `//` is the _floor_ division operator - it gives you the quotient and _ignores_ and fractional/remainder part.\n"
   ]
  },
  {
   "cell_type": "code",
   "execution_count": 3,
   "id": "ba5c7b58",
   "metadata": {
    "slideshow": {
     "slide_type": "fragment"
    }
   },
   "outputs": [
    {
     "data": {
      "text/plain": [
       "16"
      ]
     },
     "execution_count": 3,
     "metadata": {},
     "output_type": "execute_result"
    }
   ],
   "source": [
    "320 // 20"
   ]
  },
  {
   "cell_type": "code",
   "execution_count": 4,
   "id": "bf2c89c9",
   "metadata": {},
   "outputs": [
    {
     "data": {
      "text/plain": [
       "16"
      ]
     },
     "execution_count": 4,
     "metadata": {},
     "output_type": "execute_result"
    }
   ],
   "source": [
    "403 // 24"
   ]
  },
  {
   "cell_type": "markdown",
   "id": "8b3120bc",
   "metadata": {
    "slideshow": {
     "slide_type": "slide"
    }
   },
   "source": [
    "## Modulo operator\n",
    "\n",
    "The `%` operator is the __modulo__ operator - another word for remainder - it will ignore the quotient and just give you the remainder.\n",
    "\n",
    "<center>\n",
    "<div>\n",
    "<img src=\"attachment:longdivisionexample.png\" width=\"200\"/>\n",
    "</div>\n",
    "</center>"
   ]
  },
  {
   "cell_type": "code",
   "execution_count": 5,
   "id": "90ca74b7",
   "metadata": {
    "slideshow": {
     "slide_type": "fragment"
    }
   },
   "outputs": [
    {
     "data": {
      "text/plain": [
       "16"
      ]
     },
     "execution_count": 5,
     "metadata": {},
     "output_type": "execute_result"
    }
   ],
   "source": [
    "403 // 24"
   ]
  },
  {
   "cell_type": "code",
   "execution_count": 6,
   "id": "06e46976",
   "metadata": {},
   "outputs": [
    {
     "data": {
      "text/plain": [
       "19"
      ]
     },
     "execution_count": 6,
     "metadata": {},
     "output_type": "execute_result"
    }
   ],
   "source": [
    "403 % 24"
   ]
  },
  {
   "cell_type": "markdown",
   "id": "e0fde33e",
   "metadata": {
    "slideshow": {
     "slide_type": "slide"
    }
   },
   "source": [
    "## Exercises\n",
    "\n",
    "Try each of the following (add code to print them one at a time). What pattern do you notice?"
   ]
  },
  {
   "cell_type": "code",
   "execution_count": null,
   "id": "f6d4c71b",
   "metadata": {},
   "outputs": [],
   "source": [
    "0 // 2\n",
    "1 // 2\n",
    "3 // 2\n",
    "4 // 2\n",
    "5 // 2\n",
    "6 // 2\n",
    "20 // 5\n",
    "21 // 5\n",
    "22 // 5\n",
    "23 // 5\n",
    "24 // 5\n",
    "25 // 5"
   ]
  },
  {
   "cell_type": "markdown",
   "id": "0e9807b0",
   "metadata": {},
   "source": [
    "Try each of the following. What pattern do you notice?"
   ]
  },
  {
   "cell_type": "code",
   "execution_count": null,
   "id": "00a3ce35",
   "metadata": {},
   "outputs": [],
   "source": [
    "0 % 2\n",
    "1 % 2\n",
    "3 % 2\n",
    "4 % 2\n",
    "5 % 2\n",
    "6 % 2\n",
    "20 % 5\n",
    "21 % 5\n",
    "22 % 5\n",
    "23 % 5\n",
    "24 % 5\n",
    "25 % 5"
   ]
  },
  {
   "cell_type": "markdown",
   "id": "3d46f278",
   "metadata": {},
   "source": [
    "Write down in your notes:\n",
    "* What is the difference between `//` and `/`?\n",
    "* What is the difference between `//` and `%`?\n",
    "\n",
    "Try each of the following:"
   ]
  },
  {
   "cell_type": "code",
   "execution_count": null,
   "id": "47b997cd",
   "metadata": {},
   "outputs": [],
   "source": [
    "23 // 5.50\n",
    "23 / 0"
   ]
  },
  {
   "cell_type": "markdown",
   "id": "7d841a73",
   "metadata": {},
   "source": [
    "Write down in your notes:\n",
    "* What happens when you use a float with the floor division operator?\n",
    "* What happens in Python if you try to divide by 0?"
   ]
  },
  {
   "cell_type": "markdown",
   "id": "2247adf6",
   "metadata": {
    "slideshow": {
     "slide_type": "slide"
    }
   },
   "source": [
    "## When is this useful?\n",
    "\n",
    "Example: Let's say I'm programming a super computer with 64 processors to perform 1500 variations of a simulation for a physics experiment, and each of the simulations takes about the same amount of time to run. How many simulations should be given to each processor?"
   ]
  },
  {
   "cell_type": "code",
   "execution_count": 10,
   "id": "c772ebb0",
   "metadata": {
    "slideshow": {
     "slide_type": "fragment"
    }
   },
   "outputs": [
    {
     "name": "stdout",
     "output_type": "stream",
     "text": [
      "Each processor should get 23 simulations\n",
      "and 28 processors will each get one extra\n"
     ]
    }
   ],
   "source": [
    "num_processors = 64\n",
    "num_simulations = 1500\n",
    "simulations_per_processor = num_simulations // num_processors\n",
    "leftover_simulations = num_simulations % num_processors\n",
    "print(\"Each processor should get\",simulations_per_processor,\"simulations\")\n",
    "print(\"and\",leftover_simulations,\"processors will each get one extra\")"
   ]
  },
  {
   "cell_type": "markdown",
   "id": "b0a71c3d",
   "metadata": {
    "slideshow": {
     "slide_type": "slide"
    }
   },
   "source": [
    "Modulo is also good if you need to check if a number is even or odd"
   ]
  },
  {
   "cell_type": "code",
   "execution_count": 11,
   "id": "0ce296dc",
   "metadata": {
    "slideshow": {
     "slide_type": "fragment"
    }
   },
   "outputs": [
    {
     "data": {
      "text/plain": [
       "1"
      ]
     },
     "execution_count": 11,
     "metadata": {},
     "output_type": "execute_result"
    }
   ],
   "source": [
    "253 % 2 #odd numbers have a remainder of 1 when divided by 2"
   ]
  },
  {
   "cell_type": "code",
   "execution_count": 12,
   "id": "92ce5911",
   "metadata": {
    "slideshow": {
     "slide_type": "fragment"
    }
   },
   "outputs": [
    {
     "data": {
      "text/plain": [
       "0"
      ]
     },
     "execution_count": 12,
     "metadata": {},
     "output_type": "execute_result"
    }
   ],
   "source": [
    "254 % 2 #even numbers have a remainder of 0 when divided by 2"
   ]
  },
  {
   "cell_type": "markdown",
   "id": "bcbd282c",
   "metadata": {
    "slideshow": {
     "slide_type": "fragment"
    }
   },
   "source": [
    "Or, if you want to check if a number is divisible by 4 - say you're checking to see if the year is a presidential election year, Olympic year, leap year, etc., you can see if the result is 0"
   ]
  },
  {
   "cell_type": "code",
   "execution_count": 13,
   "id": "a428acee",
   "metadata": {
    "slideshow": {
     "slide_type": "-"
    }
   },
   "outputs": [
    {
     "data": {
      "text/plain": [
       "0"
      ]
     },
     "execution_count": 13,
     "metadata": {},
     "output_type": "execute_result"
    }
   ],
   "source": [
    "2024 % 4"
   ]
  }
 ],
 "metadata": {
  "celltoolbar": "Slideshow",
  "kernelspec": {
   "display_name": "Python 3",
   "language": "python",
   "name": "python3"
  },
  "language_info": {
   "codemirror_mode": {
    "name": "ipython",
    "version": 3
   },
   "file_extension": ".py",
   "mimetype": "text/x-python",
   "name": "python",
   "nbconvert_exporter": "python",
   "pygments_lexer": "ipython3",
   "version": "3.12.2"
  }
 },
 "nbformat": 4,
 "nbformat_minor": 5
}
