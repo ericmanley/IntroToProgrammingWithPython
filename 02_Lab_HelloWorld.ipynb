{
 "cells": [
  {
   "cell_type": "markdown",
   "id": "7d0f8c47",
   "metadata": {},
   "source": [
    "# Lab: Hello World\n",
    "\n",
    "[![Open In Colab](https://colab.research.google.com/assets/colab-badge.svg)](https://colab.research.google.com/github/ericmanley/IntroToProgrammingWithPython/blob/main/02_Lab_HelloWorld.ipynb)\n",
    "\n",
    "For each of the reflection questions, write your answers in the text box within this notebook.\n",
    "\n",
    "__Exercise 1:__ Run this line of code (as a script or in the interactive shell):"
   ]
  },
  {
   "cell_type": "code",
   "execution_count": null,
   "id": "e7313332",
   "metadata": {},
   "outputs": [],
   "source": [
    "print('Hello')"
   ]
  },
  {
   "cell_type": "markdown",
   "id": "1461f835",
   "metadata": {},
   "source": [
    "* Is there a difference between `'Hello'` and `\"Hello\"`?"
   ]
  },
  {
   "cell_type": "markdown",
   "id": "0e8d4b81",
   "metadata": {},
   "source": [
    "__Exercise 2:__ What happens when you run each of the following lines?"
   ]
  },
  {
   "cell_type": "code",
   "execution_count": null,
   "id": "c7179412",
   "metadata": {},
   "outputs": [],
   "source": [
    "print(\"Isn't it a nice day out?\")\n",
    "print('Isn't it a nice day out?')"
   ]
  },
  {
   "cell_type": "markdown",
   "id": "57894742",
   "metadata": {},
   "source": [
    "* Why did the second one give you an error?\n",
    "* Why do you think Python allows you to use both \" and '?\n",
    "* How can you get a \" symbol to print?"
   ]
  },
  {
   "cell_type": "markdown",
   "id": "52723b67",
   "metadata": {},
   "source": [
    "__Exercise 3:__ The following print statement contains text with a special symbol, `\\n`, that does something strange. "
   ]
  },
  {
   "cell_type": "code",
   "execution_count": null,
   "id": "195d6f84",
   "metadata": {},
   "outputs": [],
   "source": [
    "print(\"here is some text\\nhere is more text\")"
   ]
  },
  {
   "cell_type": "markdown",
   "id": "a131ce8c",
   "metadata": {},
   "source": [
    "* `\\n` is called the _newline_ character. Why do you think it is called that?"
   ]
  },
  {
   "cell_type": "markdown",
   "id": "668cf038",
   "metadata": {},
   "source": [
    "__Exercise 4:__ There are other special characters too. Experiment with these: `\\t` and `\\\\`\n",
    "* What do each of these do?\n",
    "* Why do you think it is necessary for Python to support special text characters like these?"
   ]
  },
  {
   "cell_type": "markdown",
   "id": "266c1a0f",
   "metadata": {},
   "source": [
    "__Challenge Exercise:__ For the points on this lab, write a Python program which displays the opening line of your favorite book.\n"
   ]
  }
 ],
 "metadata": {
  "kernelspec": {
   "display_name": "Python 3",
   "language": "python",
   "name": "python3"
  },
  "language_info": {
   "codemirror_mode": {
    "name": "ipython",
    "version": 3
   },
   "file_extension": ".py",
   "mimetype": "text/x-python",
   "name": "python",
   "nbconvert_exporter": "python",
   "pygments_lexer": "ipython3",
   "version": "3.8.8"
  }
 },
 "nbformat": 4,
 "nbformat_minor": 5
}
