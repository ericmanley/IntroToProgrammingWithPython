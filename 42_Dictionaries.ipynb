{
 "cells": [
  {
   "cell_type": "markdown",
   "id": "af3ece76",
   "metadata": {
    "slideshow": {
     "slide_type": "slide"
    }
   },
   "source": [
    "# Dictionaries\n",
    "#### Introduction to Programming with Python"
   ]
  },
  {
   "attachments": {},
   "cell_type": "markdown",
   "id": "624b9b99",
   "metadata": {
    "slideshow": {
     "slide_type": "slide"
    }
   },
   "source": [
    "## Analogies: physical dictionaries\n",
    "\n",
    "How do we use physical dictionaries?\n",
    "* Look up a word\n",
    "* Retrieve a definition\n",
    "\n",
    "<center>\n",
    "<div>\n",
    "<img src=\"images/dictionary.jpg\" width=\"400\"/>\n",
    "</div>\n",
    "</center>\n"
   ]
  },
  {
   "cell_type": "markdown",
   "id": "d5d953f6",
   "metadata": {
    "slideshow": {
     "slide_type": "skip"
    }
   },
   "source": [
    "Image credit: https://www.flickr.com/photos/crdot/5510506796"
   ]
  },
  {
   "cell_type": "markdown",
   "id": "5879a2cb",
   "metadata": {
    "slideshow": {
     "slide_type": "slide"
    }
   },
   "source": [
    "## Python dictionaries work like this too"
   ]
  },
  {
   "cell_type": "code",
   "execution_count": 3,
   "id": "6ea6d6e9",
   "metadata": {},
   "outputs": [],
   "source": [
    "cs_dept_phonebook = { \n",
    "                        \"Porter\"  : \"3041\",\n",
    "                        \"Case\"    : \"4618\",\n",
    "                        \"Reza\"  : \"1972\",\n",
    "                        \"Moore\" : \"3110\",\n",
    "                        \"Manley\"  : \"2177\",\n",
    "                        \"Urness\"  : \"2188\",\n",
    "                        \"Migunov\"   : \"1810\",\n",
    "                        \"Rieck\"   : \"3795\"\n",
    "                    }"
   ]
  },
  {
   "cell_type": "code",
   "execution_count": 4,
   "id": "80a48cbb",
   "metadata": {},
   "outputs": [
    {
     "data": {
      "text/plain": [
       "'2177'"
      ]
     },
     "execution_count": 4,
     "metadata": {},
     "output_type": "execute_result"
    }
   ],
   "source": [
    "cs_dept_phonebook[\"Manley\"]"
   ]
  },
  {
   "cell_type": "markdown",
   "id": "f7db5720",
   "metadata": {
    "slideshow": {
     "slide_type": "fragment"
    }
   },
   "source": [
    "Each item in a dictionary is a __key-value__ pair\n",
    "\n",
    "Use a __key__ to look up a __value__\n",
    "\n",
    "`\"Manley\"` is a key\n",
    "\n",
    "`\"2177\"` is a value"
   ]
  },
  {
   "cell_type": "markdown",
   "id": "13bf9e19",
   "metadata": {},
   "source": [
    "## Things to notice about the syntax\n",
    "\n",
    "Uses curly braces `{ }`, keys and values are separated with colons `:`, and each key-value pair is separated by commas `,`\n",
    "\n",
    "The spacing in this example is just to make it look nice - you don't have to do any indenting or newlines."
   ]
  },
  {
   "cell_type": "code",
   "execution_count": 5,
   "id": "1090874a",
   "metadata": {},
   "outputs": [],
   "source": [
    "cs_dept_phonebook = { \n",
    "                        \"Porter\"  : \"3041\",\n",
    "                        \"Case\"    : \"4618\",\n",
    "                        \"Reza\"  : \"1972\",\n",
    "                        \"Moore\" : \"3110\",\n",
    "                        \"Manley\"  : \"2177\",\n",
    "                        \"Urness\"  : \"2188\",\n",
    "                        \"Migunov\"   : \"1810\",\n",
    "                        \"Rieck\"   : \"3795\"\n",
    "                    }"
   ]
  },
  {
   "cell_type": "markdown",
   "id": "9867efe0",
   "metadata": {
    "slideshow": {
     "slide_type": "fragment"
    }
   },
   "source": [
    "Accessing a value is the same as with a list, but you can put anything inside the `[ ]` brackets."
   ]
  },
  {
   "cell_type": "code",
   "execution_count": 6,
   "id": "df49dbf3",
   "metadata": {},
   "outputs": [
    {
     "data": {
      "text/plain": [
       "'2177'"
      ]
     },
     "execution_count": 6,
     "metadata": {},
     "output_type": "execute_result"
    }
   ],
   "source": [
    "cs_dept_phonebook[\"Manley\"]"
   ]
  },
  {
   "cell_type": "markdown",
   "id": "a5aa8131",
   "metadata": {
    "slideshow": {
     "slide_type": "slide"
    }
   },
   "source": [
    "## Basic Dictionary Operations\n",
    "\n",
    "Dictionaries are _mutable_, so you can change them.\n",
    "\n",
    "In the `cs_dept_phonebook` dictionary, I accidentally gave Urness the wrong number. We could update just that one value like this. Notice how this is similar to changing an item in a list, except we're using a *key* in the `[ ]` instead of a numerical *index*."
   ]
  },
  {
   "cell_type": "code",
   "execution_count": 7,
   "id": "49c8f93b",
   "metadata": {},
   "outputs": [
    {
     "data": {
      "text/plain": [
       "{'Porter': '3041',\n",
       " 'Case': '4618',\n",
       " 'Reza': '1972',\n",
       " 'Moore': '3110',\n",
       " 'Manley': '2177',\n",
       " 'Urness': '2118',\n",
       " 'Migunov': '1810',\n",
       " 'Rieck': '3795'}"
      ]
     },
     "execution_count": 7,
     "metadata": {},
     "output_type": "execute_result"
    }
   ],
   "source": [
    "cs_dept_phonebook[\"Urness\"] = \"2118\"\n",
    "cs_dept_phonebook"
   ]
  },
  {
   "cell_type": "markdown",
   "id": "b7257215",
   "metadata": {
    "slideshow": {
     "slide_type": "fragment"
    }
   },
   "source": [
    "You can assign a value to a new key that isn't in the dictionary yet, and it will add it.\n",
    "\n",
    "Let's say we want to add Valpey, a new professor to the department:"
   ]
  },
  {
   "cell_type": "code",
   "execution_count": 8,
   "id": "0e414b7b",
   "metadata": {},
   "outputs": [
    {
     "name": "stdout",
     "output_type": "stream",
     "text": [
      "{'Porter': '3041', 'Case': '4618', 'Reza': '1972', 'Moore': '3110', 'Manley': '2177', 'Urness': '2118', 'Migunov': '1810', 'Rieck': '3795', 'Valpey': '5555'}\n"
     ]
    }
   ],
   "source": [
    "cs_dept_phonebook[\"Valpey\"] = \"5555\"\n",
    "print(cs_dept_phonebook)"
   ]
  },
  {
   "cell_type": "markdown",
   "id": "1d157e7b",
   "metadata": {},
   "source": [
    "Dictionaries are not considered ordered - you can't guarantee what order they'll be displayed in."
   ]
  },
  {
   "cell_type": "markdown",
   "id": "2d46807c",
   "metadata": {
    "slideshow": {
     "slide_type": "fragment"
    }
   },
   "source": [
    "You can delete dictionary elements with `pop()` method. Since Professor Rieck retired, let's remove his entry from the phone book:"
   ]
  },
  {
   "cell_type": "code",
   "execution_count": 9,
   "id": "b273cdfa",
   "metadata": {},
   "outputs": [
    {
     "name": "stdout",
     "output_type": "stream",
     "text": [
      "{'Porter': '3041', 'Case': '4618', 'Reza': '1972', 'Moore': '3110', 'Manley': '2177', 'Urness': '2118', 'Migunov': '1810', 'Valpey': '5555'}\n"
     ]
    }
   ],
   "source": [
    "cs_dept_phonebook.pop(\"Rieck\")\n",
    "print(cs_dept_phonebook)"
   ]
  },
  {
   "cell_type": "markdown",
   "id": "5558836a",
   "metadata": {
    "slideshow": {
     "slide_type": "slide"
    }
   },
   "source": [
    "## Exercises:\n",
    "\n",
    "__Exercise 1:__ Write a program that asks the user for a name and phone number and then adds that to the phonebook. "
   ]
  },
  {
   "cell_type": "code",
   "execution_count": null,
   "id": "752e70bc",
   "metadata": {},
   "outputs": [],
   "source": [
    "name = input(\"Enter a name: \")\n",
    "number = input(\"Enter a phone number: \")\n",
    "#fill in the blank here"
   ]
  },
  {
   "cell_type": "markdown",
   "id": "a01e49cb",
   "metadata": {},
   "source": [
    "__Exercise 2:__ Write a program to ask the user for a name and then display the phone number in the phone book for that name. What happens is they enter a name that isn't in the phone book? Come up with an idea for how that can be handled (_Hint:_ experiment using an `if` statement and the `in` operator)"
   ]
  },
  {
   "cell_type": "code",
   "execution_count": null,
   "id": "5470f15d",
   "metadata": {},
   "outputs": [],
   "source": [
    "name = input(\"Enter a name: \")\n",
    "#fill in the blank here"
   ]
  },
  {
   "cell_type": "markdown",
   "id": "a8b45ab6",
   "metadata": {
    "slideshow": {
     "slide_type": "slide"
    }
   },
   "source": [
    "## Types in dictionaries\n",
    "\n",
    "Keys can be anything of any type (though they are usually strings)\n",
    "\n",
    "Values can be anything - even other containers like lists or other dictionaries"
   ]
  },
  {
   "cell_type": "code",
   "execution_count": 10,
   "id": "bc9e1042",
   "metadata": {},
   "outputs": [
    {
     "name": "stdout",
     "output_type": "stream",
     "text": [
      "This is an approximation of pi.\n",
      "This is the number 1\n",
      "This is the origin in two-dimensional space\n",
      "0\n",
      "[1, 1, 2, 3, 5, 8, 13, 21, 34]\n"
     ]
    }
   ],
   "source": [
    "math_dict = { 3.14 : \"This is an approximation of pi.\", \n",
    "            1 : \"This is the number 1\", \n",
    "            2.718 : \"This is an approximation of the natural log base.\",\n",
    "            (0,0) : \"This is the origin in two-dimensional space\",\n",
    "            \"zero\" : 0,\n",
    "            \"Fibonacci sequence\" : [1,1,2,3,5,8,13,21,34] }\n",
    "\n",
    "print(math_dict[3.14])\n",
    "print(math_dict[1])\n",
    "print(math_dict[(0,0)])\n",
    "print(math_dict[\"zero\"])\n",
    "print(math_dict[\"Fibonacci sequence\"])"
   ]
  },
  {
   "cell_type": "markdown",
   "id": "df1d0229",
   "metadata": {
    "slideshow": {
     "slide_type": "slide"
    }
   },
   "source": [
    "## Looping through a dictionary\n",
    "\n",
    "You can loop through a dictionary with a `for` loop, though it will only run through each of the *keys*. You can then use the key to get the value.\n",
    "\n",
    "In the example below, notice that the loop variable `key` takes on keys from our phone book dictionary. We can then use the key to access the value with `cs_dept_phonebook[key]`."
   ]
  },
  {
   "cell_type": "code",
   "execution_count": 11,
   "id": "8b21b5ad",
   "metadata": {},
   "outputs": [
    {
     "name": "stdout",
     "output_type": "stream",
     "text": [
      "Porter 's office phone extension is 3041\n",
      "Case 's office phone extension is 4618\n",
      "Reza 's office phone extension is 1972\n",
      "Moore 's office phone extension is 3110\n",
      "Manley 's office phone extension is 2177\n",
      "Urness 's office phone extension is 2118\n",
      "Migunov 's office phone extension is 1810\n",
      "Valpey 's office phone extension is 5555\n"
     ]
    }
   ],
   "source": [
    "for key in cs_dept_phonebook:\n",
    "    print(key,\"'s office phone extension is\",cs_dept_phonebook[key])"
   ]
  }
 ],
 "metadata": {
  "celltoolbar": "Slideshow",
  "kernelspec": {
   "display_name": "Python 3 (ipykernel)",
   "language": "python",
   "name": "python3"
  },
  "language_info": {
   "codemirror_mode": {
    "name": "ipython",
    "version": 3
   },
   "file_extension": ".py",
   "mimetype": "text/x-python",
   "name": "python",
   "nbconvert_exporter": "python",
   "pygments_lexer": "ipython3",
   "version": "3.10.6"
  },
  "varInspector": {
   "cols": {
    "lenName": 16,
    "lenType": 16,
    "lenVar": 40
   },
   "kernels_config": {
    "python": {
     "delete_cmd_postfix": "",
     "delete_cmd_prefix": "del ",
     "library": "var_list.py",
     "varRefreshCmd": "print(var_dic_list())"
    },
    "r": {
     "delete_cmd_postfix": ") ",
     "delete_cmd_prefix": "rm(",
     "library": "var_list.r",
     "varRefreshCmd": "cat(var_dic_list()) "
    }
   },
   "types_to_exclude": [
    "module",
    "function",
    "builtin_function_or_method",
    "instance",
    "_Feature"
   ],
   "window_display": false
  }
 },
 "nbformat": 4,
 "nbformat_minor": 5
}
