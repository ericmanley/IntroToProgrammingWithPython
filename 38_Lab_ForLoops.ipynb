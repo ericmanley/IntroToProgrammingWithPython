{
 "cells": [
  {
   "cell_type": "markdown",
   "id": "949eea81",
   "metadata": {},
   "source": [
    "## Lab: For Loops\n",
    "In this lab, you will get practice writing `for` loops. You'll use them to loop through lists with and without the `range()` function."
   ]
  },
  {
   "cell_type": "markdown",
   "id": "669bd2cf",
   "metadata": {},
   "source": [
    "__Exercise 1:__ Write a for loop that displays the indices of the negative temperatures from the temperatures list. The output might look like this:\n",
    "\n",
    "![negativetemperatureindices.png](images/negativetemperatureindices.png)"
   ]
  },
  {
   "cell_type": "code",
   "execution_count": null,
   "id": "9a3272da",
   "metadata": {},
   "outputs": [],
   "source": [
    " temperatures = [30, 20, 2, -5, -15, -8, -1, 0, 5, 35]"
   ]
  },
  {
   "cell_type": "markdown",
   "id": "498303cb",
   "metadata": {},
   "source": [
    "__Exercise 2:__ The following for loop attempts to say \"Hi\" to all of the Computer Science professors at Drake, but it has an error. Find the error and fix it so that this code works as intended!"
   ]
  },
  {
   "cell_type": "code",
   "execution_count": null,
   "id": "7644bf1e",
   "metadata": {},
   "outputs": [],
   "source": [
    "drake_cs_profs = [\"Tim\",\"Eric\",\"Adam\",\"Chris\",\"Meredith\",\"Alimoor\",\"Andrei\",\"Benjie\"]\n",
    "\n",
    "for i in drake_cs_profs:\n",
    "    print(\"Hi\", drake_cs_profs[i])"
   ]
  },
  {
   "cell_type": "markdown",
   "id": "f9f73433",
   "metadata": {},
   "source": [
    "__Exercise 3:__ In mathematics, the notation $n!$ represents the factorial of the positive integer $n$. The _factorial_ is the product of all the integers from 1 to $n$. For example $$7! = 1*2*3*4*5*6*7 = 5040$$ and $$4! = 1*2*3*4 = 24.$$ Write a function called `factorial()` that uses a `for` loop to find the factorial of a number. It should work like this:\n",
    "\n",
    "![factorial.png](images/factorial.png)"
   ]
  }
 ],
 "metadata": {
  "kernelspec": {
   "display_name": "Python 3 (ipykernel)",
   "language": "python",
   "name": "python3"
  },
  "language_info": {
   "codemirror_mode": {
    "name": "ipython",
    "version": 3
   },
   "file_extension": ".py",
   "mimetype": "text/x-python",
   "name": "python",
   "nbconvert_exporter": "python",
   "pygments_lexer": "ipython3",
   "version": "3.10.6"
  }
 },
 "nbformat": 4,
 "nbformat_minor": 5
}
