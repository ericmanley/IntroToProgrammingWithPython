{
 "cells": [
  {
   "cell_type": "markdown",
   "id": "fc578007",
   "metadata": {
    "hideCode": false,
    "hidePrompt": false
   },
   "source": [
    "# Lab: A year with Python\n",
    "\n",
    "[![Open In Colab](https://colab.research.google.com/assets/colab-badge.svg)](https://colab.research.google.com/github/ericmanley/IntroToProgrammingWithPython/blob/main/05_Lab_AYearWithPython.ipynb)\n",
    "\n",
    "In this lab, you're going to create a program that uses several variables and then you'll experiment with some additional assignment statetments.\n",
    "\n",
    "__Challenge Exercise 1:__ Your task is to write a program which computes the fraction of the year that you will spend working on Python for this course. To do that, we'll make the following assumptions:\n",
    "\n",
    "* The \"time spent on Python\" is defined as the amount of time that it is recommended for students to put into a course.\n",
    "* The recommended time to spend on a course is 3 hours outside of class for every hour inside class. \n",
    "* A normal semester includes 14 weeks, with 150 minutes of in-class time each week.\n",
    "* You can assume the year is a non-leap year, with 365 days.\n",
    "\n",
    "Your program might start like this:"
   ]
  },
  {
   "cell_type": "code",
   "execution_count": null,
   "id": "f2ad2063",
   "metadata": {
    "hideCode": false,
    "hidePrompt": false
   },
   "outputs": [],
   "source": [
    "num_course_weeks = 14\n",
    "in_class_minutes_per_week = 150\n",
    "total_in_class_minutes = num_course_weeks * in_class_minutes_per_week"
   ]
  },
  {
   "cell_type": "markdown",
   "id": "7f63e48b",
   "metadata": {
    "hideCode": false,
    "hidePrompt": false
   },
   "source": [
    "You should include an output statetment which prints the answer along with text that explains what the number is. For example, something like this:\n",
    "\n",
    "<p>\n",
    "<div>\n",
    "<img src=\"images/ayearwithpythonoutput.png\" width=\"800\" />\n",
    "</div>\n",
    "</p>\n",
    "\n",
    "And, that's actually the answer you should come up with if you make all the assumptions listed above and you do all the calculations correctly.\n",
    "\n",
    "Here's what I'll be looking for in your solution:\n",
    "* A correct calculation (i.e., the number above or something very close to it should be output with some text)\n",
    "* Create at least two new variables with descriptive names\n",
    "* Use variables on both the left and right side of `=`. That is, use the values of your variables in computing values for other variables\n"
   ]
  },
  {
   "cell_type": "markdown",
   "id": "eda8177c",
   "metadata": {
    "hideCode": false,
    "hidePrompt": false
   },
   "source": [
    "__Exercise 2:__ Run the following code at the interactive shell, observe the output, and reflect on the questions below."
   ]
  },
  {
   "cell_type": "code",
   "execution_count": null,
   "id": "a14c6263",
   "metadata": {
    "hideCode": false,
    "hidePrompt": false
   },
   "outputs": [],
   "source": [
    "my_variable = 5\n",
    "my_variable = my_variable + 1\n",
    "print(my_variable)"
   ]
  },
  {
   "cell_type": "markdown",
   "id": "28ab6d90",
   "metadata": {
    "hideCode": false,
    "hidePrompt": false
   },
   "source": [
    "* Can you put a variable on both the left and right side of an assignment statement?\n",
    "* Why might you want to do that?"
   ]
  },
  {
   "cell_type": "markdown",
   "id": "0ccf9b4d",
   "metadata": {},
   "source": [
    "__Exercise 3:__ Run the following code at the interactive shell, observe the output, and reflect on the questions below."
   ]
  },
  {
   "cell_type": "code",
   "execution_count": null,
   "id": "2f7660fd",
   "metadata": {},
   "outputs": [],
   "source": [
    "my_variable = 5\n",
    "my_variable += 1\n",
    "print(my_variable)"
   ]
  },
  {
   "cell_type": "markdown",
   "id": "b3417b27",
   "metadata": {},
   "source": [
    "* Is there a difference between `my_variable = my_variable + 1` and `my_variable += 1`?\n",
    "* Can you do this with other operators? Is there a `-=`, `*=`, or `/=`?"
   ]
  }
 ],
 "metadata": {
  "hide_code_all_hidden": false,
  "kernelspec": {
   "display_name": "Python 3",
   "language": "python",
   "name": "python3"
  },
  "language_info": {
   "codemirror_mode": {
    "name": "ipython",
    "version": 3
   },
   "file_extension": ".py",
   "mimetype": "text/x-python",
   "name": "python",
   "nbconvert_exporter": "python",
   "pygments_lexer": "ipython3",
   "version": "3.8.8"
  }
 },
 "nbformat": 4,
 "nbformat_minor": 5
}
