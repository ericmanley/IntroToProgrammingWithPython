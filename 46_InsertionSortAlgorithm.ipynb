{
 "cells": [
  {
   "cell_type": "markdown",
   "id": "94dcc6db",
   "metadata": {
    "slideshow": {
     "slide_type": "slide"
    }
   },
   "source": [
    "# Insertion Sorting Algorithm\n",
    "#### Introduction to Programming with Python"
   ]
  },
  {
   "cell_type": "markdown",
   "id": "de945731",
   "metadata": {
    "slideshow": {
     "slide_type": "slide"
    }
   },
   "source": [
    "## Sorting\n",
    "\n",
    "Arranging a collection into some _sorted_ order (ascending/descending, numerical/alphabetical/lexicographical) is a very common problem in computer science\n",
    "* Can make output more human-readable\n",
    "* It can make searching (including find max/min) much faster\n",
    "\n",
    "Python lists can be sorted using the built-in `sort` method like this. We're going to look more closely at how sorting algorithms like this work."
   ]
  },
  {
   "cell_type": "code",
   "execution_count": 1,
   "id": "f3016e4f",
   "metadata": {},
   "outputs": [
    {
     "name": "stdout",
     "output_type": "stream",
     "text": [
      "[53.2, 62.1, 76.6, 79.7, 81.9, 83.3, 84.8, 88.3, 92.2]\n"
     ]
    }
   ],
   "source": [
    "student_grades = [88.3, 53.2, 76.6, 92.2, 81.9, 79.7, 62.1, 84.8, 83.3]\n",
    "student_grades.sort()\n",
    "print(student_grades)"
   ]
  },
  {
   "cell_type": "markdown",
   "id": "2565120f",
   "metadata": {
    "slideshow": {
     "slide_type": "slide"
    }
   },
   "source": [
    "## Sorting Algorithms\n",
    "\n",
    "Because sorting is so common, it is a well-studied algorithmic problem with many different solutions. Famous sorting algorithms include [Bubble Sort](https://en.wikipedia.org/wiki/Bubble_sort), [Quicksort](https://en.wikipedia.org/wiki/Quicksort), [Merge Sort](https://en.wikipedia.org/wiki/Merge_sort), [Heapsort](https://en.wikipedia.org/wiki/Heapsort), [Selection Sort](https://en.wikipedia.org/wiki/Selection_sort), [Insertion Sort](https://en.wikipedia.org/wiki/Insertion_sort), and [Bucket Sort](https://en.wikipedia.org/wiki/Bucket_sort). The built-in sorting algorithm that Python uses is called [Timsort](https://en.wikipedia.org/wiki/Timsort), which combines ideas from Insertion Sort and Merge Sort.\n",
    "\n",
    "Different sorting algorithms have different strengths and weaknesses, and their performance (in terms of computing time and memory needed) often depend on characteristics of the data being sorted. Usually, you want the one that is _fastest_ for your data/application/problem,\n",
    "\n",
    "Later computer science courses cover how to analyze and compare these algorithms, but now we'll look at one example algorithm."
   ]
  },
  {
   "attachments": {},
   "cell_type": "markdown",
   "id": "5763af0f",
   "metadata": {
    "slideshow": {
     "slide_type": "slide"
    }
   },
   "source": [
    "## Insertion Sort\n",
    "\n",
    "__Insertion Sort:__ is a simple, intuitive sorting algorithm\n",
    "* many people use this algorithm when sorting a pile of papers or a hand of playing cards\n",
    "* it's not the fastest algorithm - but it's not the worst, either\n",
    "\n",
    "<center>\n",
    "<div>\n",
    "<img src=\"images/bridgehand.jpg\" width=\"400\"/>\n",
    "</div>\n",
    "</center>\n",
    "\n",
    "Works by splitting the list into two parts - a sorted part and an unsorted part\n",
    "* Move items one at a time into the sorted part, putting it in the right place\n",
    "\n",
    "Here's an animation illustrating how the algorithm works. The *sorted part* of the algorithm is shown in blue, and the *unsorted part* is shown in black. At each time step, we remove an item from the unsorted part and insert it where it goes by searching through the sorted part until we find the spot it should go in."
   ]
  },
  {
   "attachments": {},
   "cell_type": "markdown",
   "id": "116a50ec",
   "metadata": {
    "slideshow": {
     "slide_type": "slide"
    }
   },
   "source": [
    "![InsertionSortAnimation.gif](images/InsertionSortAnimation.gif)"
   ]
  },
  {
   "cell_type": "markdown",
   "id": "2af23594",
   "metadata": {},
   "source": [
    "As we develop the code for this, let's imagine a snapshot in the middle of the algorithm when the first part of the list, `1, 5, 8` is the sorted part, and `7, 2, 4` is the unsorted part. Our task now is to take the next value, `7`  which is at index 3, and search for where it goes in the sorted part.\n",
    "\n",
    "The `current_item_index` variable will keep track of the *index* of the current item (`7`). This will also tell us which part of the list is sorted (all indexes less than 3) and which part is unsorted (index 3 and later).\n",
    "\n",
    "We'll set this up as a search, looking for the first item in the sorted part that is bigger than the current item."
   ]
  },
  {
   "cell_type": "code",
   "execution_count": 4,
   "id": "f11fe085",
   "metadata": {},
   "outputs": [
    {
     "name": "stdout",
     "output_type": "stream",
     "text": [
      "we found 8 which is the first item bigger than 7 so it must go in index 2\n"
     ]
    }
   ],
   "source": [
    "items = [1, 5, 8, 7, 2, 4]\n",
    "current_item_index = 3 # in this list, the value 7 is at index 3\n",
    "\n",
    "position_to_check = 0 # start searching at the beginning of the list\n",
    "\n",
    "# keep searching until we find the \n",
    "while position_to_check < current_item_index:\n",
    "    \n",
    "    if items[position_to_check] > items[current_item_index]:\n",
    "        print(\"we found\",items[position_to_check],\"which is the first item bigger than\",items[current_item_index],\"so it must go in index\",position_to_check)\n",
    "        break # we found the spot so we can end early\n",
    "    \n",
    "    position_to_check += 1 # move to the next item in our search\n"
   ]
  },
  {
   "cell_type": "markdown",
   "id": "bd508e61",
   "metadata": {},
   "source": [
    "So now that we found that the `7` needs to go in index 2, we could *pop* the `7` from its current spot at `current_item_index` and *insert* it at index 2 (which is `position_to_check`)."
   ]
  },
  {
   "cell_type": "code",
   "execution_count": 5,
   "id": "5927308a",
   "metadata": {},
   "outputs": [
    {
     "name": "stdout",
     "output_type": "stream",
     "text": [
      "Now the list looks like this: [1, 5, 7, 8, 2, 4]\n"
     ]
    }
   ],
   "source": [
    "current_item = items.pop(current_item_index)\n",
    "items.insert(position_to_check,current_item)\n",
    "print(\"Now the list looks like this:\",items)"
   ]
  },
  {
   "cell_type": "markdown",
   "id": "e5c062f3",
   "metadata": {},
   "source": [
    "As you can see, the sorted part of the list is one larger - indexes 0 to 3 are sorted while 4 and later are unsorted.\n",
    "\n",
    "Now we can just put this inside a loop where we do it over and over, starting with a \"sorted\" list of just one item until the sorted part is the entire list."
   ]
  },
  {
   "cell_type": "code",
   "execution_count": 17,
   "id": "80fb7101",
   "metadata": {},
   "outputs": [
    {
     "name": "stdout",
     "output_type": "stream",
     "text": [
      "The final sorted list: [1, 2, 4, 5, 7, 8]\n"
     ]
    }
   ],
   "source": [
    "items = [5, 1, 8, 7, 2, 4]\n",
    "\n",
    "for current_item_index in range(1,len(items)):\n",
    "    \n",
    "    position_to_check = 0 # start searching at the beginning of the list\n",
    "\n",
    "    # keep searching until we find the \n",
    "    while position_to_check < current_item_index:\n",
    "\n",
    "        if items[position_to_check] > items[current_item_index]:\n",
    "            break # we found the spot so we can end early\n",
    "\n",
    "        position_to_check += 1 # move to the next item in our search\n",
    "        \n",
    "    # move the item\n",
    "    current_item = items.pop(current_item_index)\n",
    "    items.insert(position_to_check,current_item)\n",
    "\n",
    "    \n",
    "print(\"The final sorted list:\",items)"
   ]
  },
  {
   "cell_type": "markdown",
   "id": "4064e815",
   "metadata": {},
   "source": [
    "**Reflection Question:** What happens when the `current_item` (the one that we're inserting into the sorted part) is already in the correct place? Does our code work correctly in this case, why or why not? Write the answer in your notes."
   ]
  },
  {
   "cell_type": "markdown",
   "id": "1067128a",
   "metadata": {
    "slideshow": {
     "slide_type": "slide"
    }
   },
   "source": [
    "## Another approach\n",
    "\n",
    "The code we wrote does both a `pop` and an `insert` on each iteration through the outer loop, and both of these methods require Python to loop through a good chunk of the list to shift items around. Some items get moved to a new index twice when they don't need to move at all! We could save some time by re-writing this part to do the pop and insert parts together, avoiding any unnecessary moving.\n",
    "\n",
    "Here's another approach that eliminates the need to use `pop` and `insert` by scanning from right-to-left (instead of searching starting at 0, it starts on the other end of the sorted part and searches backwards through the list). As we scan, we move the items over one spot at a time until we find the place where this one goes.\n",
    "\n"
   ]
  },
  {
   "cell_type": "code",
   "execution_count": 18,
   "id": "09f6f95f",
   "metadata": {},
   "outputs": [
    {
     "name": "stdout",
     "output_type": "stream",
     "text": [
      "[53.2, 53.2, 62.1, 76.6, 79.7, 81.9, 83.3, 83.3, 88.3]\n"
     ]
    }
   ],
   "source": [
    "items  = [88.3, 53.2, 76.6, 92.2, 81.9, 79.7, 62.1, 84.8, 83.3]\n",
    "\n",
    "for current_item_index in range(1,len(items)):\n",
    "\n",
    "    current_item = items[current_item_index]\n",
    "    position = current_item_index # starting on the right of the sorted part\n",
    "\n",
    "    #shift grades down the list until we find where this one goes\n",
    "    while position > 0 and items[position-1] > current_item:\n",
    "        items[position]=student_grades[position-1]\n",
    "        position = position - 1 # decrement so we move to the left\n",
    "\n",
    "    # drop the current item in the newly created space\n",
    "    items[position]=current_item\n",
    "    \n",
    "print(items)"
   ]
  }
 ],
 "metadata": {
  "celltoolbar": "Slideshow",
  "kernelspec": {
   "display_name": "Python 3 (ipykernel)",
   "language": "python",
   "name": "python3"
  },
  "language_info": {
   "codemirror_mode": {
    "name": "ipython",
    "version": 3
   },
   "file_extension": ".py",
   "mimetype": "text/x-python",
   "name": "python",
   "nbconvert_exporter": "python",
   "pygments_lexer": "ipython3",
   "version": "3.10.6"
  }
 },
 "nbformat": 4,
 "nbformat_minor": 5
}
