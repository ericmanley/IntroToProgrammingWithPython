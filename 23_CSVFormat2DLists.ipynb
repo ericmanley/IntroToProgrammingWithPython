{
 "cells": [
  {
   "cell_type": "markdown",
   "id": "122fff00",
   "metadata": {
    "hideCode": false,
    "hidePrompt": false,
    "slideshow": {
     "slide_type": "slide"
    }
   },
   "source": [
    "# The CSV File Format and Two Dimensional Lists\n",
    "#### Introduction to Programming with Python"
   ]
  },
  {
   "cell_type": "markdown",
   "id": "724a4698",
   "metadata": {
    "hideCode": false,
    "hidePrompt": false,
    "slideshow": {
     "slide_type": "slide"
    }
   },
   "source": [
    "## A useful string method: `split()`\n",
    "\n",
    "`split()` is a string method that will break a string into parts based on some *delimiter* - a thing that separates useful values. For example, you can express a time duration in a format like 4:52:20, which would mean 4 hours, 52 minutes, and 20 seconds. In this format, \":\" is used a delimiter."
   ]
  },
  {
   "cell_type": "code",
   "execution_count": 1,
   "id": "8d76a0ac",
   "metadata": {
    "hideCode": false,
    "hidePrompt": false,
    "slideshow": {
     "slide_type": "fragment"
    }
   },
   "outputs": [
    {
     "name": "stdout",
     "output_type": "stream",
     "text": [
      "['4', '52', '20']\n"
     ]
    }
   ],
   "source": [
    "marathon_time = \"4:52:20\"\n",
    "marathon_time_split = marathon_time.split(\":\")\n",
    "print(marathon_time_split)"
   ]
  },
  {
   "cell_type": "markdown",
   "id": "ae554af3",
   "metadata": {
    "slideshow": {
     "slide_type": "fragment"
    }
   },
   "source": [
    "Commas are another common delimiter. Let's say we read the line `\"0.0, 0.4, 1.3, 1.1, 2.5, 0.0, 0.6\"` from a file. In this case, the values are delimited by two characters - a command and a space. We could split on that too. Then we'd have a list of all the rainfall amounts, and they'd all be strings. So, maybe we'd convert one to a float if we needed to do something useful with it like compare it to another number or add it on to an accumulator."
   ]
  },
  {
   "cell_type": "code",
   "execution_count": 2,
   "id": "2034c5ed",
   "metadata": {
    "hideCode": false,
    "hidePrompt": false
   },
   "outputs": [
    {
     "name": "stdout",
     "output_type": "stream",
     "text": [
      "['0.0', '0.4', '1.3', '1.1', '2.5', '0.0', '0.6']\n",
      "2.5\n"
     ]
    }
   ],
   "source": [
    "rainfall_data = \"0.0, 0.4, 1.3, 1.1, 2.5, 0.0, 0.6\"\n",
    "rainfall_list = rainfall_data.split(\", \")\n",
    "print(rainfall_list)\n",
    "print(float(rainfall_list[4]))"
   ]
  },
  {
   "cell_type": "markdown",
   "id": "37d63105",
   "metadata": {
    "hideCode": false,
    "hidePrompt": false,
    "slideshow": {
     "slide_type": "slide"
    }
   },
   "source": [
    "## CSV files - comma separated values\n",
    "\n",
    "You may have noticed that data is very often presented in *tables* - like a table of statistics in a book or data from a spreadsheet.\n",
    "\n",
    "**CSV** (comma separated values) is a common but simple file format for data stored in tables. CSV files typically end in the `.csv` file extension and can often be opened with either spreadsheet software or text editors.\n",
    "\n",
    "Download the `nationalparks.csv` file here: https://raw.githubusercontent.com/ericmanley/IntroToProgrammingWithPython/refs/heads/main/nationalparks.csv\n",
    "\n",
    "This data is information about national parks and is originally from https://en.wikipedia.org/wiki/List_of_areas_in_the_United_States_National_Park_System\n",
    "\n",
    "Try opening it with a text editor as well as a spreadsheet application to see how each presents the data. Next, we'll look at different options for how you can get this table data into your program.\n"
   ]
  },
  {
   "attachments": {},
   "cell_type": "markdown",
   "id": "67c156ba",
   "metadata": {
    "hideCode": false,
    "hidePrompt": false,
    "slideshow": {
     "slide_type": "subslide"
    }
   },
   "source": [
    "<center>\n",
    "<div>\n",
    "<img src=\"images/opencsv.png\" width=\"800\"/>\n",
    "</div>\n",
    "</center>\n"
   ]
  },
  {
   "cell_type": "markdown",
   "id": "8defb692",
   "metadata": {
    "hideCode": false,
    "hidePrompt": false,
    "slideshow": {
     "slide_type": "slide"
    }
   },
   "source": [
    "## Option 1: Read it into a list and then process each row as needed\n",
    "\n",
    "We could just open this file and read in all of the lines using `readlines()` like we've already seen. "
   ]
  },
  {
   "cell_type": "code",
   "execution_count": 4,
   "id": "4992b901",
   "metadata": {
    "hideCode": false,
    "hidePrompt": false
   },
   "outputs": [
    {
     "name": "stdout",
     "output_type": "stream",
     "text": [
      "Here's what the whole list looks like: ['Name,Location,Year established,Area in acres\\n', 'Acadia National Park,Maine,1919,49076.63\\n', 'National Park of American Samoa,American Samoa,1988,8256.67\\n', 'Arches National Park,Utah,1971,76678.98\\n', 'Badlands National Park,South Dakota,1978,242755.94\\n', 'Big Bend National Park,Texas,1944,801163.21\\n', 'Biscayne National Park,Florida,1980,172971.11\\n', 'Black Canyon of the Gunnison National Park,Colorado,1999,30779.83\\n', 'Bryce Canyon National Park,Utah,1928,35835.08\\n', 'Canyonlands National Park,Utah,1964,337597.83\\n', 'Capitol Reef National Park,Utah,1971,241904.50\\n', 'Carlsbad Caverns National Park,New Mexico,1930,46766.45\\n', 'Channel Islands National Park,California,1980,249561.00\\n', 'Congaree National Park,South Carolina,2003,26476.47\\n', 'Crater Lake National Park,Oregon,1902,183224.05\\n', 'Cuyahoga Valley National Park,Ohio,2000,32571.88\\n', 'Death Valley National Park,\"California, Nevada\",1994,3408395.63\\n', 'Denali National Park,Alaska,1917,4740911.16\\n', 'Dry Tortugas National Park,Florida,1992,64701.22\\n', 'Everglades National Park,Florida,1947,1508938.57\\n', 'Gates of the Arctic National Park,Alaska,1980,7523897.45\\n', 'Gateway Arch National Park,Missouri,2018,192.83\\n', 'Glacier National Park (part of Waterton-Glacier International Peace Park),Montana,1910,1013126.39\\n', 'Glacier Bay National Park,Alaska,1980,3223383.43\\n', 'Grand Canyon National Park,Arizona,1919,1201647.03\\n', 'Grand Teton National Park,Wyoming,1929,310044.36\\n', 'Great Basin National Park,Nevada,1986,77180.00\\n', 'Great Sand Dunes National Park,Colorado,2004,107341.87\\n', 'Great Smoky Mountains National Park,\"North Carolina, Tennessee\",1934,522426.88\\n', 'Guadalupe Mountains National Park,Texas,1966,86367.10\\n', 'Haleakala National Park,Hawaii,1916,33264.62\\n', 'Hawaii Volcanoes National Park,Hawaii,1916,325605.28\\n', 'Hot Springs National Park,Arkansas,1921,5554.15\\n', 'Indiana Dunes National Park,Indiana,2019,15349.08\\n', 'Isle Royale National Park,Michigan,1940,571790.30\\n', 'Joshua Tree National Park,California,1994,795155.85\\n', 'Katmai National Park,Alaska,1980,3674529.33\\n', 'Kenai Fjords National Park,Alaska,1980,669650.05\\n', 'Kings Canyon National Park,California,1940,461901.20\\n', 'Kobuk Valley National Park,Alaska,1980,1750716.16\\n', 'Lake Clark National Park,Alaska,1980,2619816.49\\n', 'Lassen Volcanic National Park,California,1916,106589.02\\n', 'Mammoth Cave National Park,Kentucky,1941,54011.91\\n', 'Mesa Verde National Park,Colorado,1906,52485.17\\n', 'Mount Rainier National Park,Washington,1899,236381.64\\n', 'New River Gorge National Park and Preserve,West Virginia,2020,72185.76\\n', 'North Cascades National Park,Washington,1968,504780.94\\n', 'Olympic National Park,Washington,1938,922649.41\\n', 'Petrified Forest National Park,Arizona,1962,221390.21\\n', 'Pinnacles National Park,California,2013,26685.73\\n', 'Redwood National and State Parks,California,1968,138999.37\\n', 'Rocky Mountain National Park,Colorado,1915,265807.25\\n', 'Saguaro National Park,Arizona,1994,92867.42\\n', 'Sequoia National Park,California,1890,404062.63\\n', 'Shenandoah National Park,Virginia,1935,199223.77\\n', 'Theodore Roosevelt National Park,North Dakota,1978,70446.89\\n', 'Virgin Islands National Park,U.S. Virgin Islands,1956,15052.33\\n', 'Voyageurs National Park,Minnesota,1975,218222.35\\n', 'White Sands National Park,New Mexico,2019,146344.31\\n', 'Wind Cave National Park,South Dakota,1903,33970.84\\n', 'Wrangell–St. Elias National Park,Alaska,1980,8323146.48\\n', 'Yellowstone National Park,\"Idaho, Montana, Wyoming\",1872,2219790.71\\n', 'Yosemite National Park,California,1890,761747.50\\n', 'Zion National Park,Utah,1919,147242.66\\n']\n",
      "Here's the line at index 3: Arches National Park,Utah,1971,76678.98\n",
      "\n"
     ]
    }
   ],
   "source": [
    "with open(\"nationalparks.csv\") as parkfile:\n",
    "    parks = parkfile.readlines()\n",
    "\n",
    "print(\"Here's what the whole list looks like:\",parks)\n",
    "\n",
    "print(\"Here's the line at index 3:\",parks[3])"
   ]
  },
  {
   "cell_type": "markdown",
   "id": "6baf9d83",
   "metadata": {},
   "source": [
    "The item at index 3 appears to be the line from the file about Arches National Park. Here's an example of how a programmer could process data and do something useful with it."
   ]
  },
  {
   "cell_type": "code",
   "execution_count": 5,
   "id": "2faa6848",
   "metadata": {
    "hideCode": false,
    "hidePrompt": false
   },
   "outputs": [
    {
     "name": "stdout",
     "output_type": "stream",
     "text": [
      "Arches National Park,Utah,1971,76678.98\n",
      "\n",
      "['Arches National Park', 'Utah', '1971', '76678.98']\n",
      "Arches National Park is 119.81090624999999 square miles\n"
     ]
    }
   ],
   "source": [
    "# save the line at index 3 to a new variable and display it\n",
    "arches = parks[3]\n",
    "print(arches)\n",
    "\n",
    "# get rid of that pesky newline at the end\n",
    "arches = arches.rstrip()\n",
    "\n",
    "# separate each of the values by using the comma as a delimiter with split()\n",
    "arches_list = arches.split(',')\n",
    "print(arches_list)\n",
    "\n",
    "# save the number of acres as a float variable so we can do a conversion to square miles\n",
    "arches_acres = float(arches_list[3])\n",
    "print(arches_list[0],\"is\",(arches_acres/640),\"square miles\")"
   ]
  },
  {
   "cell_type": "markdown",
   "id": "066d4da1",
   "metadata": {
    "hideCode": false,
    "hidePrompt": false,
    "slideshow": {
     "slide_type": "slide"
    }
   },
   "source": [
    "## Option 2: use the csv module\n",
    "\n",
    "Because CSV files are so common, there are Python modules that will do a lot of this work for us."
   ]
  },
  {
   "cell_type": "code",
   "execution_count": 6,
   "id": "20d79cf1",
   "metadata": {},
   "outputs": [
    {
     "name": "stdout",
     "output_type": "stream",
     "text": [
      "<_csv.reader object at 0x108fb0f20>\n"
     ]
    }
   ],
   "source": [
    "import csv\n",
    "\n",
    "with open(\"nationalparks.csv\") as npfile:\n",
    "    parks = csv.reader(npfile)\n",
    "    \n",
    "print(parks)"
   ]
  },
  {
   "cell_type": "markdown",
   "id": "c1772f62",
   "metadata": {},
   "source": [
    "This reader object is something that is kind of like a list you could work directly, but for now, let's instead convert it to an actual list so we can do things we already know how to do with lists. Notice that this gives us a **two-dimensional list** (or 2D list) - a list that has other lists as its items. The outer list contains a bunch of smaller lists, and each small list has the different pieces of data that appear on each line of the original file, with the newline and delimiter already removed."
   ]
  },
  {
   "cell_type": "code",
   "execution_count": 7,
   "id": "06c510cd",
   "metadata": {
    "hideCode": false,
    "hidePrompt": false
   },
   "outputs": [
    {
     "name": "stdout",
     "output_type": "stream",
     "text": [
      "[['Name', 'Location', 'Year established', 'Area in acres'], ['Acadia National Park', 'Maine', '1919', '49076.63'], ['National Park of American Samoa', 'American Samoa', '1988', '8256.67'], ['Arches National Park', 'Utah', '1971', '76678.98'], ['Badlands National Park', 'South Dakota', '1978', '242755.94'], ['Big Bend National Park', 'Texas', '1944', '801163.21'], ['Biscayne National Park', 'Florida', '1980', '172971.11'], ['Black Canyon of the Gunnison National Park', 'Colorado', '1999', '30779.83'], ['Bryce Canyon National Park', 'Utah', '1928', '35835.08'], ['Canyonlands National Park', 'Utah', '1964', '337597.83'], ['Capitol Reef National Park', 'Utah', '1971', '241904.50'], ['Carlsbad Caverns National Park', 'New Mexico', '1930', '46766.45'], ['Channel Islands National Park', 'California', '1980', '249561.00'], ['Congaree National Park', 'South Carolina', '2003', '26476.47'], ['Crater Lake National Park', 'Oregon', '1902', '183224.05'], ['Cuyahoga Valley National Park', 'Ohio', '2000', '32571.88'], ['Death Valley National Park', 'California, Nevada', '1994', '3408395.63'], ['Denali National Park', 'Alaska', '1917', '4740911.16'], ['Dry Tortugas National Park', 'Florida', '1992', '64701.22'], ['Everglades National Park', 'Florida', '1947', '1508938.57'], ['Gates of the Arctic National Park', 'Alaska', '1980', '7523897.45'], ['Gateway Arch National Park', 'Missouri', '2018', '192.83'], ['Glacier National Park (part of Waterton-Glacier International Peace Park)', 'Montana', '1910', '1013126.39'], ['Glacier Bay National Park', 'Alaska', '1980', '3223383.43'], ['Grand Canyon National Park', 'Arizona', '1919', '1201647.03'], ['Grand Teton National Park', 'Wyoming', '1929', '310044.36'], ['Great Basin National Park', 'Nevada', '1986', '77180.00'], ['Great Sand Dunes National Park', 'Colorado', '2004', '107341.87'], ['Great Smoky Mountains National Park', 'North Carolina, Tennessee', '1934', '522426.88'], ['Guadalupe Mountains National Park', 'Texas', '1966', '86367.10'], ['Haleakala National Park', 'Hawaii', '1916', '33264.62'], ['Hawaii Volcanoes National Park', 'Hawaii', '1916', '325605.28'], ['Hot Springs National Park', 'Arkansas', '1921', '5554.15'], ['Indiana Dunes National Park', 'Indiana', '2019', '15349.08'], ['Isle Royale National Park', 'Michigan', '1940', '571790.30'], ['Joshua Tree National Park', 'California', '1994', '795155.85'], ['Katmai National Park', 'Alaska', '1980', '3674529.33'], ['Kenai Fjords National Park', 'Alaska', '1980', '669650.05'], ['Kings Canyon National Park', 'California', '1940', '461901.20'], ['Kobuk Valley National Park', 'Alaska', '1980', '1750716.16'], ['Lake Clark National Park', 'Alaska', '1980', '2619816.49'], ['Lassen Volcanic National Park', 'California', '1916', '106589.02'], ['Mammoth Cave National Park', 'Kentucky', '1941', '54011.91'], ['Mesa Verde National Park', 'Colorado', '1906', '52485.17'], ['Mount Rainier National Park', 'Washington', '1899', '236381.64'], ['New River Gorge National Park and Preserve', 'West Virginia', '2020', '72185.76'], ['North Cascades National Park', 'Washington', '1968', '504780.94'], ['Olympic National Park', 'Washington', '1938', '922649.41'], ['Petrified Forest National Park', 'Arizona', '1962', '221390.21'], ['Pinnacles National Park', 'California', '2013', '26685.73'], ['Redwood National and State Parks', 'California', '1968', '138999.37'], ['Rocky Mountain National Park', 'Colorado', '1915', '265807.25'], ['Saguaro National Park', 'Arizona', '1994', '92867.42'], ['Sequoia National Park', 'California', '1890', '404062.63'], ['Shenandoah National Park', 'Virginia', '1935', '199223.77'], ['Theodore Roosevelt National Park', 'North Dakota', '1978', '70446.89'], ['Virgin Islands National Park', 'U.S. Virgin Islands', '1956', '15052.33'], ['Voyageurs National Park', 'Minnesota', '1975', '218222.35'], ['White Sands National Park', 'New Mexico', '2019', '146344.31'], ['Wind Cave National Park', 'South Dakota', '1903', '33970.84'], ['Wrangell–St. Elias National Park', 'Alaska', '1980', '8323146.48'], ['Yellowstone National Park', 'Idaho, Montana, Wyoming', '1872', '2219790.71'], ['Yosemite National Park', 'California', '1890', '761747.50'], ['Zion National Park', 'Utah', '1919', '147242.66']]\n"
     ]
    }
   ],
   "source": [
    "import csv\n",
    "\n",
    "with open(\"nationalparks.csv\") as npfile:\n",
    "    parks = csv.reader(npfile)\n",
    "    parks = list(parks)\n",
    "    \n",
    "print(parks)"
   ]
  },
  {
   "cell_type": "markdown",
   "id": "f50cc01f",
   "metadata": {
    "hideCode": false,
    "hidePrompt": false,
    "slideshow": {
     "slide_type": "fragment"
    }
   },
   "source": [
    "2D list data can be accessed with two indices, the first one for the row, and the second one for the column."
   ]
  },
  {
   "cell_type": "code",
   "execution_count": 8,
   "id": "04027c0f",
   "metadata": {
    "hideCode": false,
    "hidePrompt": false
   },
   "outputs": [
    {
     "name": "stdout",
     "output_type": "stream",
     "text": [
      "Arches National Park\n",
      "76678.98\n",
      "Arches National Park is 119.81090624999999 square miles\n"
     ]
    }
   ],
   "source": [
    "print(parks[3][0]) #row 3, column 0\n",
    "print(parks[3][3]) #row 3, column 3\n",
    "\n",
    "print(parks[3][0],\"is\",(float(parks[3][3])/640),\"square miles\")"
   ]
  },
  {
   "cell_type": "markdown",
   "id": "1c9e0c88",
   "metadata": {
    "hideCode": false,
    "hidePrompt": false
   },
   "source": [
    "## Processing all rows\n",
    "\n",
    "If we want to do something with every row or every column (or both), we could iterate through it with a loop."
   ]
  },
  {
   "cell_type": "code",
   "execution_count": 9,
   "id": "94358015",
   "metadata": {
    "hideCode": false,
    "hidePrompt": false
   },
   "outputs": [
    {
     "name": "stdout",
     "output_type": "stream",
     "text": [
      "Acadia National Park is 76.682234375 square miles\n",
      "National Park of American Samoa is 12.901046875 square miles\n",
      "Arches National Park is 119.81090624999999 square miles\n",
      "Badlands National Park is 379.30615625 square miles\n",
      "Big Bend National Park is 1251.817515625 square miles\n",
      "Biscayne National Park is 270.26735937499996 square miles\n",
      "Black Canyon of the Gunnison National Park is 48.093484375 square miles\n",
      "Bryce Canyon National Park is 55.992312500000004 square miles\n",
      "Canyonlands National Park is 527.496609375 square miles\n",
      "Capitol Reef National Park is 377.97578125 square miles\n",
      "Carlsbad Caverns National Park is 73.07257812499999 square miles\n",
      "Channel Islands National Park is 389.9390625 square miles\n",
      "Congaree National Park is 41.369484375 square miles\n",
      "Crater Lake National Park is 286.287578125 square miles\n",
      "Cuyahoga Valley National Park is 50.8935625 square miles\n",
      "Death Valley National Park is 5325.6181718749995 square miles\n",
      "Denali National Park is 7407.673687500001 square miles\n",
      "Dry Tortugas National Park is 101.09565625 square miles\n",
      "Everglades National Park is 2357.7165156250003 square miles\n",
      "Gates of the Arctic National Park is 11756.089765625 square miles\n",
      "Gateway Arch National Park is 0.301296875 square miles\n",
      "Glacier National Park (part of Waterton-Glacier International Peace Park) is 1583.009984375 square miles\n",
      "Glacier Bay National Park is 5036.536609375 square miles\n",
      "Grand Canyon National Park is 1877.5734843750001 square miles\n",
      "Grand Teton National Park is 484.44431249999997 square miles\n",
      "Great Basin National Park is 120.59375 square miles\n",
      "Great Sand Dunes National Park is 167.721671875 square miles\n",
      "Great Smoky Mountains National Park is 816.292 square miles\n",
      "Guadalupe Mountains National Park is 134.94859375000001 square miles\n",
      "Haleakala National Park is 51.97596875000001 square miles\n",
      "Hawaii Volcanoes National Park is 508.75825000000003 square miles\n",
      "Hot Springs National Park is 8.678359375 square miles\n",
      "Indiana Dunes National Park is 23.9829375 square miles\n",
      "Isle Royale National Park is 893.4223437500001 square miles\n",
      "Joshua Tree National Park is 1242.4310156249999 square miles\n",
      "Katmai National Park is 5741.452078125 square miles\n",
      "Kenai Fjords National Park is 1046.328203125 square miles\n",
      "Kings Canyon National Park is 721.720625 square miles\n",
      "Kobuk Valley National Park is 2735.4939999999997 square miles\n",
      "Lake Clark National Park is 4093.4632656250005 square miles\n",
      "Lassen Volcanic National Park is 166.54534375 square miles\n",
      "Mammoth Cave National Park is 84.39360937500001 square miles\n",
      "Mesa Verde National Park is 82.008078125 square miles\n",
      "Mount Rainier National Park is 369.3463125 square miles\n",
      "New River Gorge National Park and Preserve is 112.79024999999999 square miles\n",
      "North Cascades National Park is 788.72021875 square miles\n",
      "Olympic National Park is 1441.639703125 square miles\n",
      "Petrified Forest National Park is 345.922203125 square miles\n",
      "Pinnacles National Park is 41.696453125 square miles\n",
      "Redwood National and State Parks is 217.186515625 square miles\n",
      "Rocky Mountain National Park is 415.323828125 square miles\n",
      "Saguaro National Park is 145.10534375 square miles\n",
      "Sequoia National Park is 631.347859375 square miles\n",
      "Shenandoah National Park is 311.287140625 square miles\n",
      "Theodore Roosevelt National Park is 110.073265625 square miles\n",
      "Virgin Islands National Park is 23.519265625 square miles\n",
      "Voyageurs National Park is 340.972421875 square miles\n",
      "White Sands National Park is 228.662984375 square miles\n",
      "Wind Cave National Park is 53.0794375 square miles\n",
      "Wrangell–St. Elias National Park is 13004.916375 square miles\n",
      "Yellowstone National Park is 3468.422984375 square miles\n",
      "Yosemite National Park is 1190.23046875 square miles\n",
      "Zion National Park is 230.06665625 square miles\n"
     ]
    }
   ],
   "source": [
    "import csv\n",
    "\n",
    "with open(\"nationalparks.csv\") as npfile:\n",
    "    parks = csv.reader(npfile)\n",
    "    parks = list(parks)\n",
    "\n",
    "    \n",
    "    park_counter = 1\n",
    "    \n",
    "    while park_counter < len(parks):\n",
    "        print(parks[park_counter][0],\"is\",(float(parks[park_counter][3])/640),\"square miles\")\n",
    "        park_counter += 1\n",
    "    "
   ]
  },
  {
   "cell_type": "markdown",
   "id": "b76b8d5b",
   "metadata": {
    "hideCode": false,
    "hidePrompt": false
   },
   "source": [
    "## Example: How many national parks are in a given state?\n",
    "\n",
    "The following code reads in the 2D list to the `parks` variable as before. Then we ask the user to enter the name of a state and loop through the *outer* list, counting how many parks are in that state."
   ]
  },
  {
   "cell_type": "code",
   "execution_count": 10,
   "id": "84a1b5d1",
   "metadata": {
    "hideCode": false,
    "hidePrompt": false,
    "slideshow": {
     "slide_type": "skip"
    }
   },
   "outputs": [
    {
     "name": "stdout",
     "output_type": "stream",
     "text": [
      "Enter a state: Utah\n",
      "There are 5 national parks in Utah\n"
     ]
    }
   ],
   "source": [
    "import csv\n",
    "\n",
    "with open(\"nationalparks.csv\") as npfile:\n",
    "    parks = csv.reader(npfile)\n",
    "    parks = list(parks)\n",
    "    \n",
    "state = input(\"Enter a state: \")\n",
    "\n",
    "park_counter = 1\n",
    "parks_in_state = 0\n",
    "\n",
    "while park_counter < len(parks):\n",
    "    \n",
    "    if parks[park_counter][1] == state:\n",
    "        parks_in_state += 1\n",
    "    \n",
    "    \n",
    "    park_counter += 1\n",
    "    \n",
    "print(\"There are\",parks_in_state,\"national parks in\",state)"
   ]
  },
  {
   "cell_type": "markdown",
   "id": "f552a96f",
   "metadata": {},
   "source": [
    "**Reflection Questions:** To make sure you understand how this code works, answer the following questions in your notes:\n",
    "1. What does `len(parks)` represent? Is it the number of parks? Is it the number of total values that appears in the whole file? Why do we use that in the condition for the counter-controlled loop?\n",
    "2. What is `parks[park_counter][1]`? Why is `park_counter` used as the first of the two indexes?  What is the purpose of hard-coding a number like 1 in there? "
   ]
  }
 ],
 "metadata": {
  "celltoolbar": "Slideshow",
  "hide_code_all_hidden": false,
  "kernelspec": {
   "display_name": "Python 3 (ipykernel)",
   "language": "python",
   "name": "python3"
  },
  "language_info": {
   "codemirror_mode": {
    "name": "ipython",
    "version": 3
   },
   "file_extension": ".py",
   "mimetype": "text/x-python",
   "name": "python",
   "nbconvert_exporter": "python",
   "pygments_lexer": "ipython3",
   "version": "3.10.6"
  }
 },
 "nbformat": 4,
 "nbformat_minor": 5
}
