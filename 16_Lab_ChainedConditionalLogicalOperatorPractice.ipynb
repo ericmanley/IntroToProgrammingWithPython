{
 "cells": [
  {
   "cell_type": "markdown",
   "id": "10e6d442",
   "metadata": {
    "hideCode": false,
    "hidePrompt": false,
    "slideshow": {
     "slide_type": "-"
    }
   },
   "source": [
    "# Lab: Chained Conditional and Logical Operator Practice\n",
    "\n",
    "In this lab, you'll practice writing `if-elif-else` statements as well as using some logical operators."
   ]
  },
  {
   "cell_type": "markdown",
   "id": "a6073d8d",
   "metadata": {
    "hideCode": false,
    "hidePrompt": false
   },
   "source": [
    "The algorithm for determining whether a year is a leap-year is more complex than many people realize. According to https://en.wikipedia.org/wiki/Leap_year , the algorithm written in __pseudocode__ (an informal code-like notation for communicating algorithms for other humans to read) is \n",
    "\n",
    ">if (year is not divisible by 4) then (it is a common year)\n",
    ">\n",
    ">else if (year is not divisible by 100) then (it is a leap year)\n",
    ">\n",
    ">else if (year is not divisible by 400) then (it is a common year)\n",
    ">\n",
    ">else (it is a leap year) \n",
    "\n",
    "__Exercise 1:__ Implement this using Python syntax and the `if-elif-else` pattern.\n"
   ]
  },
  {
   "cell_type": "markdown",
   "id": "bf858f42",
   "metadata": {
    "hideCode": false,
    "hidePrompt": false
   },
   "source": [
    "__Exercise 2:__ Due to state regulations, a toy company is not allowed to sell silly string in California and Texas. Their ordering software looks like this:"
   ]
  },
  {
   "cell_type": "code",
   "execution_count": 2,
   "id": "386eb2bf",
   "metadata": {
    "hideCode": false,
    "hidePrompt": false
   },
   "outputs": [
    {
     "name": "stdout",
     "output_type": "stream",
     "text": [
      "What do you want to buy? Whoopee Cushion\n",
      "What state do you live in? California\n",
      "Sorry, we can't sell too you.\n"
     ]
    }
   ],
   "source": [
    "product = input(\"What do you want to buy? \")\n",
    "state = input(\"What state do you live in? \")\n",
    "\n",
    "if state == \"California\" or state == \"Texas\" and product == \"silly string\":\n",
    "    print(\"Sorry, we can't sell too you.\")\n",
    "else:\n",
    "    print(\"You're good to go.\")"
   ]
  },
  {
   "cell_type": "markdown",
   "id": "db9fbc4b",
   "metadata": {},
   "source": [
    "However, there seems to be a problem - it doesn't let Californians buy Whoopee Cushions, but there shouldn't be any restrictions on Whoopee Cushions.\n",
    "* What is the problem with this code?\n",
    "* How do you fix it?"
   ]
  },
  {
   "cell_type": "markdown",
   "id": "1e697f8b",
   "metadata": {
    "hideCode": false,
    "hidePrompt": false
   },
   "source": [
    "__Exercise 3:__ A loan applicant should be approved if their salary is $40,000/year or more and if they have been at the same job for at least 2 years. Write a program that will ask the user for their salary and number of years on the job, and then tell them whether they got the loan."
   ]
  },
  {
   "cell_type": "markdown",
   "id": "66818d60",
   "metadata": {},
   "source": [
    "__Exercise 4:__ Write a program that will ask the user for their grade as a percentage and then display the associated letter grade according to this table:\n",
    "\n",
    "\n",
    "Percentage | Letter Grade\n",
    "-----|-----\n",
    "90-100 | A\n",
    "80-89 | B\n",
    "70-79 | C\n",
    "60-69 | D\n",
    "0 - 59 | F\n",
    "\n",
    "If the user enters a number greater than 100 or less than 0, report that it is invalid input.\n",
    "\n"
   ]
  }
 ],
 "metadata": {
  "hide_code_all_hidden": false,
  "kernelspec": {
   "display_name": "Python 3",
   "language": "python",
   "name": "python3"
  },
  "language_info": {
   "codemirror_mode": {
    "name": "ipython",
    "version": 3
   },
   "file_extension": ".py",
   "mimetype": "text/x-python",
   "name": "python",
   "nbconvert_exporter": "python",
   "pygments_lexer": "ipython3",
   "version": "3.8.8"
  }
 },
 "nbformat": 4,
 "nbformat_minor": 5
}
