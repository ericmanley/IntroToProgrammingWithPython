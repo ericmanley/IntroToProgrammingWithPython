{
 "cells": [
  {
   "cell_type": "markdown",
   "id": "5d3826d8",
   "metadata": {
    "slideshow": {
     "slide_type": "slide"
    }
   },
   "source": [
    "# For Loops\n",
    "#### Introduction to Programming with Python"
   ]
  },
  {
   "cell_type": "markdown",
   "id": "ad3cf404",
   "metadata": {
    "slideshow": {
     "slide_type": "slide"
    }
   },
   "source": [
    "## Looping through lists\n",
    "\n",
    "So far, we've processed lists like this:"
   ]
  },
  {
   "cell_type": "code",
   "execution_count": 2,
   "id": "b535c3ed",
   "metadata": {},
   "outputs": [
    {
     "name": "stdout",
     "output_type": "stream",
     "text": [
      "Monday is a good day for programming\n",
      "Tuesday is a good day for programming\n",
      "Wednesday is a good day for programming\n",
      "Thursday is a good day for programming\n",
      "Friday is a good day for programming\n"
     ]
    }
   ],
   "source": [
    "days_of_the_week = [\"Sunday\",\"Monday\",\"Tuesday\",\"Wednesday\",\"Thursday\",\"Friday\",\"Saturday\"]\n",
    "\n",
    "counter = 0\n",
    "while counter < len(days_of_the_week):\n",
    "    \n",
    "    if \"S\" not in days_of_the_week[counter]:\n",
    "        print(days_of_the_week[counter],\"is a good day for programming\")\n",
    "        \n",
    "    counter += 1"
   ]
  },
  {
   "cell_type": "markdown",
   "id": "8aae767d",
   "metadata": {
    "slideshow": {
     "slide_type": "fragment"
    }
   },
   "source": [
    "This pattern is so common there is a special loop for doing it without having to manage the counter yourself. This kind of loop uses the `for` keyword and is called a **for loop**."
   ]
  },
  {
   "cell_type": "code",
   "execution_count": 3,
   "id": "86367606",
   "metadata": {},
   "outputs": [
    {
     "name": "stdout",
     "output_type": "stream",
     "text": [
      "Monday is a good day for programming\n",
      "Tuesday is a good day for programming\n",
      "Wednesday is a good day for programming\n",
      "Thursday is a good day for programming\n",
      "Friday is a good day for programming\n"
     ]
    }
   ],
   "source": [
    "days_of_the_week = [\"Sunday\",\"Monday\",\"Tuesday\",\"Wednesday\",\"Thursday\",\"Friday\",\"Saturday\"]\n",
    "\n",
    "\n",
    "for day in days_of_the_week:\n",
    "    if \"S\" not in day:\n",
    "        print(day,\"is a good day for programming\")\n",
    "        "
   ]
  },
  {
   "cell_type": "markdown",
   "id": "9cef42e6",
   "metadata": {
    "slideshow": {
     "slide_type": "fragment"
    }
   },
   "source": [
    "_Notice:_ `day` became the value from the list for this iteration - we didn't have to do `days_of_the_week[counter]`\n"
   ]
  },
  {
   "cell_type": "markdown",
   "id": "5d1c4e29",
   "metadata": {
    "slideshow": {
     "slide_type": "slide"
    }
   },
   "source": [
    "## For loop syntax\n",
    "\n",
    "* keyword `for`\n",
    "* a loop variable - something new that you define here for the first time\n",
    "    - it shouldn't be a variable you're already using for something else, this will change it!\n",
    "* keyword `in`\n",
    "* a sequence (like a list or a string)\n",
    "* a colon `:`\n",
    "* an indented block of code\n",
    "\n",
    "Let's rewrite something like previous loops we've seen"
   ]
  },
  {
   "cell_type": "code",
   "execution_count": 4,
   "id": "9d0cf302",
   "metadata": {},
   "outputs": [
    {
     "name": "stdout",
     "output_type": "stream",
     "text": [
      "Average length is 5.735\n"
     ]
    }
   ],
   "source": [
    "with open(\"top_male_baby_names_2010s.txt\") as male_names_file:\n",
    "    \n",
    "    male_names = male_names_file.readlines()\n",
    "    \n",
    "    total_length = 0\n",
    "    \n",
    "    counter = 0\n",
    "    while counter < len(male_names):\n",
    "        male_names[counter] = male_names[counter].rstrip()\n",
    "        total_length += len(male_names[counter])\n",
    "        counter += 1\n",
    "        \n",
    "    if counter != 0:\n",
    "        average_length = total_length/counter\n",
    "        print(\"Average length is\",average_length)"
   ]
  },
  {
   "cell_type": "markdown",
   "id": "4c36b91c",
   "metadata": {},
   "source": [
    "Here's an equivalent *for* loop"
   ]
  },
  {
   "cell_type": "code",
   "execution_count": 6,
   "id": "9288022a",
   "metadata": {
    "slideshow": {
     "slide_type": "skip"
    }
   },
   "outputs": [
    {
     "name": "stdout",
     "output_type": "stream",
     "text": [
      "Average length is 5.735\n"
     ]
    }
   ],
   "source": [
    "with open(\"top_male_baby_names_2010s.txt\") as male_names_file:\n",
    "    \n",
    "    male_names = male_names_file.readlines()\n",
    "    \n",
    "    total_length = 0\n",
    "    \n",
    "    for name in male_names:\n",
    "        \n",
    "        name = name.rstrip()\n",
    "        total_length += len(name)\n",
    "        \n",
    "    if len(male_names) > 0:\n",
    "        average_length = total_length/len(male_names)\n",
    "        print(\"Average length is\",average_length)"
   ]
  },
  {
   "cell_type": "markdown",
   "id": "549c6b52",
   "metadata": {},
   "source": [
    "**Reflection Questions:** Write down answers to these questions in your notes\n",
    "* Why doesn't the *for loop* version use the `counter` variable?\n",
    "* What is the `name` variable? Why don't we do something like `name[counter]` like we did for while loops?"
   ]
  },
  {
   "cell_type": "markdown",
   "id": "16e854c9",
   "metadata": {
    "slideshow": {
     "slide_type": "slide"
    }
   },
   "source": [
    "**Exercise:** Write a for loop that will diplay all the temperatures in the list."
   ]
  },
  {
   "cell_type": "code",
   "execution_count": 7,
   "id": "9a3272da",
   "metadata": {},
   "outputs": [],
   "source": [
    "temperatures = [30, 20, 2, -5, -15, -8, -1, 0, 5, 35]\n"
   ]
  },
  {
   "cell_type": "markdown",
   "id": "8a3a41fe",
   "metadata": {},
   "source": [
    "Once you have that working, change it so that it only displays the negative temperatures."
   ]
  },
  {
   "cell_type": "markdown",
   "id": "9e7c9f2f",
   "metadata": {},
   "source": [
    "**Reflection Question:** Based on your limited experience with *for loops* so far, what are some situations in which you think it would be better to use a *while loop*, and what are some situations in which you think it would be better to use a *for loop*? Write your answer in your notes."
   ]
  }
 ],
 "metadata": {
  "celltoolbar": "Slideshow",
  "kernelspec": {
   "display_name": "Python 3 (ipykernel)",
   "language": "python",
   "name": "python3"
  },
  "language_info": {
   "codemirror_mode": {
    "name": "ipython",
    "version": 3
   },
   "file_extension": ".py",
   "mimetype": "text/x-python",
   "name": "python",
   "nbconvert_exporter": "python",
   "pygments_lexer": "ipython3",
   "version": "3.10.6"
  }
 },
 "nbformat": 4,
 "nbformat_minor": 5
}
