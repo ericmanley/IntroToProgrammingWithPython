{
 "cells": [
  {
   "cell_type": "markdown",
   "id": "4014de73",
   "metadata": {
    "slideshow": {
     "slide_type": "slide"
    }
   },
   "source": [
    "# Function Arguments and Return Values\n",
    "#### Introduction to Programming with Python"
   ]
  },
  {
   "cell_type": "markdown",
   "id": "fe83c080",
   "metadata": {
    "slideshow": {
     "slide_type": "slide"
    }
   },
   "source": [
    "## Arguments we've been passing to functions\n",
    "\n",
    "In most of the functions we've called, we've passed _arguments_ to the them \n",
    "data that we put inside of the parentheses that the function needs to work as intended."
   ]
  },
  {
   "cell_type": "code",
   "execution_count": null,
   "id": "3d1bb95a",
   "metadata": {},
   "outputs": [],
   "source": [
    "print(\"Hello world!\")\n",
    "type(2.70)\n",
    "fahrenheit_temp = int( input(\"Enter the temperature in Fahrenheit \") )\n",
    "len(name)\n",
    "user_input = int( input(\"Enter a number greater than \"+str(target_number)+\" \") )\n",
    "max(rainfall_amounts)\n",
    "with open(\"gettysburg.txt\") as gettysburg_file:\n",
    "    gettysburg_text = gettysburg_file.readlines()"
   ]
  },
  {
   "cell_type": "markdown",
   "id": "67cf0f6d",
   "metadata": {},
   "source": [
    "`\"Hello world!\"` tells the `print()` function what should be displayed\n",
    "\n",
    "`2.70` tells the `type()` function what we want to know the type of\n",
    "\n",
    "`\"Enter the temperature in Fahrenheit \"` tells the `input()` what the prompt should be\n",
    "\n",
    "`name` is the string variable we want to know the length of with `len()`\n",
    "\n",
    "etc."
   ]
  },
  {
   "cell_type": "markdown",
   "id": "7f171468",
   "metadata": {
    "slideshow": {
     "slide_type": "slide"
    }
   },
   "source": [
    "## Syntax for defining functions that take arguments\n",
    "\n",
    "When defining a function that takes arguments, put a new variable name inside the parentheses. This variable is called a __parameter__. "
   ]
  },
  {
   "cell_type": "code",
   "execution_count": 1,
   "id": "ba7054c4",
   "metadata": {},
   "outputs": [],
   "source": [
    "def f_to_c(fahrenheit_temp):\n",
    "    celsius_temp = (fahrenheit_temp-32)*(5/9)\n",
    "    print(\"That's\",celsius_temp,\"in Celsius\") "
   ]
  },
  {
   "cell_type": "markdown",
   "id": "ec8179c0",
   "metadata": {
    "slideshow": {
     "slide_type": "fragment"
    }
   },
   "source": [
    "When we call the function, whatever _argument_ we give it gets saved to the _parameter_."
   ]
  },
  {
   "cell_type": "code",
   "execution_count": 2,
   "id": "16f635bf",
   "metadata": {},
   "outputs": [
    {
     "name": "stdout",
     "output_type": "stream",
     "text": [
      "That's 32.22222222222222 in Celsius\n",
      "What was the reading in fahrenheit? 40\n",
      "That's 4.444444444444445 in Celsius\n"
     ]
    }
   ],
   "source": [
    "f_to_c(90)\n",
    "\n",
    "temp_reading = float(input(\"What was the reading in fahrenheit? \"))\n",
    "f_to_c(temp_reading)"
   ]
  },
  {
   "cell_type": "markdown",
   "id": "1242df01",
   "metadata": {
    "slideshow": {
     "slide_type": "slide"
    }
   },
   "source": [
    "## Exercise\n",
    "\n",
    "Consider the following function that includes a parameter. Write some code that *calls* this function and supplies an appropriate argument.\n",
    "\n",
    "Note that `name` is a variable, but it doesn't _look_ like it ever gets assigned a value. When does the assignment actually happen?"
   ]
  },
  {
   "cell_type": "code",
   "execution_count": null,
   "id": "39ad231d",
   "metadata": {},
   "outputs": [],
   "source": [
    "def greet_by_name(name):\n",
    "    print(\"Hello\",name,\", I hope you are having an excellent day.\")"
   ]
  },
  {
   "cell_type": "markdown",
   "id": "55b8a6ee",
   "metadata": {
    "slideshow": {
     "slide_type": "slide"
    }
   },
   "source": [
    "## Things to remember about arguments and parameters\n",
    "\n",
    "**Parameter:** a variable - you never put a literal number/string/etc. in the parens when you _define_ the function.\n",
    "\n",
    "**Argument:** can be a literal value, a variable, or any other expression (it will be evaluated and the result will be passed as the argument)\n",
    "\n",
    "Remember: The value of the argument gets copied to the parameter variable"
   ]
  },
  {
   "cell_type": "code",
   "execution_count": 3,
   "id": "81b28154",
   "metadata": {},
   "outputs": [
    {
     "name": "stdout",
     "output_type": "stream",
     "text": [
      "That's 37.77777777777778 in Celsius\n"
     ]
    }
   ],
   "source": [
    "def f_to_c(fahrenheit_temp):  #fahrenheit_temp is a parameter\n",
    "    celsius_temp = (fahrenheit_temp-32)*(5/9)\n",
    "    print(\"That's\",celsius_temp,\"in Celsius\") \n",
    "    \n",
    "f_to_c(90+10)  #90 is an argument"
   ]
  },
  {
   "cell_type": "markdown",
   "id": "1532c899",
   "metadata": {},
   "source": [
    "To make things worse, even experienced programmers will sometimes use these terms interchangeably. _You're_ not allowed to do that until you really really thoroghly understand how functions, arguments, and parameters work!"
   ]
  },
  {
   "cell_type": "markdown",
   "id": "d49d2147",
   "metadata": {
    "slideshow": {
     "slide_type": "slide"
    }
   },
   "source": [
    "## Functions with multiple parameters\n",
    "\n",
    "You can define functions with multiple parameters by separating the variable names with commas. This function has two parameters called `wage` and `hours`. "
   ]
  },
  {
   "cell_type": "code",
   "execution_count": 4,
   "id": "a30eb8db",
   "metadata": {},
   "outputs": [],
   "source": [
    "def calculate_pay(wage,hours):\n",
    "    if hours <= 40:\n",
    "        pay = wage*hours\n",
    "    else:\n",
    "        overtime_hours = hours-40\n",
    "        pay = (wage*40) + (wage*1.5*overtime_hours)\n",
    "\n",
    "    print(\"Total pay:\",pay)"
   ]
  },
  {
   "cell_type": "markdown",
   "id": "00fb5ee6",
   "metadata": {},
   "source": [
    "When we call `calculate_pay`, we pass two numbers like `7.25` and `40`. The `7.25` gets assigned to the `wage` parameter and the `40` gets assigned to `hours` - they go in order."
   ]
  },
  {
   "cell_type": "code",
   "execution_count": 5,
   "id": "91f9785c",
   "metadata": {},
   "outputs": [
    {
     "name": "stdout",
     "output_type": "stream",
     "text": [
      "Total pay: 290.0\n",
      "Total pay: 1318.75\n"
     ]
    }
   ],
   "source": [
    "calculate_pay(7.25,40)\n",
    "calculate_pay(52.75,25)"
   ]
  },
  {
   "cell_type": "markdown",
   "id": "8a7d1c4b",
   "metadata": {},
   "source": [
    "Here's another example with four parameters:"
   ]
  },
  {
   "cell_type": "code",
   "execution_count": 6,
   "id": "cd4fe65a",
   "metadata": {
    "slideshow": {
     "slide_type": "slide"
    }
   },
   "outputs": [],
   "source": [
    "def calculate_pay(wage,hours,w4_dependents,health_insurance_contribution):\n",
    "    if hours <= 40:\n",
    "        pay = wage*hours\n",
    "    else:\n",
    "        overtime_hours = hours-40\n",
    "        pay = (wage*40) + (wage*1.5*overtime_hours)\n",
    "        \n",
    "    #pretend we have all the code here to adjust paycheck for withholdings, etc."
   ]
  },
  {
   "cell_type": "code",
   "execution_count": 7,
   "id": "d6749d8d",
   "metadata": {},
   "outputs": [],
   "source": [
    "calculate_pay(52.75,25,7,420.50)"
   ]
  },
  {
   "attachments": {},
   "cell_type": "markdown",
   "id": "7e2cc503",
   "metadata": {
    "slideshow": {
     "slide_type": "slide"
    }
   },
   "source": [
    "## Exercise\n",
    "\n",
    "Define a new function called `print_face` with three parameters (make sure to use descriptive names for the parameter variables) that would allow me to call it and get the following behavior.\n",
    "\n",
    "<center>\n",
    "<div>\n",
    "<img src=\"images/printface.png\" width=\"400\"/>\n",
    "</div>\n",
    "</center>"
   ]
  },
  {
   "cell_type": "markdown",
   "id": "13e2ce3f",
   "metadata": {
    "slideshow": {
     "slide_type": "slide"
    }
   },
   "source": [
    "## Getting data out of functions\n",
    "\n",
    "Parameters: Enable getting data into functions\n",
    "\n",
    "__Return values:__ Enable getting data out of functions - think of it as the _result_ of a function\n",
    "\n",
    "Let's think about examples from functions we've called:"
   ]
  },
  {
   "cell_type": "code",
   "execution_count": null,
   "id": "cc82ebfc",
   "metadata": {},
   "outputs": [],
   "source": [
    "name = input(\"What is your name? \")\n",
    "name_length = len(name)\n",
    "print(name,\"has\",name_length,\"letters\")"
   ]
  },
  {
   "cell_type": "markdown",
   "id": "788755c8",
   "metadata": {},
   "source": [
    "`input()` returns a string (whatever the user typed) and we saved that result to `name`\n",
    "\n",
    "`len()` returns an integer (the length of the string `name`) and we saved that result to `name_length`\n",
    "\n",
    "`print()` doesn't return anything - we never see print on the right side of an `=`"
   ]
  },
  {
   "cell_type": "markdown",
   "id": "9081ee2a",
   "metadata": {
    "slideshow": {
     "slide_type": "slide"
    }
   },
   "source": [
    "## Syntax for returning values\n",
    "\n",
    "To return a value from a function you've defined, put the `return` statement somewherer in your function\n",
    "* keyword `return`\n",
    "* an expression (i.e., a value, a variable, mathematical operation, or anything that results in a value)"
   ]
  },
  {
   "cell_type": "code",
   "execution_count": 8,
   "id": "ac92834a",
   "metadata": {},
   "outputs": [],
   "source": [
    "def f_to_c(fahrenheit_temp):\n",
    "    celsius_temp = (fahrenheit_temp-32)*(5/9)\n",
    "    return celsius_temp"
   ]
  },
  {
   "cell_type": "code",
   "execution_count": 9,
   "id": "4fee08d2",
   "metadata": {},
   "outputs": [
    {
     "name": "stdout",
     "output_type": "stream",
     "text": [
      "Enter fahrenheit reading: 30\n",
      "-1.1111111111111112\n"
     ]
    }
   ],
   "source": [
    "f_reading = float(input(\"Enter fahrenheit reading: \"))\n",
    "c_temp = f_to_c(f_reading)\n",
    "print(c_temp)"
   ]
  },
  {
   "cell_type": "markdown",
   "id": "a9717974",
   "metadata": {},
   "source": [
    "Because `f_to_c()` returns something, we can save its result to `c_temp`\n",
    "\n",
    "Note that the `return` statement will cause the function to end - even if it is in the middle of the function, so you usually find it at the end of a function."
   ]
  },
  {
   "cell_type": "markdown",
   "id": "4ffc4ec9",
   "metadata": {
    "slideshow": {
     "slide_type": "slide"
    }
   },
   "source": [
    "## Returned values can be used anywhere the value itself could be used"
   ]
  },
  {
   "cell_type": "code",
   "execution_count": 10,
   "id": "df938254",
   "metadata": {},
   "outputs": [
    {
     "name": "stdout",
     "output_type": "stream",
     "text": [
      "100F is 37.77777777777778 in Celsius.\n",
      "In Kelvin, it is 310.92777777777775\n"
     ]
    }
   ],
   "source": [
    "print(\"100F is\",f_to_c(100),\"in Celsius.\")\n",
    "kelvin_reading = 273.15 + f_to_c(100)\n",
    "print(\"In Kelvin, it is\",kelvin_reading)"
   ]
  },
  {
   "cell_type": "markdown",
   "id": "d1f3d794",
   "metadata": {},
   "source": [
    "## Exercise\n",
    "\n",
    "Change the program below so that `pay` is _returned_ from `calculate_pay()` instead of printed. \n",
    "\n",
    "Change the `user_pay_calculator()` function so that it correctly calls the new version of `calculate_pay()`"
   ]
  },
  {
   "cell_type": "code",
   "execution_count": 11,
   "id": "474b07f1",
   "metadata": {},
   "outputs": [
    {
     "name": "stdout",
     "output_type": "stream",
     "text": [
      "Enter your hourly wage: 10.25\n",
      "Enter your number of hours worked: 16\n",
      "Total pay: 164.0\n"
     ]
    }
   ],
   "source": [
    "def calculate_pay(wage,hours):\n",
    "    if hours <= 40:\n",
    "        pay = wage*hours\n",
    "    else:\n",
    "        overtime_hours = hours-40\n",
    "        pay = (wage*40) + (wage*1.5*overtime_hours)\n",
    "\n",
    "    print(\"Total pay:\",pay) #change this line\n",
    "\n",
    "def user_pay_calculator():\n",
    "    hourly_wage = float(input(\"Enter your hourly wage: \"))\n",
    "    num_hours = float(input(\"Enter your number of hours worked: \"))\n",
    "    calculate_pay(hourly_wage,num_hours) #change this line\n",
    "    \n",
    "user_pay_calculator()"
   ]
  },
  {
   "attachments": {
    "employee_log_csv.png": {
     "image/png": "[encoded data removed]"
    }
   },
   "cell_type": "markdown",
   "id": "6d8ab440",
   "metadata": {
    "slideshow": {
     "slide_type": "slide"
    }
   },
   "source": [
    "## Why should you return instead of just printing the result?\n",
    "\n",
    "Returning values gives you more flexibility in how the function can be used.\n",
    "\n",
    "Consider the pay calculator. We might want to allow a user to interact with it to check their pay; or, we might read employee information from a file so that we can process all their paychecks.\n",
    "\n",
    "<center>\n",
    "<div>\n",
    "<img src=\"attachment:employee_log_csv.png\" width=\"300\"/>\n",
    "</div>\n",
    "</center>\n",
    "\n",
    "__Good programming practice:__ don't put print and input statements inside of most functions - move all the user interaction to its own function.\n",
    "\n",
    "Download the file here: https://raw.githubusercontent.com/ericmanley/IntroToProgrammingWithPython/refs/heads/main/emp_hours_log_2021_June20-26.csv"
   ]
  },
  {
   "cell_type": "code",
   "execution_count": null,
   "id": "1fb0e105",
   "metadata": {},
   "outputs": [],
   "source": [
    "import csv\n",
    "\n",
    "#make sure to include the calculate_pay() function you wrote above\n",
    "\n",
    "def process_payroll(employee_hours_logged_filename):\n",
    "    \n",
    "    with open(employee_hours_logged_filename) as hours_log_file:\n",
    "        employees_log = csv.reader(hours_log_file)\n",
    "        employees_log = list(employees_log)\n",
    "    \n",
    "    counter = 0\n",
    "    while counter < len(employees_log):\n",
    "        print(employees_log[counter][0],\":\",calculate_pay(float(employees_log[counter][1]),float(employees_log[counter][2])))\n",
    "        counter += 1\n",
    "   \n",
    "process_payroll(\"emp_hours_log_2021_June20-26.csv\")"
   ]
  }
 ],
 "metadata": {
  "celltoolbar": "Slideshow",
  "kernelspec": {
   "display_name": "Python 3 (ipykernel)",
   "language": "python",
   "name": "python3"
  },
  "language_info": {
   "codemirror_mode": {
    "name": "ipython",
    "version": 3
   },
   "file_extension": ".py",
   "mimetype": "text/x-python",
   "name": "python",
   "nbconvert_exporter": "python",
   "pygments_lexer": "ipython3",
   "version": "3.10.6"
  },
  "varInspector": {
   "cols": {
    "lenName": 16,
    "lenType": 16,
    "lenVar": 40
   },
   "kernels_config": {
    "python": {
     "delete_cmd_postfix": "",
     "delete_cmd_prefix": "del ",
     "library": "var_list.py",
     "varRefreshCmd": "print(var_dic_list())"
    },
    "r": {
     "delete_cmd_postfix": ") ",
     "delete_cmd_prefix": "rm(",
     "library": "var_list.r",
     "varRefreshCmd": "cat(var_dic_list()) "
    }
   },
   "types_to_exclude": [
    "module",
    "function",
    "builtin_function_or_method",
    "instance",
    "_Feature"
   ],
   "window_display": false
  }
 },
 "nbformat": 4,
 "nbformat_minor": 5
}
