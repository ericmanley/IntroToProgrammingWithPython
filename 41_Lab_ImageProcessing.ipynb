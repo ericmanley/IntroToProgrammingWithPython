{
 "cells": [
  {
   "cell_type": "markdown",
   "id": "cec39ca8",
   "metadata": {},
   "source": [
    "# Lab: Image Processing\n",
    "In this lab, you are going to practice working with the Python Imaging Library and using nested loops to manipulate images."
   ]
  },
  {
   "cell_type": "markdown",
   "id": "8424ef1b",
   "metadata": {},
   "source": [
    "## Displying an image with PIL in Python\n",
    "\n",
    "Download the image <a href=\"https://raw.githubusercontent.com/ericmanley/IntroToProgrammingWithPython/refs/heads/main/griff.jpg\">griff.jpg</a>, and move it to a directory where you keep your Python code. Then, run the following code to make sure you can open and display the file.\n"
   ]
  },
  {
   "cell_type": "code",
   "execution_count": null,
   "id": "1c75577f",
   "metadata": {},
   "outputs": [],
   "source": [
    "from PIL import Image\n",
    "from IPython.display import display\n",
    "\n",
    "with Image.open(\"griff.jpg\") as griff_image:\n",
    "    display(griff_image)"
   ]
  },
  {
   "cell_type": "markdown",
   "id": "4dc648dc",
   "metadata": {},
   "source": [
    "## Exercises"
   ]
  },
  {
   "cell_type": "markdown",
   "id": "0d91b7a5",
   "metadata": {},
   "source": [
    "__Exercise 1:__ Get Python to display some other image (a photograph you've taken, another image you found on the Internet, etc.)."
   ]
  },
  {
   "cell_type": "markdown",
   "id": "a5ac580b",
   "metadata": {},
   "source": [
    "__Exercise 2:__ In the notes, we were able to find the size of the image and look at the tuple for the color in the upper-left corner of the image with code like this:"
   ]
  },
  {
   "cell_type": "code",
   "execution_count": null,
   "id": "b0c1a292",
   "metadata": {},
   "outputs": [],
   "source": [
    "print(griff_image.size)\n",
    "\n",
    "pixels = griff_image.load()\n",
    "    \n",
    "print(pixels[(0,0)])"
   ]
  },
  {
   "cell_type": "markdown",
   "id": "ca5ba6fc",
   "metadata": {},
   "source": [
    "Note that `griff_image.size[0]` gives the width of the image in pixels, and `griff_image.size[1]` gives the height. Print out the tuple for the colors of _all four corners_ of your image (note that you'll need to `griff_image.size[0]` and `griff_image.size[1]` for this - but remember that the pixel indices start counting at 0)."
   ]
  },
  {
   "cell_type": "markdown",
   "id": "06653e8a",
   "metadata": {},
   "source": [
    "__Exercise 3:__ In the notes, we used a nested `for` loop to make a thick, black, horizontal line accross the Griff image. Write a nested `for` loop that makes a thick, green, vertical line somewhere down the middlel of your image. Adjust the width so it has a similar thickness in proportion to the size of your image."
   ]
  },
  {
   "cell_type": "code",
   "execution_count": null,
   "id": "1b6c8e7e",
   "metadata": {},
   "outputs": [],
   "source": [
    "from PIL import Image\n",
    "\n",
    "with Image.open(\"griff.jpg\") as griff_image:\n",
    "    pixels = griff_image.load()\n",
    "    \n",
    "for p in range(griff_image.size[0]):\n",
    "    for r in range(50,60):\n",
    "        pixels[(p,r)] = (0,0,0)\n",
    "    \n",
    "    \n",
    "    \n",
    "display(griff_image)"
   ]
  },
  {
   "cell_type": "markdown",
   "id": "db35ec57",
   "metadata": {},
   "source": [
    "__Exercise 4:__ In the notes, we wrote the following code to flip the Griff image horizontally. Write a nested `for` loop that will flip your image _vertically_."
   ]
  },
  {
   "cell_type": "code",
   "execution_count": null,
   "id": "c2e8f10c",
   "metadata": {},
   "outputs": [],
   "source": [
    "from PIL import Image\n",
    "\n",
    "with Image.open(\"griff.jpg\") as griff_image:\n",
    "    pixels = griff_image.load()\n",
    "    \n",
    "for c in range(griff_image.size[0]//2):\n",
    "    for r in range(griff_image.size[1]):\n",
    "\n",
    "    \n",
    "        leftside = pixels[griff_image.size[0]-1-c,r]\n",
    "        pixels[griff_image.size[0]-1-c,r] = pixels[c,r]\n",
    "        pixels[c,r] = leftside\n",
    "    \n",
    "    \n",
    "display(griff_image)"
   ]
  },
  {
   "cell_type": "markdown",
   "id": "845c8938",
   "metadata": {},
   "source": [
    "__Exercise 5:__ In the ntoes, we converted the Griff image to grayscale using the following code. Write a nested `for` loop that converts your image to grayscale. Then, come up with a new color filter idea and try that instead."
   ]
  },
  {
   "cell_type": "code",
   "execution_count": null,
   "id": "96d45d68",
   "metadata": {},
   "outputs": [],
   "source": [
    "from PIL import Image\n",
    "\n",
    "with Image.open(\"griff.jpg\") as griff_image:\n",
    "    pixels = griff_image.load()\n",
    "    \n",
    "for c in range(griff_image.size[0]):\n",
    "    for r in range(griff_image.size[1]):\n",
    "        red = pixels[c,r][0]\n",
    "        green = pixels[c,r][1]\n",
    "        blue = pixels[c,r][2]\n",
    "        \n",
    "        average_pixel_color = (red+green+blue)//3\n",
    "        \n",
    "        pixels[c,r] = (average_pixel_color,average_pixel_color,average_pixel_color)\n",
    "    \n",
    "    \n",
    "    \n",
    "display(griff_image)"
   ]
  },
  {
   "cell_type": "markdown",
   "id": "396a037b",
   "metadata": {},
   "source": [
    "__Exercise 6:__ Use nested `for` loops to apply some new kind of filter or effect to an image. Here are some ideas:\n",
    "\n",
    "* (Easy) Color-blindness simulation: Some individuals have trouble distinguishing some shades of red and green (these types of color blindess are called Protanopia and Deuteranopia). One way to crudely simulate what a person with one of these conditions would see is to average the red and green values for each pixel, but leave the blue value as it was originally.\n",
    "* (Easy) Inverse filter: Change all color values to 255-original_value to see the inverse colors of the image.\n",
    "* (Medium) Classic filter: Look up the algorithm for a specific kind of color filter, and implement that (e.g., you can find a description of the Sepia algorithm here: https://dyclassroom.com/image-processing-project/how-to-convert-a-color-image-into-sepia-image )\n",
    "* (Medium) Red-eye remover: find any red pixel (say, where the red color value is greater than the sum of the blue and green color values), and change these pixels to black.\n",
    "* (Medium) Blurr effect: Make each pixel the average of the pixels around it (you can play around with how many pixels away you want to use in the average based on how blurry you want it to be)\n",
    "* (Hard) Green-screen effect: Replace all green pixels of one photograph with the corresponding pixel from a different image. (For images, try searching http://images.google.com for something like \"green screen movie set\")\n",
    "* (Hard) Pixel transformations: Pick a spot in the middle of the image, and move around the pixels to create a stretch, twist, bubble, etc. effect.\n",
    "\n",
    "Try at least one easy and one medium challenge (or a hard one if you are up for it) or come up with something similar on your own. Make sure to use nested `for` loops."
   ]
  }
 ],
 "metadata": {
  "kernelspec": {
   "display_name": "Python 3 (ipykernel)",
   "language": "python",
   "name": "python3"
  },
  "language_info": {
   "codemirror_mode": {
    "name": "ipython",
    "version": 3
   },
   "file_extension": ".py",
   "mimetype": "text/x-python",
   "name": "python",
   "nbconvert_exporter": "python",
   "pygments_lexer": "ipython3",
   "version": "3.10.6"
  }
 },
 "nbformat": 4,
 "nbformat_minor": 5
}
