{
 "cells": [
  {
   "cell_type": "markdown",
   "id": "505b4e39",
   "metadata": {
    "slideshow": {
     "slide_type": "slide"
    }
   },
   "source": [
    "# Working with Lists in Functions\n",
    "#### Introduction to Programming with Python"
   ]
  },
  {
   "cell_type": "markdown",
   "id": "bd6f0f8f",
   "metadata": {
    "slideshow": {
     "slide_type": "slide"
    }
   },
   "source": [
    "## Lists as arguments and return values\n",
    "\n",
    "You can normally use lists as arguments and return values just fine, though there's a slight nuance to be aware of.\n",
    "\n",
    "Notice what happens when you pass a regular variable like an `int` to a function. In this example, we create a variable called `x` and pass it to the `double_val` function as the `param` parameter variable. This parameter variable gets doubled as part of the function. But, when the function returns, our original `x` remains unchanged. It still has its original value."
   ]
  },
  {
   "cell_type": "code",
   "execution_count": 1,
   "id": "b40275d8",
   "metadata": {},
   "outputs": [
    {
     "name": "stdout",
     "output_type": "stream",
     "text": [
      "4\n"
     ]
    }
   ],
   "source": [
    "def double_val(param):\n",
    "    param = param * 2\n",
    "\n",
    "x = 4\n",
    "double_val(x)\n",
    "print(x)"
   ]
  },
  {
   "cell_type": "markdown",
   "id": "5dc4ed5c",
   "metadata": {},
   "source": [
    "However, this is not the case when you pass a list. This example looks almost exactly the same, except `x` and `param` are a list containing only one item. When the function returns, the item inside the list has changed!"
   ]
  },
  {
   "cell_type": "code",
   "execution_count": 2,
   "id": "af4b825a",
   "metadata": {},
   "outputs": [
    {
     "name": "stdout",
     "output_type": "stream",
     "text": [
      "[8]\n"
     ]
    }
   ],
   "source": [
    "def double_list(param):\n",
    "    param[0] = param[0] * 2\n",
    "\n",
    "x = [4]\n",
    "double_list(x)\n",
    "print(x)"
   ]
  },
  {
   "cell_type": "markdown",
   "id": "540e9100",
   "metadata": {
    "slideshow": {
     "slide_type": "-"
    }
   },
   "source": [
    "## Why does this happen?\n",
    "\n",
    "Big objects like collections are really stored in a different part of memory which is _referenced_ by the variable name.\n",
    "\n",
    "When you pass one of these objects as an argument, the parameter is really a copy of the reference, _not the value itself_.\n",
    "\n",
    "Small objects like ints and floats really do get _copied_ to the parameter variable and the original remains unchanged."
   ]
  }
 ],
 "metadata": {
  "celltoolbar": "Slideshow",
  "kernelspec": {
   "display_name": "Python 3 (ipykernel)",
   "language": "python",
   "name": "python3"
  },
  "language_info": {
   "codemirror_mode": {
    "name": "ipython",
    "version": 3
   },
   "file_extension": ".py",
   "mimetype": "text/x-python",
   "name": "python",
   "nbconvert_exporter": "python",
   "pygments_lexer": "ipython3",
   "version": "3.10.6"
  }
 },
 "nbformat": 4,
 "nbformat_minor": 5
}
