{
 "cells": [
  {
   "cell_type": "markdown",
   "id": "87c4a15d",
   "metadata": {},
   "source": [
    "# Lab: Pay Calculator\n",
    "\n",
    "[![Open In Colab](https://colab.research.google.com/assets/colab-badge.svg)](https://colab.research.google.com/github/ericmanley/IntroToProgrammingWithPython/blob/main/09_Lab_PayCalculator.ipynb)\n",
    "\n",
    "In this lab, you'll write a program that takes input from the user, performs a computation, and then displays the results."
   ]
  },
  {
   "cell_type": "markdown",
   "id": "ed932f4a",
   "metadata": {},
   "source": [
    "__Exercise 1:__ Run this line of code and think about what it is doing"
   ]
  },
  {
   "cell_type": "code",
   "execution_count": null,
   "id": "c0d6ee35",
   "metadata": {
    "slideshow": {
     "slide_type": "subslide"
    }
   },
   "outputs": [],
   "source": [
    "fav_color = input(\"What is your favorite color? \")"
   ]
  },
  {
   "cell_type": "markdown",
   "id": "350655ec",
   "metadata": {},
   "source": [
    "* Why does the program pause when it runs this line of code?\n",
    "* This is an _assignment statement_. How is it like other assignment statements you've seen?\n",
    "* What variable is being assigned a value?\n",
    "* What value is saved to that variable?\n",
    "* What type does this variable have?\n",
    "* Write the line of code that would diplay this value to the user.\n",
    "* Write the line of code that would diplay the type of fav_color."
   ]
  },
  {
   "cell_type": "markdown",
   "id": "a3317d1a",
   "metadata": {},
   "source": [
    "__Exercise 2:__ Let's say we want to ask the user what their favorite number is. Each of the three lines might work. Which do you think is the most appropriate?"
   ]
  },
  {
   "cell_type": "code",
   "execution_count": null,
   "id": "03af7f2a",
   "metadata": {},
   "outputs": [],
   "source": [
    "fav_number = input(\"What is your favorite number? \")\n",
    "fav_number = int( input(\"What is your favorite number? \") )\n",
    "fav_number = float( input(\"What is your favorite number? \") )"
   ]
  },
  {
   "cell_type": "markdown",
   "id": "3f674002",
   "metadata": {},
   "source": [
    "* What kind of program might need the int() version?\n",
    "* What does int() do here?"
   ]
  },
  {
   "cell_type": "markdown",
   "id": "250dc040",
   "metadata": {},
   "source": [
    "__Exercise 3:__ The following code will run, but it probably won't give the result that the programmer was hoping for.  Go ahead and run it."
   ]
  },
  {
   "cell_type": "code",
   "execution_count": null,
   "id": "0b75a90b",
   "metadata": {},
   "outputs": [],
   "source": [
    "first_number = input(\"What is your favorite number? \")\n",
    "second_number = input(\"What is your second favorite number? \")\n",
    "total = first_number + second_number\n",
    "print(\"The sum of your two favorite numbers is\",total)"
   ]
  },
  {
   "cell_type": "markdown",
   "id": "67bc335d",
   "metadata": {},
   "source": [
    "\n",
    " * Why is the result not as expected? \n",
    " \n",
    "When a program gives the wrong result but doesn't trigger a Python error like a `SyntaxError` or `TypeError`, it's called a __logic error__. Fix this program so that it gives the expected result."
   ]
  },
  {
   "cell_type": "markdown",
   "id": "0008ba75",
   "metadata": {},
   "source": [
    "__Challenge Exercise 4:__ Write a program that asks the user to enter their hourly wage and their number of hours worked, and then display their total pay for that pay period. This is what it should look like when it runs (note the 9.25 and the 27 should be typed in by the user):\n",
    "\n",
    "```\n",
    "What is your hourly wage? 9.25\n",
    "How many hours did you work? 27\n",
    "You earned 249.75\n",
    "```\n",
    "\n",
    "Make sure you test your program with additional test cases to ensure it is working."
   ]
  }
 ],
 "metadata": {
  "kernelspec": {
   "display_name": "Python 3",
   "language": "python",
   "name": "python3"
  },
  "language_info": {
   "codemirror_mode": {
    "name": "ipython",
    "version": 3
   },
   "file_extension": ".py",
   "mimetype": "text/x-python",
   "name": "python",
   "nbconvert_exporter": "python",
   "pygments_lexer": "ipython3",
   "version": "3.8.8"
  }
 },
 "nbformat": 4,
 "nbformat_minor": 5
}
