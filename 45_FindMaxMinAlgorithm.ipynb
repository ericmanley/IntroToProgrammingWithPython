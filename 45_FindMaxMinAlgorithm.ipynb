{
 "cells": [
  {
   "cell_type": "markdown",
   "id": "2271073a",
   "metadata": {
    "slideshow": {
     "slide_type": "slide"
    }
   },
   "source": [
    "# Searching and The Find Max/Min Algorithm\n",
    "#### Introduction to Programming with Python"
   ]
  },
  {
   "cell_type": "markdown",
   "id": "1d162978",
   "metadata": {
    "slideshow": {
     "slide_type": "slide"
    }
   },
   "source": [
    "# Searching\n",
    "\n",
    "A __search__ is when you iterate through a collection, looking for values that meet a given critera.\n",
    "\n",
    "Search usually involves\n",
    "* a loop that iterates through the collection\n",
    "* an if statement that checks each element for that condition\n",
    "\n",
    "We've used this pattern for solving several different kinds of problems.\n",
    "* check if a rainfall amount is in a list of rainfalls\n",
    "* checking which movie reviews contain a particular word\n",
    "* checking which zipcodes are in a given state\n",
    "\n",
    "Here's an example of a search for days of the week that include a capital \"S\" in their names. Note that we loop through the whole list and we have an if statement that checks for the condition we're interested in."
   ]
  },
  {
   "cell_type": "code",
   "execution_count": 1,
   "id": "f0fda7b8",
   "metadata": {},
   "outputs": [
    {
     "name": "stdout",
     "output_type": "stream",
     "text": [
      "Found a day which contains an S: Sunday\n",
      "Found a day which contains an S: Saturday\n"
     ]
    }
   ],
   "source": [
    "days_of_the_week = [\"Sunday\",\"Monday\",\"Tuesday\",\"Wednesday\",\"Thursday\",\"Friday\",\"Saturday\"]\n",
    "\n",
    "\n",
    "for day in days_of_the_week:\n",
    "    if \"S\" in day:\n",
    "        print(\"Found a day which contains an S:\",day)"
   ]
  },
  {
   "cell_type": "markdown",
   "id": "f910c4c2",
   "metadata": {
    "slideshow": {
     "slide_type": "slide"
    }
   },
   "source": [
    "## `min()` and `max()`\n",
    "\n",
    "The built-in `min()` and `max()` algorithms can find the largest or smallest value in a list."
   ]
  },
  {
   "cell_type": "code",
   "execution_count": 2,
   "id": "850d2e89",
   "metadata": {},
   "outputs": [
    {
     "data": {
      "text/plain": [
       "8"
      ]
     },
     "execution_count": 2,
     "metadata": {},
     "output_type": "execute_result"
    }
   ],
   "source": [
    "my_list = [5,1,8,7,4,2]\n",
    "max(my_list)"
   ]
  },
  {
   "cell_type": "markdown",
   "id": "c1b16fc5",
   "metadata": {
    "slideshow": {
     "slide_type": "fragment"
    }
   },
   "source": [
    "Behind the scenes, the `max()` function follows the search pattern. To illustrate how this works, look through the following list of numbers one by one and keep track of which one is the largest (try not to look at the list as a whole - just go through one entry at a time in your mind)."
   ]
  },
  {
   "cell_type": "code",
   "execution_count": 4,
   "id": "e1b7ed1d",
   "metadata": {},
   "outputs": [],
   "source": [
    "student_grades = [88.3, 53.2, 76.6, 92.2, 81.9, 79.7, 62.1, 84.8, 83.3]"
   ]
  },
  {
   "cell_type": "markdown",
   "id": "e2b785b5",
   "metadata": {
    "slideshow": {
     "slide_type": "fragment"
    }
   },
   "source": [
    "What was the biggest grade in that list?\n",
    "\n",
    "At each step, you remembered max value that you've seen *so-far*, and when you looked at each new value, you mentally compared it with the previous max-so-far. At the end, whatever your max-so-far is, is the max of the whole list.\n",
    "\n",
    "Here's what this looks like in code. We'll keep track of the max-so-far using the variable `max_so_far`. And, when we start, we set `max_so_far` to negative infinity so that it will be guaranteed to be smaller than anything else we see once we start looking at the values."
   ]
  },
  {
   "cell_type": "code",
   "execution_count": 5,
   "id": "2d4cda20",
   "metadata": {
    "slideshow": {
     "slide_type": "skip"
    }
   },
   "outputs": [
    {
     "name": "stdout",
     "output_type": "stream",
     "text": [
      "The max grade is 92.2\n"
     ]
    }
   ],
   "source": [
    "student_grades = [88.3, 53.2, 76.6, 92.2, 81.9, 79.7, 62.1, 84.8, 83.3]\n",
    "\n",
    "max_so_far = -float(\"inf\") #Python's representation of \"negative infinity\"\n",
    "\n",
    "for grade in student_grades:\n",
    "    #if I found a new max-so-far\n",
    "    if grade > max_so_far:\n",
    "        #keep track of this value as the new max-so-far\n",
    "        max_so_far = grade\n",
    "        \n",
    "print(\"The max grade is\",max_so_far)\n"
   ]
  },
  {
   "cell_type": "markdown",
   "id": "622c89af",
   "metadata": {},
   "source": [
    "As we loop through each of the items, we check if the item we're currently looking at, `grade` is bigger than our previous `max_so_far`. If it is, then we reset `max_so_far` to this new `grade`."
   ]
  },
  {
   "cell_type": "markdown",
   "id": "88f4b5bd",
   "metadata": {
    "slideshow": {
     "slide_type": "fragment"
    }
   },
   "source": [
    "**Exercise 1:** Copy the code for find-max and then change it so that it finds the *minimum* value instead of the maximum."
   ]
  },
  {
   "cell_type": "markdown",
   "id": "59dce584",
   "metadata": {},
   "source": [
    "__Exercise 2:__ The find max/min algorithm doesn't just work on lists - it can work on anything you can iterate through with a loop. Loop through the [zipcode data](https://raw.githubusercontent.com/ericmanley/IntroToProgrammingWithPython/refs/heads/main/zipcodes.json) file from __Dictionariees and JSON__  Lab (recall __Exercise 3__ from that lab which shows how to loop through a dictionary), and find the population of the highest-population zip code in the United States. (_Hint:_ you should get the answer 112047)"
   ]
  },
  {
   "cell_type": "markdown",
   "id": "343ffa65",
   "metadata": {},
   "source": [
    "__Exercise 3:__ Sometimes, you don't just want to know what is the max or min value but rather some other information about the thing that has the max/min value. For instance, we might want to know which zip code has that max population of 112047. Write another version of your code from the previous exercise that instead finds the zip code which has the highest population. (_Hint:_ you should get the answer `\"60623\"` - it's a zip code in Chicago)"
   ]
  }
 ],
 "metadata": {
  "celltoolbar": "Slideshow",
  "kernelspec": {
   "display_name": "Python 3 (ipykernel)",
   "language": "python",
   "name": "python3"
  },
  "language_info": {
   "codemirror_mode": {
    "name": "ipython",
    "version": 3
   },
   "file_extension": ".py",
   "mimetype": "text/x-python",
   "name": "python",
   "nbconvert_exporter": "python",
   "pygments_lexer": "ipython3",
   "version": "3.10.6"
  }
 },
 "nbformat": 4,
 "nbformat_minor": 5
}
