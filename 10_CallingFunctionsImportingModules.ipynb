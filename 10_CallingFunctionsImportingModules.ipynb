{
 "cells": [
  {
   "cell_type": "markdown",
   "id": "3a1f1f7f",
   "metadata": {
    "slideshow": {
     "slide_type": "slide"
    }
   },
   "source": [
    "# Calling Functions and Importing Modules\n",
    "#### Introduction to Programming with Python"
   ]
  },
  {
   "cell_type": "markdown",
   "id": "e18adc69",
   "metadata": {
    "slideshow": {
     "slide_type": "slide"
    }
   },
   "source": [
    "## Abstraction: Big idea in computer science\n",
    "\n",
    "**Abstraction** in computer science is the concept of hiding the details of how something works to make it easier to use for higher-level problem solving. \n",
    "\n",
    "For example, designers of automobiles abstract away the details of how the engine works by hiding them beneath the hood of the car. They provide drivers with only the essential controls (e.g., steering wheel, gas pedal, etc.) needed to operate the car. This is great because it allows someone to learn to drive without having to understand automobile engine mechanics.\n",
    "\n",
    "Similarly, a chef doesn't need to know how to farm in order to cook food. The chef and farmer work at different levels of abstraction. The farmer creates a low-level detail - a basic building block that could be used in many different dishes.\n",
    "\n",
    "You've already benefited from abstraction in software! You wrote several different print statements to display information to your user, and yet you didn't have to think about the details of how your data is processed and ultimately represented as different colors and patterns that appear on a computer display. Programming would be extremely difficult if we all had to solve all of the low-level problems in order to produce higher-level, more complex programs. This is ultimately what has allowed technology to develop and progress so quickly."
   ]
  },
  {
   "cell_type": "markdown",
   "id": "ad626b59",
   "metadata": {
    "slideshow": {
     "slide_type": "slide"
    }
   },
   "source": [
    "## Abstraction examples we've already seen\n",
    "\n",
    "We've already used several built-in _functions_ in this class: `print()`, `input()`, `type()`, `int()`, `float()`, `str()`\n",
    "* A function is an abstraction tool\n",
    "* We don't have to understand how they work in order to use them"
   ]
  },
  {
   "cell_type": "code",
   "execution_count": 1,
   "id": "710d6600",
   "metadata": {
    "slideshow": {
     "slide_type": "fragment"
    }
   },
   "outputs": [
    {
     "name": "stdout",
     "output_type": "stream",
     "text": [
      "Enter your name Eric\n",
      "Hello Eric\n"
     ]
    }
   ],
   "source": [
    "name = input(\"Enter your name \")\n",
    "print(\"Hello\",name)"
   ]
  },
  {
   "cell_type": "markdown",
   "id": "374f6bdf",
   "metadata": {},
   "source": [
    "`input(\"Enter your name \")` and `print(\"Hello\",name)` are __function calls__\n",
    "\n",
    "Anything you put in the parentheses, like `\"Enter your name \"`, `\"Hello\"`, and `name` are _arguments_ which are passed to the function\n",
    "\n",
    "Functions do/execute/compute something based on the arguments"
   ]
  },
  {
   "cell_type": "markdown",
   "id": "c9c56157",
   "metadata": {
    "slideshow": {
     "slide_type": "slide"
    }
   },
   "source": [
    "## Functions that aren't built-in\n",
    "\n",
    "One of the things that makes Python such a great language is that there are many functions you can use that aren't built in. \n",
    "\n",
    "They're written by other programmers and made available to you.\n",
    "\n",
    "In order to use them, you need an `import` statement.\n",
    "\n",
    "Something you import this way is called a __module__.\n",
    "\n",
    "When running a function from a module, you usually use the __dot notation__."
   ]
  },
  {
   "cell_type": "code",
   "execution_count": 2,
   "id": "6c5d5146",
   "metadata": {},
   "outputs": [
    {
     "name": "stdout",
     "output_type": "stream",
     "text": [
      "39\n"
     ]
    }
   ],
   "source": [
    "import random\n",
    "print( random.randint(1,100) )"
   ]
  },
  {
   "cell_type": "markdown",
   "id": "8783c0f5",
   "metadata": {},
   "source": [
    "In `random.randint(1,100)`, `random` is the name of the module and `randint` is the name of the function we want to use from that module. `1` and `100` are __arguments__ we pass to the function that tell it what range of numbers we want our random number to be in."
   ]
  },
  {
   "cell_type": "code",
   "execution_count": 3,
   "id": "30da5084",
   "metadata": {
    "slideshow": {
     "slide_type": "fragment"
    }
   },
   "outputs": [
    {
     "name": "stdout",
     "output_type": "stream",
     "text": [
      "2025-01-27 14:12:43.760409\n"
     ]
    }
   ],
   "source": [
    "import datetime\n",
    "print( datetime.datetime.now() )"
   ]
  },
  {
   "cell_type": "markdown",
   "id": "a214c391",
   "metadata": {},
   "source": [
    "Notice that this uses two dots - in this case, the pattern is `modulename.typename.functionname` becaise the `datetime` modules contains many different types, and those types each support different functions.\n",
    "\n",
    "Different modules are set up to be used in slightly different ways."
   ]
  },
  {
   "cell_type": "markdown",
   "id": "bbb11e78",
   "metadata": {
    "slideshow": {
     "slide_type": "subslide"
    }
   },
   "source": [
    "How do you know how to use a module?"
   ]
  },
  {
   "cell_type": "markdown",
   "id": "54b84da1",
   "metadata": {
    "slideshow": {
     "slide_type": "fragment"
    }
   },
   "source": [
    "Find the documentation for it on the web!\n",
    "\n",
    "https://docs.python.org/3/library/datetime.html"
   ]
  },
  {
   "cell_type": "markdown",
   "id": "b63a6285",
   "metadata": {
    "slideshow": {
     "slide_type": "subslide"
    }
   },
   "source": [
    "https://docs.python.org/3/library/random.html"
   ]
  },
  {
   "cell_type": "markdown",
   "id": "80cddc75",
   "metadata": {
    "slideshow": {
     "slide_type": "slide"
    }
   },
   "source": [
    "## Modules can provide new functions and new types\n",
    "\n",
    "Note that `datetime` itself is a module."
   ]
  },
  {
   "cell_type": "code",
   "execution_count": 4,
   "id": "44057458",
   "metadata": {},
   "outputs": [
    {
     "name": "stdout",
     "output_type": "stream",
     "text": [
      "<class 'module'>\n"
     ]
    }
   ],
   "source": [
    "print( type(datetime) )"
   ]
  },
  {
   "cell_type": "markdown",
   "id": "a5f4d918",
   "metadata": {},
   "source": [
    "Inside the `datetime` module, they have defined a brand new type, also called `datetime` - it's a little weird, but that means `datetime.datetime` is its own type."
   ]
  },
  {
   "cell_type": "code",
   "execution_count": 5,
   "id": "d42ae07d",
   "metadata": {},
   "outputs": [
    {
     "name": "stdout",
     "output_type": "stream",
     "text": [
      "<class 'type'>\n"
     ]
    }
   ],
   "source": [
    "print( type(datetime.datetime) )"
   ]
  },
  {
   "cell_type": "markdown",
   "id": "52ab5205",
   "metadata": {},
   "source": [
    "And the `datetime.datetime` type has function, `now` that can be called on it with dot notation. It results in a value whose type is `datetime.datetime`."
   ]
  },
  {
   "cell_type": "code",
   "execution_count": 6,
   "id": "90c2d79f",
   "metadata": {},
   "outputs": [
    {
     "name": "stdout",
     "output_type": "stream",
     "text": [
      "<class 'datetime.datetime'>\n"
     ]
    }
   ],
   "source": [
    "current = datetime.datetime.now()\n",
    "print( type(current) )"
   ]
  },
  {
   "cell_type": "markdown",
   "id": "21839264",
   "metadata": {
    "slideshow": {
     "slide_type": "slide"
    }
   },
   "source": [
    "https://xkcd.com/353/\n",
    "\n",
    "<center>\n",
    "<div>\n",
    "<img src=\"images/python.png\"/>\n",
    "</div>\n",
    "</center>\n"
   ]
  },
  {
   "cell_type": "markdown",
   "id": "fe353d7c",
   "metadata": {},
   "source": []
  }
 ],
 "metadata": {
  "celltoolbar": "Slideshow",
  "kernelspec": {
   "display_name": "Python 3 (ipykernel)",
   "language": "python",
   "name": "python3"
  },
  "language_info": {
   "codemirror_mode": {
    "name": "ipython",
    "version": 3
   },
   "file_extension": ".py",
   "mimetype": "text/x-python",
   "name": "python",
   "nbconvert_exporter": "python",
   "pygments_lexer": "ipython3",
   "version": "3.10.6"
  }
 },
 "nbformat": 4,
 "nbformat_minor": 5
}
