{
 "cells": [
  {
   "cell_type": "markdown",
   "id": "43af2a82",
   "metadata": {},
   "source": [
    "# Lab: List Practice\n",
    "\n",
    "In this lab, you are going to practice list operations introduced in the lecture and then explore a few more operations."
   ]
  },
  {
   "cell_type": "markdown",
   "id": "d34b348f",
   "metadata": {},
   "source": [
    "__Exercise 1:__ Here are two similar questions. Write the code that would answer each:\n",
    "\n",
    "1. Is \"Eccleston\" in this list?\n",
    "2. Where is \"Eccleston\" in this list?"
   ]
  },
  {
   "cell_type": "code",
   "execution_count": null,
   "id": "9cd21772",
   "metadata": {},
   "outputs": [],
   "source": [
    "doctor_who_actors = [\"McGann\",\"Eccleston\",\"Tennant\",\"Smith\",\"Capaldi\",\"Whittaker\",\"Gatwa\"]"
   ]
  },
  {
   "cell_type": "markdown",
   "id": "86b2ba6b",
   "metadata": {},
   "source": [
    "__Exercise 2:__ We discussed this code for removing values from a list. What if we want to remove the value from a specific day number (i.e., 0-6) rather than the amount of rainfall? Change the code to make it work in that case."
   ]
  },
  {
   "cell_type": "code",
   "execution_count": null,
   "id": "4675b8c1",
   "metadata": {},
   "outputs": [],
   "source": [
    "rainfall_amounts = [0.0, 0.3, 0.71, 0.0, 0.32, 1.1, 0.4]\n",
    "val_to_remove = float(input(\"Enter a value to remove: \"))\n",
    "rainfall_amounts.remove(val_to_remove)\n",
    "print(rainfall_amounts)"
   ]
  },
  {
   "cell_type": "markdown",
   "id": "d382f203",
   "metadata": {},
   "source": [
    "__Exercise 3:__ Some operators might work with lists and some might not. For each of the following, try them out and keep notes on which ones worked and which didn't. If it did work, make sure to write down what it did."
   ]
  },
  {
   "cell_type": "code",
   "execution_count": null,
   "id": "f909048d",
   "metadata": {},
   "outputs": [],
   "source": [
    "[\"A\",\"B\",\"C\"]+[\"C\",\"D\"]\n",
    "[\"A\",\"B\",\"C\"]-[\"C\",\"D\"]\n",
    "[\"A\",\"B\",\"C\"]*[\"C\",\"D\"]\n",
    "[\"A\",\"B\",\"C\"]+5\n",
    "[\"A\",\"B\",\"C\"]*5"
   ]
  },
  {
   "cell_type": "markdown",
   "id": "5aea9f08",
   "metadata": {},
   "source": [
    "__Exercise 4:__ You can put a list inside of another list (this is called a __nested list__). Try each of the lines below. In your notes, write down what happens when using two indices."
   ]
  },
  {
   "cell_type": "code",
   "execution_count": null,
   "id": "0e31a7ff",
   "metadata": {},
   "outputs": [],
   "source": [
    "nested_list = [1,2,3,[4,5,6],7]\n",
    "print(nested_list)\n",
    "print(nested_list[2])\n",
    "print(nested_list[3])\n",
    "print(nested_list[3][1])"
   ]
  },
  {
   "cell_type": "markdown",
   "id": "46ca4fae",
   "metadata": {},
   "source": [
    "__Exercise 5:__ Write code that will ask the user for a rainfall amount. If that amount appears in the list, tell them the day it occurred (i.e., the index of that item in the list). If it appears more than once, report the index of the first one. If it does not appear in the list, tell them that no day had that exact amount of rain. Use the list below as the rainfall amount list (it should be the first line in your code)\n"
   ]
  },
  {
   "cell_type": "code",
   "execution_count": null,
   "id": "07ee70cf",
   "metadata": {},
   "outputs": [],
   "source": [
    "rainfall = [0.0, 0.3, 0.71, 0.0, 0.32, 1.1, 0.4]"
   ]
  }
 ],
 "metadata": {
  "kernelspec": {
   "display_name": "Python 3",
   "language": "python",
   "name": "python3"
  },
  "language_info": {
   "codemirror_mode": {
    "name": "ipython",
    "version": 3
   },
   "file_extension": ".py",
   "mimetype": "text/x-python",
   "name": "python",
   "nbconvert_exporter": "python",
   "pygments_lexer": "ipython3",
   "version": "3.8.8"
  }
 },
 "nbformat": 4,
 "nbformat_minor": 5
}
