{
 "cells": [
  {
   "cell_type": "markdown",
   "id": "8f566885",
   "metadata": {
    "slideshow": {
     "slide_type": "slide"
    }
   },
   "source": [
    "# Reading Data from Files\n",
    "#### Introduction to Programming with Python"
   ]
  },
  {
   "cell_type": "markdown",
   "id": "7635afca",
   "metadata": {
    "slideshow": {
     "slide_type": "slide"
    }
   },
   "source": [
    "## Why use files in Python?\n",
    "\n",
    "Often, your program needs to work with data in files - you don't want to make the user input a whole bunch of values every time they use it.\n",
    "\n",
    "Examples:\n",
    "* analyzing weather data\n",
    "* generating payroll\n",
    "* saving progress and returning to it later (like in a word processor)"
   ]
  },
  {
   "cell_type": "markdown",
   "id": "b0a2f870",
   "metadata": {},
   "source": [
    "## A sample text file\n",
    "\n",
    "To get started, we'll use a sample file called `gettysburg.txt` which contains the text of Abraham Lincoln's Gettysburg Address. You can find the file at the following link. If the file opens in your browser (and doesn't automatically download when you click the link), you should be able to save it to your computer through your browser's `File -> Save As` menu (or something similar). Make sure you save the file to your computer with the name `gettysburg.txt`.\n",
    "\n",
    "https://raw.githubusercontent.com/ericmanley/IntroToProgrammingWithPython/refs/heads/main/gettysburg.txt\n",
    "\n",
    "This is a plain text file. It's one of the most simple file formats and is essentially like saving a string to a file. On a Windows computer, it will usually open using the Notepad application. On Mac, it will usually with TextEdit.\n",
    "\n",
    "<center>\n",
    "<div>\n",
    "<img src=\"images/gettysburg.png\" width=\"400\"/>\n",
    "</div>\n",
    "</center>"
   ]
  },
  {
   "cell_type": "markdown",
   "id": "ede524a4",
   "metadata": {
    "slideshow": {
     "slide_type": "slide"
    }
   },
   "source": [
    "## Opening files in Python\n",
    "\n",
    "To open a file with Pythonm, use the built-in `open()` function as below and save the result to a new variable like `gettysburg_file`. You can think of this variable as representing a *file object*, though if you check its type you will see that the type's name is actually `_io.TextIOWrapper`. "
   ]
  },
  {
   "cell_type": "code",
   "execution_count": 1,
   "id": "1b33d007",
   "metadata": {
    "cell_style": "split"
   },
   "outputs": [
    {
     "data": {
      "text/plain": [
       "_io.TextIOWrapper"
      ]
     },
     "execution_count": 1,
     "metadata": {},
     "output_type": "execute_result"
    }
   ],
   "source": [
    "#assumes the gettysburg.txt file is in\n",
    "#the same directory as your .py file\n",
    "gettysburg_file = open(\"gettysburg.txt\")\n",
    "type(gettysburg_file)"
   ]
  },
  {
   "cell_type": "markdown",
   "id": "064da02f",
   "metadata": {
    "cell_style": "split"
   },
   "source": [
    "However, if you're running this for the first time in Colab, the Python interpreter won't know where to find the file and you'll get an error. So we first need to click the folder icon in the left-side menu.\n",
    "\n",
    "\n",
    "<center>\n",
    "<div>\n",
    "<img src=\"images/file_problem.png\" width=\"500\"/>\n",
    "</div>\n",
    "</center>\n",
    "\n",
    "\n"
   ]
  },
  {
   "cell_type": "markdown",
   "id": "c0f0f37a",
   "metadata": {},
   "source": [
    "Then, upload the `gettysburg.txt` file by dragging it from your computer into the file area in the notebook. \n",
    "\n",
    "<center>\n",
    "<div>\n",
    "<img src=\"images/drag_file.png\" width=\"500\"/>\n",
    "</div>\n",
    "</center>\n",
    "\n",
    "Now the Python interpreter will find your file and open it when you call `open()`."
   ]
  },
  {
   "cell_type": "markdown",
   "id": "074baf5a",
   "metadata": {
    "slideshow": {
     "slide_type": "slide"
    }
   },
   "source": [
    "## Reading data from files\n",
    "\n",
    "Python files work with several different methods that allow you to read data.\n",
    "* `read()` reads the file into a big string\n",
    "* `readline()` reads the next line of the file into a string\n",
    "* `readlines()` reads the lines of the file into a list of strings\n",
    "\n",
    "Here's what it looks like when you open the file, read it, and then print the result."
   ]
  },
  {
   "cell_type": "code",
   "execution_count": 2,
   "id": "2a00f887",
   "metadata": {
    "slideshow": {
     "slide_type": "fragment"
    }
   },
   "outputs": [
    {
     "name": "stdout",
     "output_type": "stream",
     "text": [
      "Fourscore and seven years ago our fathers brought forth on\n",
      "this continent a new nation, conceived in liberty and\n",
      "dedicated to the proposition that all men are created equal.\n",
      "\n",
      "Now we are engaged in a great civil war, testing whether \n",
      "that nation or any nation so conceived and so dedicated can \n",
      "long endure. We are met on a great battlefield of that war. \n",
      "We have come to dedicate a portion of it as a final resting \n",
      "place for those who died here that the nation might live. \n",
      "This we may, in all propriety do. But in a larger sense, we \n",
      "cannot dedicate, we cannot consecrate, we cannot hallow this \n",
      "ground. The brave men, living and dead who struggled here \n",
      "have hallowed it far above our poor power to add or detract. \n",
      "The world will little note nor long remember what we say \n",
      "here, but it can never forget what they did here.\n",
      "\n",
      "It is rather for us the living, we here be dedicated to the \n",
      "great task remaining before us--that from these honored dead \n",
      "we take increased devotion to that cause for which they here \n",
      "gave the last full measure of devotion--that we here highly \n",
      "resolve that these dead shall not have died in vain, that \n",
      "this nation shall have a new birth of freedom, and that \n",
      "government of the people, by the people, for the people \n",
      "shall not perish from the earth.\n",
      "\n"
     ]
    }
   ],
   "source": [
    "gettysburg_file = open(\"gettysburg.txt\")\n",
    "file_contents = gettysburg_file.read()\n",
    "print(file_contents)"
   ]
  },
  {
   "cell_type": "markdown",
   "id": "65d4dc06",
   "metadata": {},
   "source": [
    "See what happens when you use `readline()`. Each time you call it, it will read the next line of the file. In this example, we read two lines and print the second one."
   ]
  },
  {
   "cell_type": "code",
   "execution_count": 3,
   "id": "c0f81f45",
   "metadata": {
    "slideshow": {
     "slide_type": "fragment"
    }
   },
   "outputs": [
    {
     "name": "stdout",
     "output_type": "stream",
     "text": [
      "this continent a new nation, conceived in liberty and\n",
      "\n"
     ]
    }
   ],
   "source": [
    "gettysburg_file = open(\"gettysburg.txt\")\n",
    "firstline = gettysburg_file.readline()\n",
    "secondline = gettysburg_file.readline()\n",
    "print(secondline)"
   ]
  },
  {
   "cell_type": "markdown",
   "id": "880f7b04",
   "metadata": {},
   "source": [
    "If we use `readlines()` (with an \"s\" at the end), it reads the whole file and puts the lines in a list. If we wanted to print the line at index 8, it would look like this."
   ]
  },
  {
   "cell_type": "code",
   "execution_count": 4,
   "id": "fa172dc1",
   "metadata": {
    "slideshow": {
     "slide_type": "fragment"
    }
   },
   "outputs": [
    {
     "name": "stdout",
     "output_type": "stream",
     "text": [
      "place for those who died here that the nation might live. \n",
      "\n"
     ]
    }
   ],
   "source": [
    "gettysburg_file = open(\"gettysburg.txt\")\n",
    "contents_as_list = gettysburg_file.readlines()\n",
    "print( contents_as_list[8] )"
   ]
  },
  {
   "cell_type": "markdown",
   "id": "aa9b9775",
   "metadata": {
    "slideshow": {
     "slide_type": "slide"
    }
   },
   "source": [
    "## Opening files using `with` statements\n",
    "\n",
    "Opening files with a `with` statement does the same thing, but it does some nice things like closing the file when it is done."
   ]
  },
  {
   "cell_type": "code",
   "execution_count": 5,
   "id": "ffe72061",
   "metadata": {},
   "outputs": [
    {
     "name": "stdout",
     "output_type": "stream",
     "text": [
      "['Fourscore and seven years ago our fathers brought forth on\\n', 'this continent a new nation, conceived in liberty and\\n', 'dedicated to the proposition that all men are created equal.\\n', '\\n', 'Now we are engaged in a great civil war, testing whether \\n', 'that nation or any nation so conceived and so dedicated can \\n', 'long endure. We are met on a great battlefield of that war. \\n', 'We have come to dedicate a portion of it as a final resting \\n', 'place for those who died here that the nation might live. \\n', 'This we may, in all propriety do. But in a larger sense, we \\n', 'cannot dedicate, we cannot consecrate, we cannot hallow this \\n', 'ground. The brave men, living and dead who struggled here \\n', 'have hallowed it far above our poor power to add or detract. \\n', 'The world will little note nor long remember what we say \\n', 'here, but it can never forget what they did here.\\n', '\\n', 'It is rather for us the living, we here be dedicated to the \\n', 'great task remaining before us--that from these honored dead \\n', 'we take increased devotion to that cause for which they here \\n', 'gave the last full measure of devotion--that we here highly \\n', 'resolve that these dead shall not have died in vain, that \\n', 'this nation shall have a new birth of freedom, and that \\n', 'government of the people, by the people, for the people \\n', 'shall not perish from the earth.\\n']\n",
      "All done with the file.\n"
     ]
    }
   ],
   "source": [
    "with open(\"gettysburg.txt\") as gettysburg_file:\n",
    "    \n",
    "    gettysburg_text = gettysburg_file.readlines()\n",
    "    \n",
    "    print(gettysburg_text)\n",
    "    \n",
    "print(\"All done with the file.\")"
   ]
  },
  {
   "cell_type": "markdown",
   "id": "78d66bd0",
   "metadata": {
    "slideshow": {
     "slide_type": "slide"
    }
   },
   "source": [
    "## Analyzing Baby Names Example\n",
    "\n",
    "Let's say we want to analyze baby name popularity from the 2010s decade. \n",
    "\n",
    "You can download the file of top male names here: https://raw.githubusercontent.com/ericmanley/IntroToProgrammingWithPython/refs/heads/main/top_male_baby_names_2010s.txt\n",
    "\n",
    "And the file of top female names is here: https://raw.githubusercontent.com/ericmanley/IntroToProgrammingWithPython/refs/heads/main/top_female_baby_names_2010s.txt\n",
    "\n",
    "All of this data is originall from here: https://www.ssa.gov/oact/babynames/decades/names2010s.html\n",
    "\n",
    "<center>\n",
    "<div>\n",
    "<img src=\"images/babynamefile.png\" width=\"400\"/>\n",
    "</div>\n",
    "</center>\n",
    "\n"
   ]
  },
  {
   "cell_type": "markdown",
   "id": "96ce4c04",
   "metadata": {},
   "source": [
    "Let's start by reading the names into a list with `readlines()`."
   ]
  },
  {
   "cell_type": "code",
   "execution_count": 7,
   "id": "0ed1d21f",
   "metadata": {},
   "outputs": [
    {
     "name": "stdout",
     "output_type": "stream",
     "text": [
      "['Noah\\n', 'Liam\\n', 'Jacob\\n', 'William\\n', 'Mason\\n', 'Ethan\\n', 'Michael\\n', 'Alexander\\n', 'James\\n', 'Elijah\\n', 'Benjamin\\n', 'Daniel\\n', 'Aiden\\n', 'Logan\\n', 'Jayden\\n', 'Matthew\\n', 'Lucas\\n', 'David\\n', 'Jackson\\n', 'Joseph\\n', 'Anthony\\n', 'Samuel\\n', 'Joshua\\n', 'Gabriel\\n', 'Andrew\\n', 'John\\n', 'Christopher\\n', 'Oliver\\n', 'Dylan\\n', 'Carter\\n', 'Isaac\\n', 'Luke\\n', 'Henry\\n', 'Owen\\n', 'Ryan\\n', 'Nathan\\n', 'Wyatt\\n', 'Caleb\\n', 'Sebastian\\n', 'Jack\\n', 'Christian\\n', 'Jonathan\\n', 'Julian\\n', 'Landon\\n', 'Levi\\n', 'Isaiah\\n', 'Hunter\\n', 'Aaron\\n', 'Charles\\n', 'Thomas\\n', 'Eli\\n', 'Jaxon\\n', 'Connor\\n', 'Nicholas\\n', 'Jeremiah\\n', 'Grayson\\n', 'Cameron\\n', 'Brayden\\n', 'Adrian\\n', 'Evan\\n', 'Jordan\\n', 'Josiah\\n', 'Angel\\n', 'Robert\\n', 'Gavin\\n', 'Tyler\\n', 'Austin\\n', 'Colton\\n', 'Jose\\n', 'Dominic\\n', 'Brandon\\n', 'Ian\\n', 'Lincoln\\n', 'Hudson\\n', 'Kevin\\n', 'Zachary\\n', 'Adam\\n', 'Mateo\\n', 'Jason\\n', 'Chase\\n', 'Nolan\\n', 'Ayden\\n', 'Cooper\\n', 'Parker\\n', 'Xavier\\n', 'Asher\\n', 'Carson\\n', 'Jace\\n', 'Easton\\n', 'Justin\\n', 'Leo\\n', 'Bentley\\n', 'Jaxson\\n', 'Nathaniel\\n', 'Blake\\n', 'Elias\\n', 'Theodore\\n', 'Kayden\\n', 'Luis\\n', 'Tristan\\n', 'Ezra\\n', 'Bryson\\n', 'Juan\\n', 'Brody\\n', 'Vincent\\n', 'Micah\\n', 'Miles\\n', 'Santiago\\n', 'Cole\\n', 'Ryder\\n', 'Carlos\\n', 'Damian\\n', 'Leonardo\\n', 'Roman\\n', 'Max\\n', 'Sawyer\\n', 'Jesus\\n', 'Diego\\n', 'Greyson\\n', 'Alex\\n', 'Maxwell\\n', 'Axel\\n', 'Eric\\n', 'Wesley\\n', 'Declan\\n', 'Giovanni\\n', 'Ezekiel\\n', 'Braxton\\n', 'Ashton\\n', 'Ivan\\n', 'Hayden\\n', 'Camden\\n', 'Silas\\n', 'Bryce\\n', 'Weston\\n', 'Harrison\\n', 'Jameson\\n', 'George\\n', 'Antonio\\n', 'Timothy\\n', 'Kaiden\\n', 'Jonah\\n', 'Everett\\n', 'Miguel\\n', 'Steven\\n', 'Richard\\n', 'Emmett\\n', 'Victor\\n', 'Kaleb\\n', 'Kai\\n', 'Maverick\\n', 'Joel\\n', 'Bryan\\n', 'Maddox\\n', 'Kingston\\n', 'Aidan\\n', 'Patrick\\n', 'Edward\\n', 'Emmanuel\\n', 'Jude\\n', 'Alejandro\\n', 'Preston\\n', 'Luca\\n', 'Bennett\\n', 'Jesse\\n', 'Colin\\n', 'Jaden\\n', 'Malachi\\n', 'Kaden\\n', 'Jayce\\n', 'Alan\\n', 'Kyle\\n', 'Marcus\\n', 'Brian\\n', 'Ryker\\n', 'Grant\\n', 'Jeremy\\n', 'Abel\\n', 'Riley\\n', 'Calvin\\n', 'Brantley\\n', 'Caden\\n', 'Oscar\\n', 'Abraham\\n', 'Brady\\n', 'Sean\\n', 'Jake\\n', 'Tucker\\n', 'Nicolas\\n', 'Mark\\n', 'Amir\\n', 'Avery\\n', 'King\\n', 'Gael\\n', 'Kenneth\\n', 'Bradley\\n', 'Cayden\\n', 'Xander\\n', 'Graham\\n', 'Rowan']\n"
     ]
    }
   ],
   "source": [
    "with open(\"top_male_baby_names_2010s.txt\") as male_names_file:\n",
    "    male_names = male_names_file.readlines()\n",
    "    \n",
    "    print(male_names)"
   ]
  },
  {
   "cell_type": "markdown",
   "id": "2a2186fd",
   "metadata": {
    "slideshow": {
     "slide_type": "fragment"
    }
   },
   "source": [
    "It's annoying that the newline character `\\n` is included in all of the strings. To remove these, you could use the `rstrip()` string method."
   ]
  },
  {
   "cell_type": "code",
   "execution_count": 8,
   "id": "02f53bb4",
   "metadata": {},
   "outputs": [
    {
     "data": {
      "text/plain": [
       "'Eric\\n'"
      ]
     },
     "execution_count": 8,
     "metadata": {},
     "output_type": "execute_result"
    }
   ],
   "source": [
    "name = \"Eric\\n\"\n",
    "name"
   ]
  },
  {
   "cell_type": "code",
   "execution_count": 9,
   "id": "52109da8",
   "metadata": {},
   "outputs": [
    {
     "data": {
      "text/plain": [
       "'Eric'"
      ]
     },
     "execution_count": 9,
     "metadata": {},
     "output_type": "execute_result"
    }
   ],
   "source": [
    "name.rstrip()"
   ]
  },
  {
   "cell_type": "markdown",
   "id": "369fa217",
   "metadata": {
    "slideshow": {
     "slide_type": "subslide"
    }
   },
   "source": [
    "## looping through and removing all the newlines\n",
    "\n",
    "Now we'll add some code to loop through the list we just made and call `rstrip()` on each one, saving it back to the same place in the list."
   ]
  },
  {
   "cell_type": "code",
   "execution_count": 10,
   "id": "c51c9bdb",
   "metadata": {
    "slideshow": {
     "slide_type": "-"
    }
   },
   "outputs": [
    {
     "name": "stdout",
     "output_type": "stream",
     "text": [
      "['Noah', 'Liam', 'Jacob', 'William', 'Mason', 'Ethan', 'Michael', 'Alexander', 'James', 'Elijah', 'Benjamin', 'Daniel', 'Aiden', 'Logan', 'Jayden', 'Matthew', 'Lucas', 'David', 'Jackson', 'Joseph', 'Anthony', 'Samuel', 'Joshua', 'Gabriel', 'Andrew', 'John', 'Christopher', 'Oliver', 'Dylan', 'Carter', 'Isaac', 'Luke', 'Henry', 'Owen', 'Ryan', 'Nathan', 'Wyatt', 'Caleb', 'Sebastian', 'Jack', 'Christian', 'Jonathan', 'Julian', 'Landon', 'Levi', 'Isaiah', 'Hunter', 'Aaron', 'Charles', 'Thomas', 'Eli', 'Jaxon', 'Connor', 'Nicholas', 'Jeremiah', 'Grayson', 'Cameron', 'Brayden', 'Adrian', 'Evan', 'Jordan', 'Josiah', 'Angel', 'Robert', 'Gavin', 'Tyler', 'Austin', 'Colton', 'Jose', 'Dominic', 'Brandon', 'Ian', 'Lincoln', 'Hudson', 'Kevin', 'Zachary', 'Adam', 'Mateo', 'Jason', 'Chase', 'Nolan', 'Ayden', 'Cooper', 'Parker', 'Xavier', 'Asher', 'Carson', 'Jace', 'Easton', 'Justin', 'Leo', 'Bentley', 'Jaxson', 'Nathaniel', 'Blake', 'Elias', 'Theodore', 'Kayden', 'Luis', 'Tristan', 'Ezra', 'Bryson', 'Juan', 'Brody', 'Vincent', 'Micah', 'Miles', 'Santiago', 'Cole', 'Ryder', 'Carlos', 'Damian', 'Leonardo', 'Roman', 'Max', 'Sawyer', 'Jesus', 'Diego', 'Greyson', 'Alex', 'Maxwell', 'Axel', 'Eric', 'Wesley', 'Declan', 'Giovanni', 'Ezekiel', 'Braxton', 'Ashton', 'Ivan', 'Hayden', 'Camden', 'Silas', 'Bryce', 'Weston', 'Harrison', 'Jameson', 'George', 'Antonio', 'Timothy', 'Kaiden', 'Jonah', 'Everett', 'Miguel', 'Steven', 'Richard', 'Emmett', 'Victor', 'Kaleb', 'Kai', 'Maverick', 'Joel', 'Bryan', 'Maddox', 'Kingston', 'Aidan', 'Patrick', 'Edward', 'Emmanuel', 'Jude', 'Alejandro', 'Preston', 'Luca', 'Bennett', 'Jesse', 'Colin', 'Jaden', 'Malachi', 'Kaden', 'Jayce', 'Alan', 'Kyle', 'Marcus', 'Brian', 'Ryker', 'Grant', 'Jeremy', 'Abel', 'Riley', 'Calvin', 'Brantley', 'Caden', 'Oscar', 'Abraham', 'Brady', 'Sean', 'Jake', 'Tucker', 'Nicolas', 'Mark', 'Amir', 'Avery', 'King', 'Gael', 'Kenneth', 'Bradley', 'Cayden', 'Xander', 'Graham', 'Rowan']\n"
     ]
    }
   ],
   "source": [
    "with open(\"top_male_baby_names_2010s.txt\") as male_names_file:\n",
    "    \n",
    "    male_names = male_names_file.readlines()\n",
    "    \n",
    "    name_counter = 0\n",
    "    \n",
    "    while name_counter < len(male_names):\n",
    "        male_names[name_counter] = male_names[name_counter].rstrip()\n",
    "        \n",
    "        name_counter += 1\n",
    "     \n",
    " \n",
    "    print(male_names)"
   ]
  },
  {
   "cell_type": "markdown",
   "id": "5bac59ab",
   "metadata": {
    "slideshow": {
     "slide_type": "slide"
    }
   },
   "source": [
    "## Now we can use Python to ask interesting question of our data\n",
    "\n",
    "Here's a program that lets the user check how popular a name was."
   ]
  },
  {
   "cell_type": "code",
   "execution_count": 11,
   "id": "7ba48e69",
   "metadata": {
    "scrolled": true
   },
   "outputs": [
    {
     "name": "stdout",
     "output_type": "stream",
     "text": [
      "Enter a name: Ryker\n",
      "Ryker was the number 175 most popular male name in the 2010s.\n"
     ]
    }
   ],
   "source": [
    "name_to_search = input(\"Enter a name: \")\n",
    "if name_to_search in male_names:\n",
    "    position = male_names.index(name_to_search)\n",
    "    print(name_to_search,\"was the number\",(position+1),\"most popular male name in the 2010s.\")\n",
    "else:\n",
    "    print(name_to_search,\"was not a popular name in the 2010s.\")"
   ]
  }
 ],
 "metadata": {
  "celltoolbar": "Slideshow",
  "kernelspec": {
   "display_name": "Python 3 (ipykernel)",
   "language": "python",
   "name": "python3"
  },
  "language_info": {
   "codemirror_mode": {
    "name": "ipython",
    "version": 3
   },
   "file_extension": ".py",
   "mimetype": "text/x-python",
   "name": "python",
   "nbconvert_exporter": "python",
   "pygments_lexer": "ipython3",
   "version": "3.10.6"
  }
 },
 "nbformat": 4,
 "nbformat_minor": 5
}
