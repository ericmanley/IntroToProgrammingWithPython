{
 "cells": [
  {
   "cell_type": "markdown",
   "id": "a75a4679",
   "metadata": {},
   "source": [
    "# Lab: Loops and Lists\n",
    "In this lab, you are going to practice working with loops, and then you'll explore how loops often work nicely for processing lists."
   ]
  },
  {
   "cell_type": "markdown",
   "id": "beab20ed",
   "metadata": {},
   "source": [
    "First, we're going to practice addings some code to an existing `while` loop.\n",
    "\n",
    "__Exercise 1:__ Consider the guess-my-number code. When the user guesses wrong, add some code that will tell them whether they were too high or too low. (_Hint:_ add a new conditional statement (or change the exiting one) in the indented part of the code). To make this a little more fun, instead of just hard-coding the secret number as 7, we'll generate a random number between 1 and 100."
   ]
  },
  {
   "cell_type": "code",
   "execution_count": null,
   "id": "7d623908",
   "metadata": {},
   "outputs": [],
   "source": [
    "import random\n",
    "\n",
    "secret_number = random.randint(1,100) #this will generate a random integer between 1 and 100\n",
    "guess = 0\n",
    "guess_counter = 0\n",
    "\n",
    "while guess != secret_number:\n",
    "    guess = int(input(\"Guess a number: \"))\n",
    "    guess_counter += 1 #this is the same as guess_counter = guess_counter + 1\n",
    "\n",
    "    if guess == secret_number:\n",
    "        print(\"That was right, good guess!\")\n",
    "    else:\n",
    "        print(\"Wrong!\")\n",
    "        \n",
    "print(\"That took\",guess_counter,\"guesses\")"
   ]
  },
  {
   "cell_type": "markdown",
   "id": "11c14fc9",
   "metadata": {},
   "source": [
    "__Exercise 2:__ Consider the following loops. Before running them, try to predict how many of the iterations will run, and then run them to see if you were right."
   ]
  },
  {
   "cell_type": "code",
   "execution_count": null,
   "id": "004fecf4",
   "metadata": {},
   "outputs": [],
   "source": [
    "x = 0\n",
    "while x <= 5:\n",
    "    print(x)\n",
    "    x += 1"
   ]
  },
  {
   "cell_type": "code",
   "execution_count": null,
   "id": "13075350",
   "metadata": {},
   "outputs": [],
   "source": [
    "x = 10\n",
    "while x > 0:\n",
    "    print(x)\n",
    "    x -= 1"
   ]
  },
  {
   "cell_type": "code",
   "execution_count": null,
   "id": "d78ffeaf",
   "metadata": {},
   "outputs": [],
   "source": [
    "x = 0\n",
    "while x < 16:\n",
    "    print(x)\n",
    "    x += 2"
   ]
  },
  {
   "cell_type": "code",
   "execution_count": null,
   "id": "c7642f57",
   "metadata": {},
   "outputs": [],
   "source": [
    "x = 1\n",
    "while x < 0:\n",
    "    print(x)\n",
    "    x += 1"
   ]
  },
  {
   "cell_type": "markdown",
   "id": "005b34e4",
   "metadata": {},
   "source": [
    "__Exercise 3:__ Write a program that asks the user how many times they would like to be greeted, and then use a loop to say \"Hello\" that many times.\n",
    "\n",
    "\n",
    "<p>\n",
    "<div>\n",
    "<img src=\"images/helloloopoutput.png\" width=\"400\"/>\n",
    "</div>\n",
    "</p>\n"
   ]
  },
  {
   "cell_type": "markdown",
   "id": "53f9bb9e",
   "metadata": {},
   "source": [
    "## Loops with Lists\n",
    "\n",
    "Consider the following code where we use a count-controlled loop to run through all the indices of a list."
   ]
  },
  {
   "cell_type": "code",
   "execution_count": 2,
   "id": "092666df",
   "metadata": {},
   "outputs": [
    {
     "name": "stdout",
     "output_type": "stream",
     "text": [
      "Day 0 had 0.0 inches of rainfall.\n",
      "Day 1 had 0.3 inches of rainfall.\n",
      "Day 2 had 0.71 inches of rainfall.\n",
      "Day 3 had 0.0 inches of rainfall.\n",
      "Day 4 had 0.32 inches of rainfall.\n",
      "Day 5 had 1.1 inches of rainfall.\n",
      "Day 6 had 0.4 inches of rainfall.\n"
     ]
    }
   ],
   "source": [
    "rainfall = [0.0, 0.3, 0.71, 0.0, 0.32, 1.1, 0.4]\n",
    "\n",
    "counter = 0\n",
    "while counter < len(rainfall):\n",
    "    print(\"Day\",counter,\"had\",rainfall[counter],\"inches of rainfall.\")\n",
    "    counter += 1"
   ]
  },
  {
   "cell_type": "markdown",
   "id": "b4afafb6",
   "metadata": {},
   "source": [
    "__Exercise 4:__ Write a new version of the above code that will only print out rainfall on days where the rainfall amount was > 0. \n",
    "\n",
    "<p>\n",
    "<div>\n",
    "<img src=\"images/nonzerorainfalloutput.png\" width=\"400\"/>\n",
    "</div>\n",
    "</p>"
   ]
  },
  {
   "cell_type": "markdown",
   "id": "50296f6c",
   "metadata": {},
   "source": [
    "__Exercise 5:__ Recall the following program which used an accumulator variable `total_bill` to keep a running total. Write something similar that will find a running total of all the values in the `rainfall` list (instead of asking the user for input values). You will probably want to set up your loop like the example above, but include an accumulator variable like the example below."
   ]
  },
  {
   "cell_type": "code",
   "execution_count": null,
   "id": "62f500fa",
   "metadata": {},
   "outputs": [],
   "source": [
    "total_bill = 0.0 #accumulator\n",
    "item_cost = -1\n",
    "while item_cost != 0.0:\n",
    "    \n",
    "    item_cost = float(input(\"Enter item cost (0 to quit): \"))\n",
    "    \n",
    "    total_bill += item_cost #this is the same as total_bill = total_bill + item_cost\n",
    "\n",
    "print(\"The total is\",total_bill)"
   ]
  },
  {
   "cell_type": "markdown",
   "id": "2ecfbe8c",
   "metadata": {},
   "source": [
    "<p>\n",
    "<div>\n",
    "<img src=\"images/rainfallaccumoutput.png\" width=\"400\"/>\n",
    "</div>\n",
    "</p>\n",
    "\n",
    "_Note:_ We could get the same result without a loop by using the `sum()` function, but it's good to practice it without `sum()` so you'll be ready for variations of the problem that `sum()` doesn't work for."
   ]
  },
  {
   "cell_type": "markdown",
   "id": "318a2fee",
   "metadata": {},
   "source": [
    "__Exercise 6:__ Something related to finding a sum is finding an average. In that case, you need to divide the sum by the total number of items. A common mistake programmers make when doing this is to write code that looks something like this:"
   ]
  },
  {
   "cell_type": "code",
   "execution_count": null,
   "id": "558ab9d2",
   "metadata": {},
   "outputs": [],
   "source": [
    "#WARNING: The code below has a logic error - don't use this as a reference\n",
    "num_values = int(input(\"How many values do you want to enter? \"))\n",
    "counter = 1\n",
    "average = 0\n",
    "\n",
    "while counter <= num_values:\n",
    "    new_val = float(input(\"input value\"+str(counter)+\": \"))\n",
    "    average += new_val/counter #dividing by total number because that's what you do with an average!\n",
    "    counter += 1\n",
    "    \n",
    "print(\"The average is\",average)"
   ]
  },
  {
   "cell_type": "markdown",
   "id": "e3bc1bb0",
   "metadata": {},
   "source": [
    "* Try running this code several times with different inputs, and verify that it is _not_ the correct way to compute an average.\n",
    "* Why doesn't this algorithm work?\n",
    "* What's the right way to do it?"
   ]
  },
  {
   "cell_type": "markdown",
   "id": "d65e3667",
   "metadata": {},
   "source": [
    "__Exericse 7:__ Here's some code that will create a new empty list, ask the user to enter a new value, and then append the new value to the list."
   ]
  },
  {
   "cell_type": "code",
   "execution_count": null,
   "id": "368b5d96",
   "metadata": {},
   "outputs": [],
   "source": [
    "rainfall = []\n",
    "\n",
    "new_rainfall_amount = float(input(\"Enter a new rainfall amount in inches: \"))\n",
    "rainfall.append(new_rainfall_amount)\n",
    "\n",
    "print(\"Here are the rainfall amounts you entered:\",rainfall)"
   ]
  },
  {
   "cell_type": "markdown",
   "id": "98f70818",
   "metadata": {},
   "source": [
    "Add a loop to this code so that it will continue filling up the list with values entered by the user until the user enters a pre-determined \"quit\" value like -1. Then, print out the resulting list. The output could look something like this:"
   ]
  },
  {
   "cell_type": "markdown",
   "id": "43b00bdb",
   "metadata": {},
   "source": [
    "\n",
    "<p>\n",
    "<div>\n",
    "<img src=\"images/fillrainfalloutput.png\" width=\"600\"/>\n",
    "</div>\n",
    "</p>"
   ]
  },
  {
   "cell_type": "markdown",
   "id": "b57fc2d5",
   "metadata": {},
   "source": [
    "__Exercise 8:__ To convert a measurement from inches to centimeters, you multiply it by 2.54. Write a new version of the above exercise that also prints out a list of equivalent measurements in centimeters. The output should look like this:\n",
    "\n",
    "<p>\n",
    "<div>\n",
    "<img src=\"images/rainfalllist_cm.png\" width=\"650\"/>\n",
    "</div>\n",
    "</p>"
   ]
  }
 ],
 "metadata": {
  "kernelspec": {
   "display_name": "Python 3 (ipykernel)",
   "language": "python",
   "name": "python3"
  },
  "language_info": {
   "codemirror_mode": {
    "name": "ipython",
    "version": 3
   },
   "file_extension": ".py",
   "mimetype": "text/x-python",
   "name": "python",
   "nbconvert_exporter": "python",
   "pygments_lexer": "ipython3",
   "version": "3.10.6"
  }
 },
 "nbformat": 4,
 "nbformat_minor": 5
}
