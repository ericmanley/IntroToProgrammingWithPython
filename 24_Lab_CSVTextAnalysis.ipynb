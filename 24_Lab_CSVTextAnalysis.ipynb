{
 "cells": [
  {
   "cell_type": "markdown",
   "id": "71923259",
   "metadata": {},
   "source": [
    "# Lab: CSV Files and Text Analysis\n",
    "In this lab, you are going to practice reading data from files into lists (one and two-dimensional) and then writing some programs that analyze the data."
   ]
  },
  {
   "cell_type": "markdown",
   "id": "51b807d8",
   "metadata": {},
   "source": [
    "__Exercise 1:__ Consider the following program we previously looked at that created a 2D list of national park info from a csv file and then counted how many parks there are in a given state."
   ]
  },
  {
   "cell_type": "code",
   "execution_count": null,
   "id": "ae737faa",
   "metadata": {},
   "outputs": [],
   "source": [
    "import csv\n",
    "\n",
    "with open(\"nationalparks.csv\") as npfile:\n",
    "    parks = csv.reader(npfile)\n",
    "    parks = list(parks)\n",
    "    \n",
    "state = input(\"Enter a state: \")\n",
    "\n",
    "park_counter = 1\n",
    "parks_in_state = 0\n",
    "\n",
    "while park_counter < len(parks):\n",
    "    \n",
    "    if parks[park_counter][1] == state:\n",
    "        parks_in_state += 1\n",
    "    \n",
    "    \n",
    "    park_counter += 1\n",
    "    \n",
    "print(\"There are\",parks_in_state,\"national parks in\",state)"
   ]
  },
  {
   "cell_type": "markdown",
   "id": "fdbb46a5",
   "metadata": {},
   "source": [
    "Write a similar program that asks the user for a state name and then prints the total size in acres of all national parks in that state. _Hint:_ Remember that all values read from files come in as strings, so you will need to convert it to a number in order to total up the values.\n",
    "\n",
    "<p>\n",
    "<div>\n",
    "<img src=\"attachment:parkssizestate.png\" width=\"500\"/>\n",
    "</div>\n",
    "</p>"
   ]
  },
  {
   "cell_type": "markdown",
   "id": "80695080",
   "metadata": {},
   "source": [
    "__Exercise 2:__ Write a program that asks the user to enter a year. Print the number of national parks that have been established since that date.\n",
    "<p>\n",
    "<div>\n",
    "<img src=\"attachment:parkssinceyear.png\" width=\"500\"/>\n",
    "</div>\n",
    "</p>"
   ]
  },
  {
   "cell_type": "markdown",
   "id": "96dd2db4",
   "metadata": {},
   "source": [
    "### Movie Reviews Data\n",
    "\n",
    "We're now going to start working with a data set with movie reviews from the Rotten Tomaties website (data sourced from here: https://www.kaggle.com/c/sentiment-analysis-on-movie-reviews/data) that we will use over the course of several labs. Eventually, we will develop a much larger program than we have so far, and it will have a neat effect.\n",
    "\n",
    "Take a look at the `movie_reviews.csv` file: https://raw.githubusercontent.com/ericmanley/IntroToProgrammingWithPython/refs/heads/main/movie_reviews.csv\n",
    "\n",
    "\n",
    "<p>\n",
    "<div>\n",
    "<img src=\"images/moviereviewdata.png\" width=\"800\"/>\n",
    "</div>\n",
    "</p>\n",
    "\n",
    "Note that it is a csv file with two columns. The first column is a number which represents the number of stars given to a movie by a reviewer (0 means very negative review, 1 means negative, 2 means neutral, 3 means positive, 4 means very positive). The second column is the text of the review - you'll see that the csv file has quotes around things in the second column because some of the reviews could contain commas, and by putting it in quotes, it won't be mistaken for commas that separate different columns - the Python csv module can handle reading this without doing anything special).\n",
    "\n",
    "__Exercise 3:__ Write a program that can search the reviews for a given word, print out any reviews that contain that word, and then report how many reviews matched the search term. Your output could look like this\n",
    "\n",
    "<p>\n",
    "<div>\n",
    "<img src=\"images/movie_review_search.png\" width=\"800\"/>\n",
    "</div>\n",
    "</p>"
   ]
  },
  {
   "cell_type": "markdown",
   "id": "d390fbf3",
   "metadata": {},
   "source": [
    "\n",
    "<p>\n",
    "<div>\n",
    "<img src=\"attachment:movie_review_search.png\" width=\"1000\"/>\n",
    "</div>\n",
    "</p>\n",
    "\n",
    "_Hint:_ Note that you can use the `in` operator to see if one string is contained inside the other:\n"
   ]
  },
  {
   "cell_type": "code",
   "execution_count": 1,
   "id": "2864750a",
   "metadata": {},
   "outputs": [
    {
     "data": {
      "text/plain": [
       "True"
      ]
     },
     "execution_count": 1,
     "metadata": {},
     "output_type": "execute_result"
    }
   ],
   "source": [
    "word = \"amuses\"\n",
    "review = \"A series of escapades demonstrating the adage that what is good for the goose is also good for the gander , some of which occasionally amuses but none of which amounts to much of a story .\"\n",
    "word in review"
   ]
  },
  {
   "cell_type": "markdown",
   "id": "f83c0ccc",
   "metadata": {},
   "source": [
    "__Exercise 4:__ Write a program that will ask the user for a word and then print out the _average number of stars_ of reviews that contain that word (if a single review contains the word more than once, you only need to include it once in the average). Make sure to account for words that don't appear in the reviews so that you don't end up dividing by 0 when computing the average. The output should look like this:\n",
    "\n",
    "<p>\n",
    "<div>\n",
    "<img src=\"images/wordscore.png\" width=\"700\"/>\n",
    "</div>\n",
    "</p>\n",
    "\n",
    "_Hint:_ You can set this up a lot like the previous exercise, but instead of printing the reviews with the search term, add its score onto an accumulator variable."
   ]
  }
 ],
 "metadata": {
  "kernelspec": {
   "display_name": "Python 3 (ipykernel)",
   "language": "python",
   "name": "python3"
  },
  "language_info": {
   "codemirror_mode": {
    "name": "ipython",
    "version": 3
   },
   "file_extension": ".py",
   "mimetype": "text/x-python",
   "name": "python",
   "nbconvert_exporter": "python",
   "pygments_lexer": "ipython3",
   "version": "3.10.6"
  }
 },
 "nbformat": 4,
 "nbformat_minor": 5
}
