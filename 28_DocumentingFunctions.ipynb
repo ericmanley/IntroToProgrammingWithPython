{
 "cells": [
  {
   "cell_type": "markdown",
   "id": "e89d9f25",
   "metadata": {
    "slideshow": {
     "slide_type": "slide"
    }
   },
   "source": [
    "# Documenting Functions\n",
    "#### Introduction to Programming with Python"
   ]
  },
  {
   "attachments": {},
   "cell_type": "markdown",
   "id": "46253128",
   "metadata": {
    "slideshow": {
     "slide_type": "slide"
    }
   },
   "source": [
    "## The `help()` function\n",
    "\n",
    "Python provides a built-in `help()` function that shows you how to use other functions. You can check it out in an interactive cell like this:"
   ]
  },
  {
   "cell_type": "code",
   "execution_count": 1,
   "id": "3daa8a44",
   "metadata": {},
   "outputs": [
    {
     "name": "stdout",
     "output_type": "stream",
     "text": [
      "Help on built-in function len in module builtins:\n",
      "\n",
      "len(obj, /)\n",
      "    Return the number of items in a container.\n",
      "\n"
     ]
    }
   ],
   "source": [
    "help(len)"
   ]
  },
  {
   "cell_type": "markdown",
   "id": "1fc679d3",
   "metadata": {
    "slideshow": {
     "slide_type": "fragment"
    }
   },
   "source": [
    "Go ahead and try it yourself on other functions we've used, like `print`, `max`, and `open`.\n",
    "\n",
    "To use it with a method, you need to use dot notation with an appropriate object, but as above, just use the name and not parentheses."
   ]
  },
  {
   "cell_type": "code",
   "execution_count": 2,
   "id": "89da1188",
   "metadata": {},
   "outputs": [
    {
     "name": "stdout",
     "output_type": "stream",
     "text": [
      "Help on built-in function index:\n",
      "\n",
      "index(value, start=0, stop=9223372036854775807, /) method of builtins.list instance\n",
      "    Return first index of value.\n",
      "    \n",
      "    Raises ValueError if the value is not present.\n",
      "\n"
     ]
    }
   ],
   "source": [
    "help([].index)"
   ]
  },
  {
   "cell_type": "markdown",
   "id": "0b6df65f",
   "metadata": {
    "slideshow": {
     "slide_type": "slide"
    }
   },
   "source": [
    "## Docstrings\n",
    "\n",
    "You can (and should!) support this with your functions too.\n",
    "\n",
    "To do it, add a __docstring__, a multiline comment starting as the first line in your function.\n",
    "\n",
    "Things typically included:\n",
    "* a description of the function's purpose\n",
    "* a description of each parameter - so that they know what to pass as arguments\n",
    "* a description of the return value, if any - so they know how to use what they get back"
   ]
  },
  {
   "cell_type": "code",
   "execution_count": 3,
   "id": "c635704b",
   "metadata": {},
   "outputs": [],
   "source": [
    "def f_to_c(fahrenheit_temp):\n",
    "    \"\"\"\n",
    "    Convert a temperature from Fahrenheit to its Celsius equivalent.\n",
    "    \n",
    "    Paremeters:\n",
    "        fahrenheit_temp: a float, the Fahrenheit temperature to be converted\n",
    "        \n",
    "    Returns:\n",
    "        a float, the temperature converted into Celsius\n",
    "    \"\"\"\n",
    "    celsius_temp = (fahrenheit_temp-32)*(5/9)\n",
    "    return celsius_temp"
   ]
  },
  {
   "cell_type": "code",
   "execution_count": 4,
   "id": "da959e3a",
   "metadata": {},
   "outputs": [
    {
     "name": "stdout",
     "output_type": "stream",
     "text": [
      "Help on function f_to_c in module __main__:\n",
      "\n",
      "f_to_c(fahrenheit_temp)\n",
      "    Convert a temperature from Fahrenheit to its Celsius equivalent.\n",
      "    \n",
      "    Paremeters:\n",
      "        fahrenheit_temp: a float, the Fahrenheit temperature to be converted\n",
      "        \n",
      "    Returns:\n",
      "        a float, the temperature converted into Celsius\n",
      "\n"
     ]
    }
   ],
   "source": [
    "help(f_to_c)"
   ]
  }
 ],
 "metadata": {
  "celltoolbar": "Slideshow",
  "kernelspec": {
   "display_name": "Python 3 (ipykernel)",
   "language": "python",
   "name": "python3"
  },
  "language_info": {
   "codemirror_mode": {
    "name": "ipython",
    "version": 3
   },
   "file_extension": ".py",
   "mimetype": "text/x-python",
   "name": "python",
   "nbconvert_exporter": "python",
   "pygments_lexer": "ipython3",
   "version": "3.10.6"
  }
 },
 "nbformat": 4,
 "nbformat_minor": 5
}
