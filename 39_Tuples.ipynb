{
 "cells": [
  {
   "cell_type": "markdown",
   "id": "ac897494",
   "metadata": {
    "slideshow": {
     "slide_type": "slide"
    }
   },
   "source": [
    "# Tuples\n",
    "#### Introduction to Programming with Python"
   ]
  },
  {
   "cell_type": "markdown",
   "id": "278533ed",
   "metadata": {
    "slideshow": {
     "slide_type": "slide"
    }
   },
   "source": [
    "## Tuple\n",
    "\n",
    "It's an ordered collection like a list, but it uses parentheses ( ) instead of square brackets [ ]"
   ]
  },
  {
   "cell_type": "code",
   "execution_count": 1,
   "id": "181ce6d3",
   "metadata": {},
   "outputs": [
    {
     "name": "stdout",
     "output_type": "stream",
     "text": [
      "Eric\n"
     ]
    }
   ],
   "source": [
    "my_tuple = (\"Eric\",100,3.14)\n",
    "print(my_tuple[0])"
   ]
  },
  {
   "cell_type": "markdown",
   "id": "74deccef",
   "metadata": {
    "slideshow": {
     "slide_type": "fragment"
    }
   },
   "source": [
    "Except, tuples are _immutable_.\n",
    "* You can't change an item in a tuple\n",
    "* There are no methods like `append()`, `insert()`, `pop()`, or `remove()`"
   ]
  },
  {
   "cell_type": "code",
   "execution_count": 2,
   "id": "8b22528b",
   "metadata": {},
   "outputs": [
    {
     "ename": "TypeError",
     "evalue": "'tuple' object does not support item assignment",
     "output_type": "error",
     "traceback": [
      "\u001b[0;31m---------------------------------------------------------------------------\u001b[0m",
      "\u001b[0;31mTypeError\u001b[0m                                 Traceback (most recent call last)",
      "Input \u001b[0;32mIn [2]\u001b[0m, in \u001b[0;36m<cell line: 1>\u001b[0;34m()\u001b[0m\n\u001b[0;32m----> 1\u001b[0m \u001b[43mmy_tuple\u001b[49m\u001b[43m[\u001b[49m\u001b[38;5;241;43m1\u001b[39;49m\u001b[43m]\u001b[49m \u001b[38;5;241m=\u001b[39m \u001b[38;5;241m200\u001b[39m\n",
      "\u001b[0;31mTypeError\u001b[0m: 'tuple' object does not support item assignment"
     ]
    }
   ],
   "source": [
    "my_tuple[1] = 200"
   ]
  },
  {
   "cell_type": "markdown",
   "id": "f224b2c0",
   "metadata": {
    "slideshow": {
     "slide_type": "slide"
    }
   },
   "source": [
    "## Purpose and benefits of tuples\n",
    "\n",
    "Tuples are typically used when you have a grouping of related data that doesn't need to change; whereas, lists are typically used when you have a collection of a bunch of the same thing.\n",
    "\n",
    "Tuples are also \n",
    "* Faster than lists\n",
    "* Safer for things that shouldn't be changed\n",
    "* Expected for working some modules and libraries (including working with images!)"
   ]
  },
  {
   "cell_type": "code",
   "execution_count": 3,
   "id": "ef6fddb3",
   "metadata": {},
   "outputs": [],
   "source": [
    "student_info = (\"Stu Dent\",100123456,\"Computer Science\")\n",
    "\n",
    "student_list = [(\"Stu Dent\",100123456,\"Computer Science\"), (\"Elena Schmidt\",100123457,\"Math\"), \n",
    "                (\"Krystal Harmon\",100123458,\"Computer Science\"), (\"Marcos Hopkins\",100123459,\"Biology\"), \n",
    "                (\"Terry Richardson\",100123460,\"Political Science\")]                                                    "
   ]
  },
  {
   "cell_type": "markdown",
   "id": "b3a7f89f",
   "metadata": {
    "slideshow": {
     "slide_type": "subslide"
    }
   },
   "source": [
    "Tuples can also be used to return more than one thing from a function. We previously wrote code to count the number of national parks in a state and calculate their area. Functions can only return one thing, so what if we want to return the both? One option is to make a tuple of the two things we wish to return like\n",
    "\n",
    "`(num_parks_in_state, size_parks_in_state)`\n",
    "\n",
    "and then return that."
   ]
  },
  {
   "cell_type": "code",
   "execution_count": 8,
   "id": "43777b00",
   "metadata": {},
   "outputs": [
    {
     "name": "stdout",
     "output_type": "stream",
     "text": [
      "(8, 2944702.3)\n"
     ]
    }
   ],
   "source": [
    "import csv\n",
    "\n",
    "def parks_num_size(state):\n",
    "    \n",
    "    with open(\"nationalparks.csv\") as npfile:\n",
    "        parks_2d_list = list(csv.reader(npfile))\n",
    "    \n",
    "    num_parks_in_state = 0\n",
    "    size_parks_in_state = 0\n",
    "    \n",
    "    for park in parks_2d_list:\n",
    "        \n",
    "        if park[1] == state:\n",
    "            num_parks_in_state += 1\n",
    "            size_parks_in_state += float(park[3])\n",
    "    \n",
    "    return (num_parks_in_state, size_parks_in_state)\n",
    "\n",
    "result = parks_num_size(\"California\")\n",
    "print(result)"
   ]
  },
  {
   "cell_type": "markdown",
   "id": "030b662d",
   "metadata": {},
   "source": [
    "Notice that the `result` that is printed is a tuple with two items. We could use list notation to access the individual components like this"
   ]
  },
  {
   "cell_type": "code",
   "execution_count": 9,
   "id": "b795c2b9",
   "metadata": {},
   "outputs": [
    {
     "name": "stdout",
     "output_type": "stream",
     "text": [
      "Total number of parks: 8\n",
      "Total acres: 2944702.3\n"
     ]
    }
   ],
   "source": [
    "print(\"Total number of parks:\",result[0])\n",
    "print(\"Total acres:\",result[1])"
   ]
  },
  {
   "cell_type": "markdown",
   "id": "8d7dcfca",
   "metadata": {},
   "source": [
    "You can even unpack the values of the returned tuple into their own variables like this"
   ]
  },
  {
   "cell_type": "code",
   "execution_count": 10,
   "id": "37b7c8be",
   "metadata": {},
   "outputs": [
    {
     "name": "stdout",
     "output_type": "stream",
     "text": [
      "Total number of parks: 8\n",
      "Total acres: 2944702.3\n"
     ]
    }
   ],
   "source": [
    "(num_parks, park_size) = parks_num_size(\"California\")\n",
    "print(\"Total number of parks:\",num_parks)\n",
    "print(\"Total acres:\",park_size)"
   ]
  },
  {
   "cell_type": "markdown",
   "id": "f8998627",
   "metadata": {},
   "source": [
    "You will also sometimes see this done without the `( )` around the tuple, which can be confusing if you're not familiar with it, but it works the same as the above."
   ]
  },
  {
   "cell_type": "code",
   "execution_count": 11,
   "id": "ec4f7210",
   "metadata": {},
   "outputs": [
    {
     "name": "stdout",
     "output_type": "stream",
     "text": [
      "Total number of parks: 8\n",
      "Total acres: 2944702.3\n"
     ]
    }
   ],
   "source": [
    "num_parks, park_size = parks_num_size(\"California\")\n",
    "print(\"Total number of parks:\",num_parks)\n",
    "print(\"Total acres:\",park_size)"
   ]
  },
  {
   "cell_type": "markdown",
   "id": "13071f52",
   "metadata": {
    "slideshow": {
     "slide_type": "slide"
    }
   },
   "source": [
    "## Single-item tuples\n",
    "\n",
    "You can have tuples with one thing in them, but you need to include a comma to tell Python it's a tuple and not just a parenthesized value. \n",
    "\n",
    "When you put a single value inside parentheses, Python interprets it as an expression and evaluates it. So `(100)` will just be evaluated to `100`, its type will be an integer."
   ]
  },
  {
   "cell_type": "code",
   "execution_count": 12,
   "id": "0873a6ff",
   "metadata": {},
   "outputs": [
    {
     "name": "stdout",
     "output_type": "stream",
     "text": [
      "100 <class 'int'>\n"
     ]
    }
   ],
   "source": [
    "my_val = (100) \n",
    "print(my_val, type(my_val) )"
   ]
  },
  {
   "cell_type": "markdown",
   "id": "ca702b8d",
   "metadata": {},
   "source": [
    "But if we put an extra comma in, like `(100,)`, it will treat it as a tuple with one item in it."
   ]
  },
  {
   "cell_type": "code",
   "execution_count": 13,
   "id": "e4f08702",
   "metadata": {},
   "outputs": [
    {
     "name": "stdout",
     "output_type": "stream",
     "text": [
      "(100,) <class 'tuple'>\n"
     ]
    }
   ],
   "source": [
    "my_monuple = (100,)\n",
    "print(my_monuple, type(my_monuple))"
   ]
  },
  {
   "cell_type": "markdown",
   "id": "7ecdad3e",
   "metadata": {},
   "source": [
    "## Mixing Data Structures\n",
    "\n",
    "It is common in Python to mix data structures like lists and tuples. For example, it might be useful to collect a bunch of student records into a list of tuples like"
   ]
  },
  {
   "cell_type": "code",
   "execution_count": 14,
   "id": "b43f2fa9",
   "metadata": {},
   "outputs": [],
   "source": [
    "student_list = [(\"Stu Dent\",100123456,\"Computer Science\"), (\"Elena Schmidt\",100123457,\"Math\"), \n",
    "                (\"Krystal Harmon\",100123458,\"Computer Science\"), (\"Marcos Hopkins\",100123459,\"Biology\"), \n",
    "                (\"Terry Richardson\",100123460,\"Political Science\")]  "
   ]
  },
  {
   "cell_type": "markdown",
   "id": "c163bbae",
   "metadata": {},
   "source": [
    "This works similarly to a 2-dimensional list. Let's practice with this. Here's an example of how we could loop through this list with a for loop and print out each of the records:"
   ]
  },
  {
   "cell_type": "code",
   "execution_count": 15,
   "id": "d9e35cb7",
   "metadata": {},
   "outputs": [
    {
     "name": "stdout",
     "output_type": "stream",
     "text": [
      "('Stu Dent', 100123456, 'Computer Science')\n",
      "('Elena Schmidt', 100123457, 'Math')\n",
      "('Krystal Harmon', 100123458, 'Computer Science')\n",
      "('Marcos Hopkins', 100123459, 'Biology')\n",
      "('Terry Richardson', 100123460, 'Political Science')\n"
     ]
    }
   ],
   "source": [
    "student_list = [(\"Stu Dent\",100123456,\"Computer Science\"), (\"Elena Schmidt\",100123457,\"Math\"), \n",
    "                (\"Krystal Harmon\",100123458,\"Computer Science\"), (\"Marcos Hopkins\",100123459,\"Biology\"), \n",
    "                (\"Terry Richardson\",100123460,\"Political Science\")]  \n",
    "\n",
    "for record in student_list:\n",
    "    print(record)"
   ]
  },
  {
   "cell_type": "markdown",
   "id": "4187e69e",
   "metadata": {},
   "source": [
    "**Exercise:** Edit the for loop above to instead print the *names* of all *Computer Science* students."
   ]
  }
 ],
 "metadata": {
  "celltoolbar": "Slideshow",
  "kernelspec": {
   "display_name": "Python 3 (ipykernel)",
   "language": "python",
   "name": "python3"
  },
  "language_info": {
   "codemirror_mode": {
    "name": "ipython",
    "version": 3
   },
   "file_extension": ".py",
   "mimetype": "text/x-python",
   "name": "python",
   "nbconvert_exporter": "python",
   "pygments_lexer": "ipython3",
   "version": "3.10.6"
  }
 },
 "nbformat": 4,
 "nbformat_minor": 5
}
