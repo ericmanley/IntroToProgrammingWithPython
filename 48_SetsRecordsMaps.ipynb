{
 "cells": [
  {
   "cell_type": "markdown",
   "id": "9c322a02",
   "metadata": {
    "slideshow": {
     "slide_type": "slide"
    }
   },
   "source": [
    "# Sets, Records, and Maps\n",
    "#### Introduction to Programming with Python"
   ]
  },
  {
   "cell_type": "markdown",
   "id": "74929c49",
   "metadata": {
    "slideshow": {
     "slide_type": "slide"
    }
   },
   "source": [
    "## Sets\n",
    "\n",
    "A __set__ is like a list, but the items don't have any order. You can create one with a similar syntax as a list, except you use `{ }` instead of `[ ]`. Here's an example showing the same data being put into both a list and a set. Notice that when we print them, the set data is different from its original order - that's because sets don't actually store the items in order, and so it could be different every time you run it."
   ]
  },
  {
   "cell_type": "code",
   "execution_count": 1,
   "id": "fa80582a",
   "metadata": {},
   "outputs": [
    {
     "name": "stdout",
     "output_type": "stream",
     "text": [
      "['bread', 'milk', 'rice', 'butter', 'eggs', 'apples']\n",
      "{'apples', 'eggs', 'milk', 'butter', 'rice', 'bread'}\n"
     ]
    }
   ],
   "source": [
    "my_list = [\"bread\",\"milk\",\"rice\",\"butter\",\"eggs\",\"apples\"]\n",
    "my_set = {\"bread\",\"milk\",\"rice\",\"butter\",\"eggs\",\"apples\"}\n",
    "\n",
    "print(my_list)\n",
    "print(my_set)"
   ]
  },
  {
   "cell_type": "markdown",
   "id": "8c70fb2f",
   "metadata": {
    "slideshow": {
     "slide_type": "subslide"
    }
   },
   "source": [
    "## Adding items in sets vs. lists\n",
    "\n",
    "Because sets have no order, there is an _add_ method instead of _append_ and _insert_.\n",
    "\n",
    "Remember, we'd use `.append()` to add a new item to `my_list`. The correspoinding way to do it with a set is to use `.add()`."
   ]
  },
  {
   "cell_type": "code",
   "execution_count": 2,
   "id": "e3695f04",
   "metadata": {},
   "outputs": [
    {
     "name": "stdout",
     "output_type": "stream",
     "text": [
      "['bread', 'milk', 'rice', 'butter', 'eggs', 'apples', 'bananas']\n",
      "{'apples', 'eggs', 'bananas', 'milk', 'butter', 'rice', 'bread'}\n"
     ]
    }
   ],
   "source": [
    "my_list = [\"bread\",\"milk\",\"rice\",\"butter\",\"eggs\",\"apples\"]\n",
    "my_set = {\"bread\",\"milk\",\"rice\",\"butter\",\"eggs\",\"apples\"}\n",
    "\n",
    "my_list.append(\"bananas\")\n",
    "my_set.add(\"bananas\")\n",
    "\n",
    "print(my_list)\n",
    "print(my_set)"
   ]
  },
  {
   "cell_type": "markdown",
   "id": "c57c70a2",
   "metadata": {
    "slideshow": {
     "slide_type": "subslide"
    }
   },
   "source": [
    "### Reflection question\n",
    "\n",
    "The following code has some things you can do with a list. Write a comment for what each of them does, and then try to see if you can do it with a set too. Write down any differences there are between how the list and set work."
   ]
  },
  {
   "cell_type": "code",
   "execution_count": null,
   "id": "0d22ab6b",
   "metadata": {},
   "outputs": [],
   "source": [
    "my_list = [\"bread\",\"milk\",\"rice\",\"butter\",\"eggs\",\"apples\"]\n",
    "my_set = {\"bread\",\"milk\",\"rice\",\"butter\",\"eggs\",\"apples\"}\n",
    "\n",
    "print( len(my_list) )\n",
    "print( my_list[2] )\n",
    "print( \"milk\" in my_list)\n",
    "my_list.remove(\"eggs\")\n",
    "print( my_list )\n",
    "print(my_list.pop())\n",
    "print( my_list )\n",
    "\n",
    "for item in my_list:\n",
    "    print(item)\n"
   ]
  },
  {
   "cell_type": "markdown",
   "id": "50ae9d56",
   "metadata": {
    "slideshow": {
     "slide_type": "slide"
    }
   },
   "source": [
    "## Maps vs. Records\n",
    "\n",
    "Now lets go back to thinking about dictionaries. We've seen them used in two different ways, so lets give some names to these different uses: *maps* and *records*.\n",
    "\n",
    "A __map__ where all the keys are the same kind of thing and all the values are the same kind of thing. The `cs_dept_phonebook` was a *map*.\n",
    "\n",
    "A __record__ is where each of the keys represent different data about the same item. We could make a record with my contact information like `manley_record` below. Note that all of the things in the record are information about one entity. The keys are different data **fields** and the values give this entity's specific values for each of them. "
   ]
  },
  {
   "cell_type": "code",
   "execution_count": null,
   "id": "5ffd0587",
   "metadata": {},
   "outputs": [],
   "source": [
    "cs_dept_phonebook = { \n",
    "                        \"Porter\"  : \"3041\",\n",
    "                        \"Case\"    : \"4618\",\n",
    "                        \"Reza\"  : \"1972\",\n",
    "                        \"Moore\" : \"3110\",\n",
    "                        \"Manley\"  : \"2177\",\n",
    "                        \"Urness\"  : \"2188\",\n",
    "                        \"Migunov\"   : \"1810\",\n",
    "                        \"Rieck\"   : \"3795\"\n",
    "                    } #a map\n",
    "\n",
    "manley_record = {\n",
    "                    \"name\" : \"Eric Manley\",\n",
    "                    \"email\" : \"eric.manley@drake.edu\",\n",
    "                    \"building\" : \"Collier-Scripps Hall\",\n",
    "                    \"room\" : 327,\n",
    "                    \"phone\" : \"(515) 271-2177\"\n",
    "                }"
   ]
  },
  {
   "cell_type": "markdown",
   "id": "ea81c0e8",
   "metadata": {},
   "source": [
    "### Reflection questions\n",
    "\n",
    "Consider the two different ways that we stored city populations (showing only a portion of them for brevity).\n",
    "\n",
    "`[{'city': 'DES MOINES', 'pop': 148155}, \n",
    "{'city': 'CEDAR RAPIDS', 'pop': 116146},\n",
    "{'city': 'DAVENPORT', 'pop': 95743},\n",
    "...\n",
    "]\n",
    "`\n",
    "\n",
    "vs. \n",
    "\n",
    "`{'ACKWORTH': 491, \n",
    "'ADAIR': 1748, \n",
    "'ADEL': 4884, \n",
    "...\n",
    "}`\n",
    "\n",
    "Which one of these is a *map*, and which one is a list of *records*?\n",
    "\n",
    "What is something (i.e., a computational task) that the *map* organization of this data is useful for?\n",
    "\n",
    "What is something that the list of *records* organization of this data is useful for?\n",
    "\n"
   ]
  },
  {
   "cell_type": "markdown",
   "id": "508be965",
   "metadata": {
    "slideshow": {
     "slide_type": "slide"
    }
   },
   "source": [
    "## Movie sales dataset\n",
    "\n",
    "Download the file [`HighestGrossingMovies.json`](https://raw.githubusercontent.com/ericmanley/IntroToProgrammingWithPython/refs/heads/main/HighestGrossingMovies.json) and then put it where you can use it with your Python code (e.g., upload it to Colab). Start by loading the data and investigating how it is organized.\n",
    "\n",
    "*Note:* The data in this file is originally from here (though I restructured it for use in this course): https://www.kaggle.com/sanjeetsinghnaik/top-1000-highest-grossing-movies . Also note that the data is a few years old... *it's an older file, but it checks out.*\n",
    "\n",
    "\n",
    "\n"
   ]
  },
  {
   "cell_type": "code",
   "execution_count": null,
   "id": "f40b8813",
   "metadata": {
    "scrolled": false
   },
   "outputs": [],
   "source": [
    "import json\n",
    "\n",
    "with open(\"HighestGrossingMovies.json\") as moviefile:\n",
    "    movies = json.load(moviefile)\n",
    "    \n",
    "print(movies)"
   ]
  },
  {
   "cell_type": "markdown",
   "id": "5c02bbb2",
   "metadata": {},
   "source": [
    "### Reflection question\n",
    "\n",
    "Is this data organized as a *map* or *records*?"
   ]
  },
  {
   "cell_type": "markdown",
   "id": "96be31e8",
   "metadata": {
    "slideshow": {
     "slide_type": "slide"
    }
   },
   "source": [
    "## Exercise 1\n",
    "\n",
    "For the code above, answer the following questions\n",
    "\n",
    "1. What is the type of the `movies` variable?\n",
    "2. How could you get it to print just the first record? Change the code and run it.\n",
    "3. How could you get it to print the first 5 records? Change the code and run it.\n",
    "    \n"
   ]
  },
  {
   "cell_type": "markdown",
   "id": "2b172996",
   "metadata": {
    "slideshow": {
     "slide_type": "slide"
    }
   },
   "source": [
    "## Exercise 2\n",
    "\n",
    "Run this code after you have loaded the `movies` variable. Describe what it does."
   ]
  },
  {
   "cell_type": "code",
   "execution_count": null,
   "id": "9d5ba0a4",
   "metadata": {},
   "outputs": [],
   "source": [
    "for m in movies:\n",
    "    print(m[\"Title\"])"
   ]
  },
  {
   "cell_type": "markdown",
   "id": "18d8f594",
   "metadata": {
    "slideshow": {
     "slide_type": "slide"
    }
   },
   "source": [
    "## Exercise 3\n",
    "\n",
    "Write the code that will print out the title of all movies that contain `\"Star Wars\"` in their name.\n",
    "\n",
    "_Hint:_ You can check if one string is a substring of another with code like"
   ]
  },
  {
   "cell_type": "code",
   "execution_count": null,
   "id": "ad0edcd0",
   "metadata": {},
   "outputs": [],
   "source": [
    "\"Star Wars\" in \"Star Wars: Episode VII - The Force Awakens (2015)\""
   ]
  },
  {
   "cell_type": "markdown",
   "id": "69a804c3",
   "metadata": {
    "slideshow": {
     "slide_type": "slide"
    }
   },
   "source": [
    "## Exercise 4\n",
    "\n",
    "Write the code that will print the names of all comedies (i.e., movies which contain \"Comedy\" as one of their items in the Genre list). "
   ]
  },
  {
   "cell_type": "markdown",
   "id": "8b4633ba",
   "metadata": {},
   "source": [
    "## Exercise 5\n",
    "\n",
    "Write the code that will determine which comedy had the highest world sales (note that the file seems to be sorted by domestic sales, not world sales, so you will have to loop through all the records)."
   ]
  },
  {
   "cell_type": "markdown",
   "id": "f4c8b10d",
   "metadata": {
    "slideshow": {
     "slide_type": "slide"
    }
   },
   "source": [
    "## Exercise 6\n",
    "\n",
    "Write a function called `most_popular_in_genre` which takes in a list of movie records (in the same format as the `movies` variable above) and the name of a movie genre and returns the record of the movie from that genre with the highest world sales.\n",
    "\n",
    "For example, if I call the function like this:"
   ]
  },
  {
   "cell_type": "code",
   "execution_count": null,
   "id": "a012c4b5",
   "metadata": {},
   "outputs": [],
   "source": [
    "print( most_popular_in_genre(movies,\"Comedy\") )"
   ]
  },
  {
   "cell_type": "markdown",
   "id": "cf884942",
   "metadata": {},
   "source": [
    "it should result in \n",
    "\n",
    "```\n",
    "{'Title': 'Frozen II (2019)', 'Summary': \"Anna, Elsa, Kristoff, Olaf and Sven leave Arendelle to travel to an ancient, autumn-bound forest of an enchanted land. They set out to find the origin of Elsa's powers in order to save their kingdom.\", 'Distributor': 'Walt Disney Studios Motion Pictures', 'Release Date': 'November 20, 2019', 'Domestic Sales': 477373578, 'International Sales': 972653355, 'World Sales': 1450026933, 'Genre': \"['Adventure', 'Animation', 'Comedy', 'Family', 'Fantasy', 'Musical']\", 'Runtime': '1 hr 43 min', 'MPAA Rating': 'PG'}\n",
    "```"
   ]
  }
 ],
 "metadata": {
  "celltoolbar": "Slideshow",
  "kernelspec": {
   "display_name": "Python 3 (ipykernel)",
   "language": "python",
   "name": "python3"
  },
  "language_info": {
   "codemirror_mode": {
    "name": "ipython",
    "version": 3
   },
   "file_extension": ".py",
   "mimetype": "text/x-python",
   "name": "python",
   "nbconvert_exporter": "python",
   "pygments_lexer": "ipython3",
   "version": "3.10.6"
  },
  "varInspector": {
   "cols": {
    "lenName": 16,
    "lenType": 16,
    "lenVar": 40
   },
   "kernels_config": {
    "python": {
     "delete_cmd_postfix": "",
     "delete_cmd_prefix": "del ",
     "library": "var_list.py",
     "varRefreshCmd": "print(var_dic_list())"
    },
    "r": {
     "delete_cmd_postfix": ") ",
     "delete_cmd_prefix": "rm(",
     "library": "var_list.r",
     "varRefreshCmd": "cat(var_dic_list()) "
    }
   },
   "types_to_exclude": [
    "module",
    "function",
    "builtin_function_or_method",
    "instance",
    "_Feature"
   ],
   "window_display": false
  }
 },
 "nbformat": 4,
 "nbformat_minor": 5
}
