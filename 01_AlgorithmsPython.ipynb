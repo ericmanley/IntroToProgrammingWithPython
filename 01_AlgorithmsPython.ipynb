{
 "cells": [
  {
   "cell_type": "markdown",
   "id": "365866b2",
   "metadata": {
    "slideshow": {
     "slide_type": "slide"
    }
   },
   "source": [
    "# Algorithms and Python\n",
    "#### Introduction to Programming with Python\n",
    "\n",
    "[![Open In Colab](https://colab.research.google.com/assets/colab-badge.svg)](https://colab.research.google.com/github/ericmanley/IntroToProgrammingWithPython/blob/main/01_AlgorithmsPython.ipynb)"
   ]
  },
  {
   "cell_type": "markdown",
   "id": "79d52c95",
   "metadata": {
    "slideshow": {
     "slide_type": "slide"
    }
   },
   "source": [
    "## Algorithms\n",
    "\n",
    "__Algorithm__: a sequence of instructions to accomplish a task or solve a problem\n",
    "\n"
   ]
  },
  {
   "cell_type": "markdown",
   "id": "3141092c",
   "metadata": {
    "slideshow": {
     "slide_type": "subslide"
    }
   },
   "source": [
    "<center>\n",
    "<div>\n",
    "<img src=\"images/mapalgorithm.png\" width=\"700\"/>\n",
    "</div>\n",
    "</center>"
   ]
  },
  {
   "cell_type": "markdown",
   "id": "5b4d293e",
   "metadata": {
    "slideshow": {
     "slide_type": "subslide"
    }
   },
   "source": [
    "<center>\n",
    "<div>\n",
    "<img src=\"images/recipealgorithm.png\" width=\"700\"/>\n",
    "</div>\n",
    "</center>"
   ]
  },
  {
   "cell_type": "markdown",
   "id": "3915db25",
   "metadata": {
    "slideshow": {
     "slide_type": "subslide"
    }
   },
   "source": [
    "\n",
    "<center>\n",
    "<div>\n",
    "<img src=\"images/longdivisionalgorithm.jpg\" width=\"400\"/>\n",
    "</div>\n",
    "</center>"
   ]
  },
  {
   "cell_type": "markdown",
   "id": "ed537519",
   "metadata": {
    "slideshow": {
     "slide_type": "slide"
    }
   },
   "source": [
    "## Programs and Programming Languages\n",
    "\n",
    "__Program__: a computer program is a series of instructions for the computer to execute.\n",
    "\n",
    "An algorithm is an _idea_ and the program is a concrete _expression_ of that idea.\n",
    "\n",
    "__Programming Language__: a set of rules that define which programs are legal\n",
    "\n",
    "Like natural languages, programming languages have a _grammar_ and _syntax_ - they describe how instructions are constructed"
   ]
  },
  {
   "cell_type": "markdown",
   "id": "adcd285a",
   "metadata": {
    "cell_style": "split",
    "slideshow": {
     "slide_type": "subslide"
    }
   },
   "source": [
    "## An analogy: Music\n",
    "\n",
    "__Algorithm:__ \"Beethoven's 5th\"\n",
    "\n",
    "__Program:__ This arrangement\n",
    "\n",
    "__Programming Langauge:__ Modern sheet music notation\n"
   ]
  },
  {
   "cell_type": "markdown",
   "id": "73914351",
   "metadata": {
    "cell_style": "split",
    "slideshow": {
     "slide_type": "-"
    }
   },
   "source": [
    "<center>\n",
    "<div>\n",
    "<img src=\"images/beethovens5th.svg\"/>\n",
    "</div>\n",
    "</center>"
   ]
  },
  {
   "cell_type": "markdown",
   "id": "6a7f51f3",
   "metadata": {
    "slideshow": {
     "slide_type": "slide"
    }
   },
   "source": [
    "## Components of Computer Programs\n",
    "- **Basic values**:       500, 3.14, ...\n",
    "- **Basic operations**:   +, -, /, //, *, **, ...\n",
    "- **Sequencing**:         the order instructions are carried out\n",
    "- **Variables**:          names we give to basic values\n",
    "- **Conditionals**:       if …. then ...\n",
    "- **Repetition**:         do X ten times ...\n",
    "- **Subroutines**:        helper algorithms\n",
    "- **Inputs**:             initial values that are given to an algorithm\n",
    "- **Outputs**:            values that are produced by the algorithm"
   ]
  },
  {
   "cell_type": "markdown",
   "id": "9960f77d",
   "metadata": {
    "slideshow": {
     "slide_type": "slide"
    }
   },
   "source": [
    "## Why Python?\n",
    "\n",
    "- It's a **high-level** programming language with simple syntax\n",
    "- It's widely used in industry - in software development, data science, and research\n",
    "- It's versatile and can be used for a variety of paradigms/styles\n",
    "    + **imperative** programming\n",
    "    + **object-oriented** programming\n",
    "    + **functional** programming\n",
    "- It has an easy to use interactive shell environment"
   ]
  },
  {
   "cell_type": "code",
   "execution_count": 1,
   "id": "003e95cd",
   "metadata": {
    "scrolled": true
   },
   "outputs": [
    {
     "name": "stdout",
     "output_type": "stream",
     "text": [
      "Hello world!\n"
     ]
    }
   ],
   "source": [
    "print(\"Hello world!\")"
   ]
  }
 ],
 "metadata": {
  "celltoolbar": "Slideshow",
  "kernelspec": {
   "display_name": "Python 3",
   "language": "python",
   "name": "python3"
  },
  "language_info": {
   "codemirror_mode": {
    "name": "ipython",
    "version": 3
   },
   "file_extension": ".py",
   "mimetype": "text/x-python",
   "name": "python",
   "nbconvert_exporter": "python",
   "pygments_lexer": "ipython3",
   "version": "3.8.8"
  }
 },
 "nbformat": 4,
 "nbformat_minor": 5
}
