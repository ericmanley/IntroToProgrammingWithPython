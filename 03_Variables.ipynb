{
 "cells": [
  {
   "cell_type": "markdown",
   "id": "6daa45ce",
   "metadata": {
    "slideshow": {
     "slide_type": "slide"
    }
   },
   "source": [
    "# Variables\n",
    "#### Introduction to Programming with Python\n",
    "\n",
    "[![Open In Colab](https://colab.research.google.com/assets/colab-badge.svg)](https://colab.research.google.com/github/ericmanley/IntroToProgrammingWithPython/blob/main/03_Variables.ipynb)"
   ]
  },
  {
   "cell_type": "markdown",
   "id": "f5b94a74",
   "metadata": {
    "slideshow": {
     "slide_type": "slide"
    }
   },
   "source": [
    "## Variables\n",
    "\n",
    "__variable:__ a named unit of computer memory that can store a value\n",
    "\n",
    "\n"
   ]
  },
  {
   "cell_type": "markdown",
   "id": "7699fa7e",
   "metadata": {
    "cell_style": "split"
   },
   "source": [
    "They're kind of like cells in a spreadsheet\n",
    "\n"
   ]
  },
  {
   "cell_type": "markdown",
   "id": "5d251216",
   "metadata": {
    "cell_style": "split"
   },
   "source": [
    "\n",
    "\n",
    "<center>\n",
    "<div>\n",
    "<img src=\"images/spreadsheet_memory.png\" width=\"250\" />\n",
    "</div>\n",
    "</center>\n"
   ]
  },
  {
   "cell_type": "markdown",
   "id": "d1b0931e",
   "metadata": {},
   "source": [
    "Cell with _name_ B4 has the _value_ 42, and we can use that value in other computations by referring to its name.\n",
    "\n",
    "In Python, we can do something similar."
   ]
  },
  {
   "cell_type": "code",
   "execution_count": 1,
   "id": "4ccc3848",
   "metadata": {},
   "outputs": [],
   "source": [
    "B4 = 42\n",
    "B5 = B4+10"
   ]
  },
  {
   "cell_type": "code",
   "execution_count": 2,
   "id": "31990b47",
   "metadata": {},
   "outputs": [
    {
     "name": "stdout",
     "output_type": "stream",
     "text": [
      "42\n",
      "52\n"
     ]
    }
   ],
   "source": [
    "print(B4)\n",
    "print(B5)"
   ]
  },
  {
   "cell_type": "markdown",
   "id": "6d6fef5c",
   "metadata": {
    "slideshow": {
     "slide_type": "slide"
    }
   },
   "source": [
    "## Variable Names\n",
    "\n",
    "We can give variables any name we want"
   ]
  },
  {
   "cell_type": "code",
   "execution_count": 3,
   "id": "55610742",
   "metadata": {},
   "outputs": [
    {
     "name": "stdout",
     "output_type": "stream",
     "text": [
      "52\n"
     ]
    }
   ],
   "source": [
    "foo = 42\n",
    "bar = foo + 10\n",
    "print(bar)"
   ]
  },
  {
   "cell_type": "markdown",
   "id": "55a34f23",
   "metadata": {},
   "source": [
    "But... you should give them descriptive names for the sake of humans reading the code"
   ]
  },
  {
   "cell_type": "code",
   "execution_count": 4,
   "id": "04b0f6a0",
   "metadata": {},
   "outputs": [
    {
     "name": "stdout",
     "output_type": "stream",
     "text": [
      "52\n"
     ]
    }
   ],
   "source": [
    "num_students = 42\n",
    "num_adults = 10\n",
    "total_field_trip_lunches = num_students + num_adults\n",
    "print(total_field_trip_lunches) "
   ]
  },
  {
   "cell_type": "markdown",
   "id": "2d8cb629",
   "metadata": {
    "slideshow": {
     "slide_type": "subslide"
    }
   },
   "source": [
    "## Rules for variable names\n",
    "\n",
    "__Allowed:__ upper and lowercase letters, numbers, underscores _\n",
    "\n",
    "__Not Allowed:__ other special characters, spaces"
   ]
  },
  {
   "cell_type": "code",
   "execution_count": 5,
   "id": "7d2c6b1e",
   "metadata": {},
   "outputs": [
    {
     "ename": "SyntaxError",
     "evalue": "invalid syntax (<ipython-input-5-a9f41a7586c7>, line 1)",
     "output_type": "error",
     "traceback": [
      "\u001b[0;36m  File \u001b[0;32m\"<ipython-input-5-a9f41a7586c7>\"\u001b[0;36m, line \u001b[0;32m1\u001b[0m\n\u001b[0;31m    total$ = 42.0\u001b[0m\n\u001b[0m         ^\u001b[0m\n\u001b[0;31mSyntaxError\u001b[0m\u001b[0;31m:\u001b[0m invalid syntax\n"
     ]
    }
   ],
   "source": [
    "total$ = 42.0"
   ]
  },
  {
   "cell_type": "markdown",
   "id": "7150f9b8",
   "metadata": {
    "slideshow": {
     "slide_type": "subslide"
    }
   },
   "source": [
    "Can't _start_ with a number"
   ]
  },
  {
   "cell_type": "code",
   "execution_count": 6,
   "id": "c8bc18cf",
   "metadata": {},
   "outputs": [
    {
     "ename": "SyntaxError",
     "evalue": "invalid syntax (<ipython-input-6-36a4d5abbb0c>, line 1)",
     "output_type": "error",
     "traceback": [
      "\u001b[0;36m  File \u001b[0;32m\"<ipython-input-6-36a4d5abbb0c>\"\u001b[0;36m, line \u001b[0;32m1\u001b[0m\n\u001b[0;31m    5th_grade_students = 42\u001b[0m\n\u001b[0m     ^\u001b[0m\n\u001b[0;31mSyntaxError\u001b[0m\u001b[0;31m:\u001b[0m invalid syntax\n"
     ]
    }
   ],
   "source": [
    "5th_grade_students = 42"
   ]
  },
  {
   "cell_type": "markdown",
   "id": "07884517",
   "metadata": {
    "slideshow": {
     "slide_type": "subslide"
    }
   },
   "source": [
    "Names a _case-sensitive_ (lower/uppercase matters)"
   ]
  },
  {
   "cell_type": "code",
   "execution_count": 7,
   "id": "91033145",
   "metadata": {},
   "outputs": [
    {
     "ename": "NameError",
     "evalue": "name 'Students' is not defined",
     "output_type": "error",
     "traceback": [
      "\u001b[0;31m---------------------------------------------------------------------------\u001b[0m",
      "\u001b[0;31mNameError\u001b[0m                                 Traceback (most recent call last)",
      "\u001b[0;32m<ipython-input-7-18c3e7a0187f>\u001b[0m in \u001b[0;36m<module>\u001b[0;34m\u001b[0m\n\u001b[1;32m      1\u001b[0m \u001b[0mstudents\u001b[0m \u001b[0;34m=\u001b[0m \u001b[0;36m42\u001b[0m\u001b[0;34m\u001b[0m\u001b[0;34m\u001b[0m\u001b[0m\n\u001b[0;32m----> 2\u001b[0;31m \u001b[0mprint\u001b[0m\u001b[0;34m(\u001b[0m\u001b[0mStudents\u001b[0m\u001b[0;34m)\u001b[0m\u001b[0;34m\u001b[0m\u001b[0;34m\u001b[0m\u001b[0m\n\u001b[0m",
      "\u001b[0;31mNameError\u001b[0m: name 'Students' is not defined"
     ]
    }
   ],
   "source": [
    "students = 42\n",
    "print(Students) "
   ]
  },
  {
   "cell_type": "markdown",
   "id": "1fb91aae",
   "metadata": {
    "slideshow": {
     "slide_type": "slide"
    }
   },
   "source": [
    "## Assignment Statements\n",
    "\n",
    "Code with a `=` is called an __assignment statement__"
   ]
  },
  {
   "cell_type": "code",
   "execution_count": 8,
   "id": "f6896f15",
   "metadata": {},
   "outputs": [],
   "source": [
    "students = 42"
   ]
  },
  {
   "cell_type": "markdown",
   "id": "665b825f",
   "metadata": {
    "slideshow": {
     "slide_type": "fragment"
    }
   },
   "source": [
    "Whatever is on the _right_ side of `=` will be evaluated and saved to the variable named on the _left_ side.\n",
    "\n",
    "You can't write it the other way around."
   ]
  },
  {
   "cell_type": "code",
   "execution_count": 10,
   "id": "f5a43c78",
   "metadata": {
    "slideshow": {
     "slide_type": "fragment"
    }
   },
   "outputs": [
    {
     "ename": "SyntaxError",
     "evalue": "cannot assign to literal (<ipython-input-10-e94c5307290e>, line 1)",
     "output_type": "error",
     "traceback": [
      "\u001b[0;36m  File \u001b[0;32m\"<ipython-input-10-e94c5307290e>\"\u001b[0;36m, line \u001b[0;32m1\u001b[0m\n\u001b[0;31m    42 = students\u001b[0m\n\u001b[0m    ^\u001b[0m\n\u001b[0;31mSyntaxError\u001b[0m\u001b[0;31m:\u001b[0m cannot assign to literal\n"
     ]
    }
   ],
   "source": [
    "42 = students"
   ]
  },
  {
   "cell_type": "markdown",
   "id": "2aab93f0",
   "metadata": {
    "slideshow": {
     "slide_type": "slide"
    }
   },
   "source": [
    "## Printing text and variables\n",
    "\n",
    "We've seen printing out text by itself and variables by themselves. What if I want both in the same print statement?\n",
    "\n",
    "You can pass multiple things to `print()` using commas between them."
   ]
  },
  {
   "cell_type": "code",
   "execution_count": 11,
   "id": "eaa89c00",
   "metadata": {},
   "outputs": [
    {
     "name": "stdout",
     "output_type": "stream",
     "text": [
      "There are 42 students who need to eat lunch.\n"
     ]
    }
   ],
   "source": [
    "students = 42\n",
    "print(\"There are\",students,\"students who need to eat lunch.\")"
   ]
  }
 ],
 "metadata": {
  "celltoolbar": "Slideshow",
  "kernelspec": {
   "display_name": "Python 3",
   "language": "python",
   "name": "python3"
  },
  "language_info": {
   "codemirror_mode": {
    "name": "ipython",
    "version": 3
   },
   "file_extension": ".py",
   "mimetype": "text/x-python",
   "name": "python",
   "nbconvert_exporter": "python",
   "pygments_lexer": "ipython3",
   "version": "3.8.8"
  }
 },
 "nbformat": 4,
 "nbformat_minor": 5
}
