{
 "cells": [
  {
   "cell_type": "markdown",
   "id": "fdcf04c6",
   "metadata": {
    "slideshow": {
     "slide_type": "slide"
    }
   },
   "source": [
    "# Objects and Classes\n",
    "#### Introduction to Programming with Python"
   ]
  },
  {
   "cell_type": "markdown",
   "id": "2ee14eb1",
   "metadata": {
    "slideshow": {
     "slide_type": "slide"
    }
   },
   "source": [
    "# Objects\n",
    "\n",
    "An __object__ is something that has _data_ and _methods_ (i.e., functions) associated with it.\n",
    "\n",
    "Almost everything in Python can be considered an object - anything you can use the _dot_ notation with to call a method is an object.\n",
    "\n",
    "Lists are objects. Note that we use the dot notation for methods like `.index()` and `.sort()`."
   ]
  },
  {
   "cell_type": "code",
   "execution_count": null,
   "id": "aaa79a74",
   "metadata": {},
   "outputs": [],
   "source": [
    "#lists are objects\n",
    "rainfall_amounts = [0.0, 0.3, 0.71, 0.0, 0.32, 1.1, 0.4]\n",
    "rainfall_amounts.index(0.3) #index() is a list method\n",
    "rainfall_amounts.sort() #sort() is a list method"
   ]
  },
  {
   "cell_type": "markdown",
   "id": "aeac464f",
   "metadata": {},
   "source": [
    "Strings are objects. Note that we use methods like `.lower()` with them."
   ]
  },
  {
   "cell_type": "code",
   "execution_count": null,
   "id": "78c27a8c",
   "metadata": {},
   "outputs": [],
   "source": [
    "#strings are objects\n",
    "my_string = \"Hello\"\n",
    "my_string.lower()"
   ]
  },
  {
   "cell_type": "markdown",
   "id": "35836c3b",
   "metadata": {},
   "source": [
    "We've also seen that files are objects. For example, we use `.readlines()` with them."
   ]
  },
  {
   "cell_type": "code",
   "execution_count": null,
   "id": "2c07cae8",
   "metadata": {},
   "outputs": [],
   "source": [
    "with open(\"top_female_baby_names_2010s.txt\") as namesfile:\n",
    "    name_list = namesfile.readlines()  #readlines() is a method you can use with files"
   ]
  },
  {
   "cell_type": "markdown",
   "id": "f4465b27",
   "metadata": {
    "slideshow": {
     "slide_type": "subslide"
    }
   },
   "source": [
    "Some imported modules provide objects too. Here's an example of a module called `translate` that includes an object called `Translator`. We can initialize a variable `translator` with one of these objects and then call methods (like `.translate()`) on it."
   ]
  },
  {
   "cell_type": "code",
   "execution_count": 1,
   "id": "adb34f67",
   "metadata": {},
   "outputs": [
    {
     "name": "stdout",
     "output_type": "stream",
     "text": [
      "Enter some English text: I love computer science.\n",
      "Spanish text: Amo las ciencias de la computación.\n"
     ]
    }
   ],
   "source": [
    "import translate\n",
    "\n",
    "#Translator is an object\n",
    "translator = translate.Translator(to_lang=\"Spanish\")\n",
    "\n",
    "english_text = input(\"Enter some English text: \")\n",
    "spanish_text = translator.translate(english_text) #tanslate() is a method\n",
    "print(\"Spanish text:\",spanish_text)"
   ]
  },
  {
   "cell_type": "markdown",
   "id": "dfbb4540",
   "metadata": {
    "slideshow": {
     "slide_type": "slide"
    }
   },
   "source": [
    "## Example: Date object\n",
    "\n",
    "Let's look at the `date` type, which is a type available in the `datetime` module. The `.weekday()` method is an example of a method we could call on it to figure out what day of the week that date falls on."
   ]
  },
  {
   "cell_type": "code",
   "execution_count": 12,
   "id": "4d1c16b3",
   "metadata": {
    "slideshow": {
     "slide_type": "-"
    }
   },
   "outputs": [
    {
     "name": "stdout",
     "output_type": "stream",
     "text": [
      "<class 'datetime.date'>\n",
      "3\n"
     ]
    }
   ],
   "source": [
    "import datetime\n",
    "\n",
    "decl_ind_date = datetime.date(1776,7,4)\n",
    "\n",
    "#datetime.date is a type\n",
    "print( type(decl_ind_date) )\n",
    "\n",
    "#weekday method returns the number of the day of the week this date fell on (0 = Monday, 6 = Sunday)\n",
    "print( decl_ind_date.weekday() ) "
   ]
  },
  {
   "cell_type": "markdown",
   "id": "38a5c45b",
   "metadata": {
    "slideshow": {
     "slide_type": "fragment"
    }
   },
   "source": [
    "In addition to having methods, objects also have __attributes__, which are data values associated with the object.\n",
    "\n",
    "Attributes can be accessed with the dot notation too, but there's no parentheses. Here's an example where we print out the `.month`, `.day`, and `.year` attributes for a date object."
   ]
  },
  {
   "cell_type": "code",
   "execution_count": 13,
   "id": "526a67fd",
   "metadata": {},
   "outputs": [
    {
     "name": "stdout",
     "output_type": "stream",
     "text": [
      "7\n",
      "4\n",
      "1776\n"
     ]
    }
   ],
   "source": [
    "print( decl_ind_date.month )\n",
    "print( decl_ind_date.day )\n",
    "print( decl_ind_date.year )"
   ]
  },
  {
   "cell_type": "markdown",
   "id": "5e920cdc",
   "metadata": {
    "slideshow": {
     "slide_type": "fragment"
    }
   },
   "source": [
    "## Exercise:\n",
    "\n",
    "Write a program that will ask the user for their birthday and then display what day of the week that was on. Here's a start..."
   ]
  },
  {
   "cell_type": "code",
   "execution_count": null,
   "id": "3abd7650",
   "metadata": {},
   "outputs": [],
   "source": [
    "day_names = [\"Monday\",\"Tuesday\",\"Wednesday\",\"Thursday\",\"Friday\",\"Saturday\",\"Sunday\"]\n",
    "bday_year = int(input(\"Enter your birth year: \"))\n",
    "bday_month = int(input(\"Enter your birth month (1-12): \"))\n",
    "bday_day = int(input(\"Enter the day of the month you were born (1-31): \"))\n",
    "\n",
    "#finish the rest of the program here\n"
   ]
  },
  {
   "cell_type": "markdown",
   "id": "a470b3df",
   "metadata": {
    "slideshow": {
     "slide_type": "slide"
    }
   },
   "source": [
    "## Another example: Image objects also have attributes and methods\n",
    "\n",
    "Recall the `PIL` module which has `Image` objects. One example attribute is `.size` which keeps track of the image's size as a tuple. The method `.load()` allowsus to load the image into a pixel list."
   ]
  },
  {
   "cell_type": "code",
   "execution_count": 18,
   "id": "e6a3b469",
   "metadata": {
    "slideshow": {
     "slide_type": "-"
    }
   },
   "outputs": [
    {
     "name": "stdout",
     "output_type": "stream",
     "text": [
      "<class 'PIL.JpegImagePlugin.JpegImageFile'>\n",
      "(732, 412)\n"
     ]
    }
   ],
   "source": [
    "from PIL import Image\n",
    "\n",
    "with Image.open(\"griff.jpg\") as griff_image:\n",
    "    \n",
    "    print( type(griff_image) )\n",
    "    \n",
    "    print(griff_image.size) #size is an attribute of the griff_image object\n",
    "\n",
    "    pixels = griff_image.load() #load() is a method"
   ]
  },
  {
   "cell_type": "markdown",
   "id": "e6fe3b0b",
   "metadata": {
    "slideshow": {
     "slide_type": "slide"
    }
   },
   "source": [
    "## Creating your own types\n",
    "\n",
    "You can create your own type in Python using __classes__\n",
    "\n",
    "Classes allow you to _encapsulate_ data and actions-on-that-data together into one thing - this is an _abstraction_ technique - it's good programming.\n",
    "\n",
    "A _class_ defines how objects behave - it is a blueprint that can be used to create many different objects of that type\n",
    "\n",
    "Syntax:\n",
    "* keyword `class`\n",
    "* a name you decide (by convention, start with uppercase letter)\n",
    "* a colon `:`\n",
    "* indented list of function definitions (i.e., _method_ definitions)\n",
    "    - each method has a parameter called `self` which refers to the particular object being used at that time\n",
    "\n"
   ]
  },
  {
   "cell_type": "code",
   "execution_count": 22,
   "id": "0b22375f",
   "metadata": {},
   "outputs": [
    {
     "name": "stdout",
     "output_type": "stream",
     "text": [
      "<class '__main__.Motivator'>\n",
      "You can do it!\n"
     ]
    }
   ],
   "source": [
    "class Motivator:\n",
    "    \n",
    "    def message1(self):\n",
    "        print(\"You can do it!\")\n",
    "        \n",
    "    def message2(self):\n",
    "        print(\"I'm proud of you!\")\n",
    "        \n",
    "m = Motivator()\n",
    "\n",
    "print( type(m) )\n",
    "\n",
    "m.message1()\n"
   ]
  },
  {
   "cell_type": "markdown",
   "id": "b528117f",
   "metadata": {
    "slideshow": {
     "slide_type": "subslide"
    }
   },
   "source": [
    "## Objects can also have attributes\n",
    "\n",
    "Any attribute can be accessed in any of the class's methods using `self`. Each object of the class has a different set of all the attributes (just like different date objects represent different dates on the calendar)"
   ]
  },
  {
   "cell_type": "code",
   "execution_count": 23,
   "id": "f12807ce",
   "metadata": {},
   "outputs": [
    {
     "name": "stdout",
     "output_type": "stream",
     "text": [
      "You can do it, Eric\n",
      "You can do it, Tim\n"
     ]
    }
   ],
   "source": [
    "class Motivator:\n",
    "    \n",
    "    def message1(self):\n",
    "        print(\"You can do it,\",self.name)\n",
    "        \n",
    "    def message2(self):\n",
    "        print(\"I'm proud of you,\",self.name)\n",
    "        \n",
    "eric_motivator = Motivator()\n",
    "eric_motivator.name = \"Eric\"\n",
    "eric_motivator.message1()\n",
    "\n",
    "tim_motivator = Motivator()\n",
    "tim_motivator.name = \"Tim\"\n",
    "tim_motivator.message1()"
   ]
  },
  {
   "cell_type": "markdown",
   "id": "53860054",
   "metadata": {
    "slideshow": {
     "slide_type": "slide"
    }
   },
   "source": [
    "## Rectangle class example\n",
    "\n",
    "Here's an example of a class representing a rectangle. If your application needs to keep track of rectangles (e.g, for tracking physical spaces like a field that we need to put a fence around or for a virtual object like a video game paddle), then it is often convenient to keep track of all the things that go with rectangels in one place. "
   ]
  },
  {
   "cell_type": "code",
   "execution_count": 24,
   "id": "ae35f874",
   "metadata": {},
   "outputs": [
    {
     "name": "stdout",
     "output_type": "stream",
     "text": [
      "Rectangle 1's area: 50\n",
      "Rectangle 1's perimeter: 30\n",
      "Rectangle 2's area: 6\n",
      "Rectangle 2's perimeter: 10\n"
     ]
    }
   ],
   "source": [
    "class Rectangle:\n",
    "    \"\"\"\n",
    "    Used for representing rectangles\n",
    "    \n",
    "    attributes: length, width\n",
    "    \"\"\"\n",
    "    def area(self):\n",
    "        return self.length*self.width\n",
    "    \n",
    "    def perimeter(self):\n",
    "        return 2*self.length + 2*self.width\n",
    "    \n",
    "rec1 = Rectangle() #instantiates a new object of type Rectangle\n",
    "rec1.length = 5\n",
    "rec1.width = 10\n",
    "print(\"Rectangle 1's area:\", rec1.area() ) # self is rec1 here\n",
    "print(\"Rectangle 1's perimeter:\", rec1.perimeter() )\n",
    "\n",
    "\n",
    "rec2 = Rectangle() #instantiates a new object of type Rectangle\n",
    "rec2.length = 2\n",
    "rec2.width = 3\n",
    "print(\"Rectangle 2's area:\", rec2.area() ) # self is rec2 here\n",
    "print(\"Rectangle 2's perimeter:\", rec2.perimeter() )"
   ]
  },
  {
   "cell_type": "markdown",
   "id": "87e5b08b",
   "metadata": {
    "slideshow": {
     "slide_type": "fragment"
    }
   },
   "source": [
    "### Notice:\n",
    "\n",
    "I have multiple rectangle _objects_ but only _one_ class definition\n",
    "\n",
    "A class is a blueprint for creating many objects - it's like how you can build many houses in a neighborhood from one set of blueprints. There are specific instances of the house, all with different variations like siding color or number of garage spaces, but they all conform to one specific plan. In this analogy, the blueprints/plan would be represented by a *class*, while the individual houses built from it would be the *objects*."
   ]
  },
  {
   "attachments": {},
   "cell_type": "markdown",
   "id": "8421f969",
   "metadata": {
    "slideshow": {
     "slide_type": "fragment"
    }
   },
   "source": [
    "<p>\n",
    "<div>\n",
    "    <center>\n",
    "        <img src=\"images/Allendale-Ranch.png\" width=\"500\"/>\n",
    "    </center>\n",
    "</div>\n",
    "</p>"
   ]
  },
  {
   "cell_type": "markdown",
   "id": "52a2cb76",
   "metadata": {
    "slideshow": {
     "slide_type": "fragment"
    }
   },
   "source": [
    "__Object-oriented programming__ is a popular style of programming that centers on creating custom classes and objects instantiated from those classes."
   ]
  },
  {
   "cell_type": "markdown",
   "id": "d23faa90",
   "metadata": {
    "slideshow": {
     "slide_type": "slide"
    }
   },
   "source": [
    "## What if you don't define the attributes for your object?\n",
    "\n",
    "What happens if we never define the attributes like `rec1.length` or `rec1.width`?\n",
    "\n",
    "__Exercise:__ Try this code and write down what happens and why you think it behaved that way."
   ]
  },
  {
   "cell_type": "code",
   "execution_count": null,
   "id": "c6b80de6",
   "metadata": {
    "slideshow": {
     "slide_type": "slide"
    }
   },
   "outputs": [],
   "source": [
    "class Rectangle:\n",
    "    \"\"\"\n",
    "    Used for representing rectangles\n",
    "    \n",
    "    attributes: length, width\n",
    "    \"\"\"\n",
    "    def area(self):\n",
    "        return self.length*self.width\n",
    "    \n",
    "    def perimeter(self):\n",
    "        return 2*self.length + 2*self.width\n",
    "\n",
    "rec3 = Rectangle()\n",
    "print( rec3.area() )"
   ]
  },
  {
   "cell_type": "markdown",
   "id": "79542a3e",
   "metadata": {
    "slideshow": {
     "slide_type": "fragment"
    }
   },
   "source": [
    "Takeaway: you should never let this happen - we'll now see how to prevent it."
   ]
  },
  {
   "cell_type": "markdown",
   "id": "ec8be198",
   "metadata": {
    "slideshow": {
     "slide_type": "slide"
    }
   },
   "source": [
    "## Initializer Method\n",
    "\n",
    "The __initializer method__ is a method with a special name: `__init__()` that gets called automatically when a new object for that class is created.\n",
    "\n",
    "Note: that's _two_ underscores before and _two_ underscores after `init`.\n",
    "\n",
    "Because `__init__()` is automatically called when the object is created, you can guarantee that some things will happen for every object. Here, we can guarantee that every Rectangle will have a `.length` and `.width` attribute."
   ]
  },
  {
   "cell_type": "code",
   "execution_count": 25,
   "id": "4be18360",
   "metadata": {},
   "outputs": [
    {
     "name": "stdout",
     "output_type": "stream",
     "text": [
      "0\n"
     ]
    }
   ],
   "source": [
    "class Rectangle:\n",
    "    \"\"\"\n",
    "    Used for representing rectangles\n",
    "    \n",
    "    attributes: length, width\n",
    "    \"\"\"\n",
    "    def __init__(self):\n",
    "        self.length = 0\n",
    "        self.width = 0\n",
    "        \n",
    "    def area(self):\n",
    "        return self.length*self.width\n",
    "    \n",
    "    def perimeter(self):\n",
    "        return 2*self.length + 2*self.width\n",
    "    \n",
    "rec4 = Rectangle() #this causes the __init__() method to run\n",
    "print( rec4.area() )"
   ]
  },
  {
   "cell_type": "code",
   "execution_count": 26,
   "id": "1d2c9a79",
   "metadata": {},
   "outputs": [
    {
     "name": "stdout",
     "output_type": "stream",
     "text": [
      "100\n"
     ]
    }
   ],
   "source": [
    "rec4.length = 5\n",
    "rec4.width = 20\n",
    "print( rec4.area() )"
   ]
  },
  {
   "cell_type": "code",
   "execution_count": 27,
   "id": "861b971d",
   "metadata": {},
   "outputs": [
    {
     "name": "stdout",
     "output_type": "stream",
     "text": [
      "50\n"
     ]
    }
   ],
   "source": [
    "print( rec4.perimeter() )"
   ]
  },
  {
   "cell_type": "markdown",
   "id": "d1a35e9e",
   "metadata": {
    "slideshow": {
     "slide_type": "slide"
    }
   },
   "source": [
    "## Passing arguments to the initializer method\n",
    "\n",
    "You can set up any method with more parameters than just `self`.\n",
    "\n",
    "Now this works a lot more like the `date` class we used earlier."
   ]
  },
  {
   "cell_type": "code",
   "execution_count": 28,
   "id": "95d78342",
   "metadata": {},
   "outputs": [
    {
     "name": "stdout",
     "output_type": "stream",
     "text": [
      "35\n"
     ]
    }
   ],
   "source": [
    "class Rectangle:\n",
    "    \"\"\"\n",
    "    Used for representing rectangles\n",
    "    \n",
    "    attributes: length, width\n",
    "    \"\"\"\n",
    "    def __init__(self, starting_length, starting_width):\n",
    "        self.length = starting_length\n",
    "        self.width = starting_width\n",
    "        \n",
    "    def area(self):\n",
    "        return self.length*self.width\n",
    "    \n",
    "    def perimeter(self):\n",
    "        return 2*self.length + 2*self.width\n",
    "    \n",
    "#7 gets passed to starting_length\n",
    "#5 gets passed to starting_width\n",
    "rec5 = Rectangle(7,5) \n",
    "print( rec5.area() )"
   ]
  },
  {
   "cell_type": "markdown",
   "id": "a00e6144",
   "metadata": {
    "slideshow": {
     "slide_type": "fragment"
    }
   },
   "source": [
    "## Exercises\n",
    "\n",
    "Using this version of the `Rectangle` class, do the following.\n",
    "\n",
    "__Exercise 1:__ Ask the user to give you the dimensions of two rectangles, and create `Rectangle` objects for each one. Then, tell the user which rectangle has a larger area.\n",
    "\n",
    "\n",
    "__Exercise 2:__ Add a new attribute to the `Rectangle` class called `color`. Create a new method that does something with this attribute."
   ]
  }
 ],
 "metadata": {
  "celltoolbar": "Slideshow",
  "kernelspec": {
   "display_name": "Python 3 (ipykernel)",
   "language": "python",
   "name": "python3"
  },
  "language_info": {
   "codemirror_mode": {
    "name": "ipython",
    "version": 3
   },
   "file_extension": ".py",
   "mimetype": "text/x-python",
   "name": "python",
   "nbconvert_exporter": "python",
   "pygments_lexer": "ipython3",
   "version": "3.10.6"
  }
 },
 "nbformat": 4,
 "nbformat_minor": 5
}
