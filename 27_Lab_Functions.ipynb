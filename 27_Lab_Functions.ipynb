{
 "cells": [
  {
   "cell_type": "markdown",
   "id": "1c3444b1",
   "metadata": {},
   "source": [
    "# Lab: Defining Functions\n",
    "In this lab, you are going to practice defining your own functions, including those with parameters and return values."
   ]
  },
  {
   "cell_type": "markdown",
   "id": "556539e6",
   "metadata": {},
   "source": [
    "## Warm Up\n",
    "\n",
    "We could write a function to calculate a tip at a restaurant like the following, which mutiplies the check amount by 15% and then displays the result. Try out this code and run some of your own tests as well. "
   ]
  },
  {
   "cell_type": "code",
   "execution_count": 12,
   "id": "7c2143ba",
   "metadata": {},
   "outputs": [
    {
     "name": "stdout",
     "output_type": "stream",
     "text": [
      "1.9304999999999999\n",
      "16.53\n",
      "5.6925\n"
     ]
    }
   ],
   "source": [
    "def tip_calculator(amount):\n",
    "    tip = amount * 0.15\n",
    "    print(tip)\n",
    "    \n",
    "#let's perform some unit tests on this function\n",
    "tip_calculator(12.87)\n",
    "tip_calculator(110.20)\n",
    "tip_calculator(37.95)"
   ]
  },
  {
   "cell_type": "markdown",
   "id": "eacd3ed5",
   "metadata": {},
   "source": [
    "One improvement we could make is to use the built-in `round()` function so that we can display dollar amounts with only two decimal places:"
   ]
  },
  {
   "cell_type": "code",
   "execution_count": 13,
   "id": "140ca8f0",
   "metadata": {},
   "outputs": [
    {
     "name": "stdout",
     "output_type": "stream",
     "text": [
      "1.93\n",
      "16.53\n",
      "5.69\n"
     ]
    }
   ],
   "source": [
    "def tip_calculator(amount):\n",
    "    tip = round(amount * 0.15,2)\n",
    "    print(tip)\n",
    "    \n",
    "#let's perform some unit tests on this function\n",
    "tip_calculator(12.87)\n",
    "tip_calculator(110.20)\n",
    "tip_calculator(37.95)"
   ]
  },
  {
   "cell_type": "markdown",
   "id": "16e2ae6c",
   "metadata": {},
   "source": [
    "You'll now work on a few more improvements to this function.\n",
    "\n",
    "__Excercise 1:__ Change the `tip_calculator` so that it takes two arguments instead of one. The second argument should be the percentage tip that you want to calculate. You should be able to call it like this:"
   ]
  },
  {
   "cell_type": "code",
   "execution_count": 8,
   "id": "f605248c",
   "metadata": {},
   "outputs": [
    {
     "name": "stdout",
     "output_type": "stream",
     "text": [
      "2.32\n",
      "16.53\n",
      "7.59\n"
     ]
    }
   ],
   "source": [
    "tip_calculator(12.87,18) #prints 2.32\n",
    "tip_calculator(110.20,15) #prints 16.53\n",
    "tip_calculator(37.95,20) #prints 7.59"
   ]
  },
  {
   "cell_type": "markdown",
   "id": "24eedbd1",
   "metadata": {},
   "source": [
    "__Exercise 2:__ As we discussed, since the purpose of the above function is to compute a value, it's a bad idea to just print it inside the function. Instead, the value should be returned. Change the `tip_calculator` function so that it returns the value instead. You should now be able to use it with custom code like this:"
   ]
  },
  {
   "cell_type": "code",
   "execution_count": 10,
   "id": "82d7403d",
   "metadata": {},
   "outputs": [
    {
     "name": "stdout",
     "output_type": "stream",
     "text": [
      "What was the total cost of food? 43.50\n",
      "With 18% gratuity, your total bill is 51.33\n"
     ]
    }
   ],
   "source": [
    "cost = float(input(\"What was the total cost of food? \"))\n",
    "print('With 18% gratuity, your total bill is',cost+tip_calculator(cost,18))"
   ]
  },
  {
   "cell_type": "markdown",
   "id": "5ea24295",
   "metadata": {},
   "source": [
    "In your notes, write why the return statement allows this to work but the first version (with the print) did not.\n",
    "\n",
    "In the future, it will almost always be better to return the value from a function rather than print it - it allows you a lot more flexibility in how the function can be used."
   ]
  },
  {
   "attachments": {},
   "cell_type": "markdown",
   "id": "61d2631b",
   "metadata": {},
   "source": [
    "__Exercise 3:__ Rewrite your _letter grade_ exercise from the __Chained Conditional and Logical Operator Practice__ lab so that the function takes a numerical grade as an argument and then returns the letter grade. You should be able to call it and use the result inside a print statement like this (you can do this in either interactive or script mode, but this shows the interactive version):\n",
    "\n",
    "<center>\n",
    "<div>\n",
    "<img src=\"images/lettergradefunction.png\" width=\"400\"/>\n",
    "</div>\n",
    "</center>"
   ]
  },
  {
   "attachments": {},
   "cell_type": "markdown",
   "id": "957f3f7f",
   "metadata": {},
   "source": [
    "__Exercise 4:__ In the __Loops and Lists__ lab, you wrote some code that would convert a list of readings in inches to readings in centimeters. Create a new Python file called `list_convert.py` and write this as a function called `list_in_to_cm()` where the inches list is taken as an argument and the centimeters list is returned. Recall that to convert an inches measurement to centimeters, you multiply it by 2.54. When you unit-test your function, it should look like this:\n",
    "\n",
    "<center>\n",
    "<div>\n",
    "<img src=\"images/list_in_to_cm_output.png\" width=\"600\"/>\n",
    "</div>\n",
    "</center>\n",
    "\n",
    "_Hint:_ Unlike __Exercise 3__, you probably won't be able to just put your code from the previous lab into a function definition. Instead, you will need to write a new loop inside your function definition which uses values from the parameter (which is the inches list) and builds a new list with the equivalent amounts in centimeters.\n"
   ]
  },
  {
   "cell_type": "code",
   "execution_count": null,
   "id": "ecc07fb0",
   "metadata": {},
   "outputs": [],
   "source": []
  }
 ],
 "metadata": {
  "kernelspec": {
   "display_name": "Python 3 (ipykernel)",
   "language": "python",
   "name": "python3"
  },
  "language_info": {
   "codemirror_mode": {
    "name": "ipython",
    "version": 3
   },
   "file_extension": ".py",
   "mimetype": "text/x-python",
   "name": "python",
   "nbconvert_exporter": "python",
   "pygments_lexer": "ipython3",
   "version": "3.10.6"
  }
 },
 "nbformat": 4,
 "nbformat_minor": 5
}
