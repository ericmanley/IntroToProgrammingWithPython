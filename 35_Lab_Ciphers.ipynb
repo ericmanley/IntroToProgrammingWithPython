{
 "cells": [
  {
   "cell_type": "markdown",
   "id": "7a7891be",
   "metadata": {},
   "source": [
    "# Lab: Ciphers\n",
    "In this lab, you will write a program that implements a cipher, which allows you to encrypt and decrypt secret messages. You'll get practice with string processing tasks like iterating through strings and calling new string methods. \n",
    "\n",
    "## Encryption and the Caesar cipher\n",
    "\n",
    "Encryption is the proceses of transforming a message into a new form that obscures its meaning. Encryption is important in many computer applications where sensitive information is involved - e.g., accessing your bank account over the Internet, databases that store customer Social Security Numbers, etc. A message that has not been encrypted is called _plaintext_ whereas a message that has been encrypted is called _ciphertext_.\n",
    "\n",
    "The Caesar cipher is an early encryption algorithm that was famously used by Julius Caesar. It works by substituting every letter with the letter that is three positions before it in the alphabet. For instance, the plaintext message\n",
    "\n",
    "`\"i came i saw i conquered\"`\n",
    "\n",
    "would be encrypted as\n",
    "\n",
    "`\"f zxjb f pxt f zlknrboba\"`\n",
    "\n",
    "Note that it wraps around the alphabet, so `\"c\"` becomes `\"z\"` and `\"a\"` becomes `\"x\"`. The full substitution table is as follows:\n",
    "\n",
    "<table>\n",
    "<tr> <td>plaintext character </td><td> a </td><td> b </td><td> c </td><td> d </td><td> e </td><td> f </td><td> g </td><td> h </td><td> i </td><td> j </td><td> k </td><td> l </td><td> m </td><td> n </td><td> o </td><td> p </td><td> q </td><td> r </td><td> s </td><td> t </td><td> u </td><td> v </td><td> w </td><td> x </td><td> y </td><td> z </td><td></td></tr>\n",
    "<tr><td>ciphertext character </td><td> x </td><td> y </td><td> z </td><td> a </td><td> b </td><td> c </td><td> d </td><td> e </td><td> f </td><td> g </td><td> h </td><td> i </td><td> j </td><td> k </td><td> l </td><td> m </td><td> n </td><td> o </td><td> p </td><td> q </td><td> r </td><td> s </td><td> t </td><td> u </td><td> v </td><td> w </td><td></td></tr>\n",
    "    </table>\n",
    "\n",
    "To decrypt the message, you would reverse this process, and substitute each ciphertext character with the character that is three positions later in the alphabet.\n",
    "\n",
    "In order for the encrypted message to be private, only the intended receiver should know the secret of how it was encrypted."
   ]
  },
  {
   "cell_type": "markdown",
   "id": "6f592a94",
   "metadata": {},
   "source": [
    "## Unicode character codes\n",
    "\n",
    "Previously, you saw that each character in a string is represented by a numerical code. Modern character codes are defined by the Unicode standard. You can find a list of a whole bunch of characters and their equivalent codes here: https://en.wikipedia.org/wiki/List_of_Unicode_characters (see the Decimal column in these tables to find the number). (Note that this is similar to encyption - there is a number that represents every letter; however, it is not actually encryption because the table of substitutions is public knowledge.)\n",
    "\n",
    "Python provides a built-in function called `ord()` (short for \"ordinal\"), which will tell you the Unicode number for any given character."
   ]
  },
  {
   "cell_type": "code",
   "execution_count": 1,
   "id": "a1ac2a4f",
   "metadata": {},
   "outputs": [
    {
     "data": {
      "text/plain": [
       "33"
      ]
     },
     "execution_count": 1,
     "metadata": {},
     "output_type": "execute_result"
    }
   ],
   "source": [
    "ord(\"!\")"
   ]
  },
  {
   "cell_type": "markdown",
   "id": "9945a8a4",
   "metadata": {},
   "source": [
    "Similarly, the `chr()` function will let you do the reverse - look up the character for a Unicode number:"
   ]
  },
  {
   "cell_type": "code",
   "execution_count": 2,
   "id": "08519949",
   "metadata": {},
   "outputs": [
    {
     "data": {
      "text/plain": [
       "'x'"
      ]
     },
     "execution_count": 2,
     "metadata": {},
     "output_type": "execute_result"
    }
   ],
   "source": [
    "chr(120)"
   ]
  },
  {
   "cell_type": "markdown",
   "id": "e8bd0e35",
   "metadata": {},
   "source": [
    "__Exercise 1:__ Try `ord()` and `chr()` with several different characters (e.g., \"a\", \"b\", \"c\", \"q\", \"A\", \"B\", \"C\", \"Q\", \"?\", \":\", \" \", etc.) and several different numbers (97, 98, 99, 120, 65, 66, 67, 88, 33, etc.). Convince yourself that `ord()` and `chr()` really do the inverse operation (looking up the code for a character and a character for a code). Answer the following in your notes.\n",
    "\n",
    "* Are all of the lowercase letters in a row?\n",
    "* Are all of the uppercase letters in a row?\n",
    "* What is really happening when you do comparisons like `\"a\" < \"b\"` and `\"a\" < \"B\"`?"
   ]
  },
  {
   "cell_type": "markdown",
   "id": "56adeafc",
   "metadata": {},
   "source": [
    "## Using `ord()` and `char()` to implement the Caesar cipher\n",
    "\n",
    "To implement the Caesar cipher, we need to be able to convert a plaintext character into a unicode character. One way we might do that in several steps is like this:\n",
    "\n",
    "\n",
    "Let's say we have a plaintext character, `\"i\"`. We start by getting its unicode number like this:"
   ]
  },
  {
   "cell_type": "code",
   "execution_count": 3,
   "id": "e7901b21",
   "metadata": {},
   "outputs": [
    {
     "name": "stdout",
     "output_type": "stream",
     "text": [
      "105\n"
     ]
    }
   ],
   "source": [
    "plaintext_character = \"i\"\n",
    "plaintext_unicode = ord(plaintext_character)\n",
    "print(plaintext_unicode)"
   ]
  },
  {
   "cell_type": "markdown",
   "id": "1681864e",
   "metadata": {},
   "source": [
    "We can then figure out what position in the actual alphabet this number is by subtracting the Unicode number for `\"a\"` since `\"a\"` is first, and they're all in order."
   ]
  },
  {
   "cell_type": "code",
   "execution_count": 4,
   "id": "b08fd254",
   "metadata": {},
   "outputs": [
    {
     "name": "stdout",
     "output_type": "stream",
     "text": [
      "8\n"
     ]
    }
   ],
   "source": [
    "plaintext_alphabet_position = plaintext_unicode - ord(\"a\")\n",
    "print(plaintext_alphabet_position)"
   ]
  },
  {
   "cell_type": "markdown",
   "id": "0404278c",
   "metadata": {},
   "source": [
    "Now we are going to convert this into a ciphertext character by subtracting 3. We'll also take the result modulo 26 - this will make sure that if we have `\"a\"`, `\"b\"`, or `\"c\"`, it will wrap around to the other side of the alphabet instead of giving us a negative number (i.e., because `-1 % 26` is 25, `-2 % 26` is 24, and `-3 % 26` is 23)."
   ]
  },
  {
   "cell_type": "code",
   "execution_count": 5,
   "id": "8e474467",
   "metadata": {},
   "outputs": [
    {
     "name": "stdout",
     "output_type": "stream",
     "text": [
      "5\n"
     ]
    }
   ],
   "source": [
    "ciphertext_alphabet_position = (plaintext_alphabet_position - 3) % 26\n",
    "print(ciphertext_alphabet_position)"
   ]
  },
  {
   "cell_type": "markdown",
   "id": "9ea1c531",
   "metadata": {},
   "source": [
    "We then add the Unicode number for `\"a\"` back on to get an appropriate Unicode number for our ciphertext character."
   ]
  },
  {
   "cell_type": "code",
   "execution_count": 6,
   "id": "733ed30d",
   "metadata": {},
   "outputs": [
    {
     "name": "stdout",
     "output_type": "stream",
     "text": [
      "102\n"
     ]
    }
   ],
   "source": [
    "ciphertext_unicode = ciphertext_alphabet_position + ord(\"a\")\n",
    "print(ciphertext_unicode)"
   ]
  },
  {
   "cell_type": "markdown",
   "id": "8e507aa7",
   "metadata": {},
   "source": [
    "And, then we convert that into an actual character with `chr()`."
   ]
  },
  {
   "cell_type": "code",
   "execution_count": 7,
   "id": "27ec7561",
   "metadata": {},
   "outputs": [
    {
     "name": "stdout",
     "output_type": "stream",
     "text": [
      "f\n"
     ]
    }
   ],
   "source": [
    "ciphertext_character = chr(ciphertext_unicode)\n",
    "print(ciphertext_character)"
   ]
  },
  {
   "cell_type": "markdown",
   "id": "91f5a0a0",
   "metadata": {},
   "source": [
    "Putting it all together..."
   ]
  },
  {
   "cell_type": "code",
   "execution_count": 8,
   "id": "607ab37b",
   "metadata": {},
   "outputs": [
    {
     "name": "stdout",
     "output_type": "stream",
     "text": [
      "f\n"
     ]
    }
   ],
   "source": [
    "plaintext_character = \"i\"\n",
    "plaintext_unicode = ord(plaintext_character)\n",
    "plaintext_alphabet_position = plaintext_unicode - ord(\"a\")\n",
    "ciphertext_alphabet_position = (plaintext_alphabet_position - 3) % 26\n",
    "ciphertext_unicode = ciphertext_alphabet_position + ord(\"a\")\n",
    "ciphertext_character = chr(ciphertext_unicode)\n",
    "print(ciphertext_character)"
   ]
  },
  {
   "attachments": {},
   "cell_type": "markdown",
   "id": "475939bb",
   "metadata": {},
   "source": [
    "__Exercise 2:__ Write a function that does all this called `encrypt_letter()` that takes a string with one letter as an argument and returns the equivalent ciphertext character.\n",
    "\n",
    "\n",
    "<p>\n",
    "<div>\n",
    "<img src=\"images/encrypt_letter.png\" width=\"300\"/>\n",
    "</div>\n",
    "</p>\n"
   ]
  },
  {
   "cell_type": "markdown",
   "id": "28304014",
   "metadata": {},
   "source": [
    "## Encrypting a whole message\n",
    "\n",
    "Recall that you can loop through a string just like you can a list."
   ]
  },
  {
   "cell_type": "code",
   "execution_count": 9,
   "id": "0f14f562",
   "metadata": {},
   "outputs": [
    {
     "name": "stdout",
     "output_type": "stream",
     "text": [
      "i\n",
      "c\n",
      "a\n",
      "m\n",
      "e\n",
      "i\n",
      "s\n",
      "a\n",
      "w\n",
      "i\n",
      "c\n",
      "o\n",
      "n\n",
      "q\n",
      "u\n",
      "e\n",
      "r\n",
      "e\n",
      "d\n"
     ]
    }
   ],
   "source": [
    "my_string = \"icameisawiconquered\"\n",
    "\n",
    "counter = 0\n",
    "while counter < len(my_string):\n",
    "    print(my_string[counter])\n",
    "    counter += 1"
   ]
  },
  {
   "cell_type": "markdown",
   "id": "5dea0240",
   "metadata": {},
   "source": [
    "__Exercise 3:__ Write a new function that encrypts a whole message by doing the following:\n",
    "* take the message to be encrypted as an argument \n",
    "* loop through each letter in the message\n",
    "* use the function you wrote above to convert that letter to its ciphertext equivalent\n",
    "* add the ciphertext letter on to an accumulator variable\n",
    "\n",
    "Note that string accumulator variables work just like numeric ones, except the string grows in size. E.g., "
   ]
  },
  {
   "cell_type": "code",
   "execution_count": 10,
   "id": "f2991fdc",
   "metadata": {},
   "outputs": [
    {
     "name": "stdout",
     "output_type": "stream",
     "text": [
      "hello\n"
     ]
    }
   ],
   "source": [
    "str_accum = \"\"\n",
    "str_accum += \"h\"\n",
    "str_accum += \"e\"\n",
    "str_accum += \"l\"\n",
    "str_accum += \"l\"\n",
    "str_accum += \"o\"\n",
    "print(str_accum)"
   ]
  },
  {
   "attachments": {},
   "cell_type": "markdown",
   "id": "c811070f",
   "metadata": {},
   "source": [
    "Call your function `encrypt_message()`. It should work like this.\n",
    "\n",
    "<p>\n",
    "<div>\n",
    "<img src=\"images/encrypt_message.png\" width=\"500\"/>\n",
    "</div>\n",
    "</p>"
   ]
  },
  {
   "attachments": {},
   "cell_type": "markdown",
   "id": "c8cd1ed0",
   "metadata": {},
   "source": [
    "__Challenge Exercise 4:__ As is, your function doesn't handle uppercase letters or things like spaces or punctuation - it will incorrectly convert them to some lowercase letter or cause an error. We want to instead convert any uppercase letters to lowercase and ignore any character that isn't a letter - simply include the same plaintext values in the ciphertext. The result should look like this:\n",
    "\n",
    "\n",
    "<p>\n",
    "<div>\n",
    "<img src=\"images/improved_encrypt.png\" width=\"550\"/>\n",
    "</div>\n",
    "</p>"
   ]
  },
  {
   "cell_type": "markdown",
   "id": "549705d6",
   "metadata": {},
   "source": [
    "In order to support this, you will need to change your `encrypt_message()` function to \n",
    "* convert the plaintext string to all lowercase before finding its ciphertext\n",
    "* while converting to ciphertext, only call `encrypt_letter()` on letters; otherwise, just add the non-letter character onto your accumulator variable\n",
    "\n",
    "_Hint:_ There are string methods for both of these things. Look to see what you can find at https://www.w3schools.com/python/python_ref_string.asp"
   ]
  },
  {
   "attachments": {},
   "cell_type": "markdown",
   "id": "d573a374",
   "metadata": {},
   "source": [
    "## Optional extra\n",
    "\n",
    "Most encryption algorithms don't require the algorithm itself to be secret. Instead, they rely on encryption _keys_. For the Caesar cipher, you could add a key to the algorithm by using a different alphabet shifting amount (other than 3), and you can agree to this _key_ value ahead of time with the person you want to communicate with privately.\n",
    "\n",
    "__Optional Exercise 5:__ Change your algorithm so that it supports using a key. For the Caesar cipher, this can also allow you to decrypt the message by using the negative version of the key. For example:\n",
    "\n",
    "\n",
    "<p>\n",
    "<div>\n",
    "<img src=\"images/encrypt_key.png\" width=\"550\"/>\n",
    "</div>\n",
    "</p>"
   ]
  },
  {
   "cell_type": "code",
   "execution_count": null,
   "id": "8660f7b0",
   "metadata": {},
   "outputs": [],
   "source": []
  }
 ],
 "metadata": {
  "kernelspec": {
   "display_name": "Python 3 (ipykernel)",
   "language": "python",
   "name": "python3"
  },
  "language_info": {
   "codemirror_mode": {
    "name": "ipython",
    "version": 3
   },
   "file_extension": ".py",
   "mimetype": "text/x-python",
   "name": "python",
   "nbconvert_exporter": "python",
   "pygments_lexer": "ipython3",
   "version": "3.10.6"
  }
 },
 "nbformat": 4,
 "nbformat_minor": 5
}
